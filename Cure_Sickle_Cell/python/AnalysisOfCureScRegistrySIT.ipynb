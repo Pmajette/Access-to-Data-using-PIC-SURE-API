{
 "cells": [
  {
   "cell_type": "code",
   "execution_count": 1,
   "metadata": {},
   "outputs": [],
   "source": [
    "#PIC-SURE\n",
    "import PicSureClient\n",
    "import PicSureHpdsLib\n",
    "#STATS\n",
    "import pandas as pd\n",
    "import numpy as np\n",
    "import matplotlib\n",
    "import matplotlib.pyplot as plt\n",
    "import math\n",
    "import statistics as stat\n",
    "from scipy.stats import ttest_1samp\n",
    "import tokenManager\n",
    "import re\n",
    "\n",
    "fig_size = matplotlib.rcParams[\"figure.figsize\"]\n",
    " \n",
    "# Prints: [8.0, 6.0]\n",
    "fig_size[0] = 14\n",
    "fig_size[1] = 8\n",
    "matplotlib.rcParams[\"figure.figsize\"] = fig_size\n",
    "\n",
    "font = {'weight' : 'bold',\n",
    "        'size'   : 12}\n",
    "\n",
    "matplotlib.rc('font', **font)"
   ]
  },
  {
   "cell_type": "code",
   "execution_count": 2,
   "metadata": {},
   "outputs": [],
   "source": [
    "hemF_string = 'HemoglobinF_percent'\n",
    "hemS_string = 'HemoglobinS_percent'"
   ]
  },
  {
   "cell_type": "code",
   "execution_count": 3,
   "metadata": {},
   "outputs": [],
   "source": [
    "def getTermList(srch):\n",
    "    terms = resource.dictionary().find(srch)\n",
    "    term_list = terms.keys()\n",
    "    term_list.sort()\n",
    "    i = 0\n",
    "    print(\"-------------------------\")\n",
    "    print(\"List for\", srch)\n",
    "    print(\"-------------------------\")\n",
    "    for term in term_list:\n",
    "        print(i, \" | \", term)\n",
    "        i += 1\n",
    "    return term_list \n",
    "\n",
    "def createNewPaths(df):\n",
    "    newPaths = []\n",
    "    cols = df.columns.values[1:]\n",
    "    for col in cols:        \n",
    "        comps = col.split('\\\\')\n",
    "        newPath = comps[-2] if '. ' not in comps[-2] else comps[-2].rsplit('. ')[1]\n",
    "        #idx = [i for i, item in enumerate(comps) if re.search('^S\\d+\\w*', item)][0]\n",
    "        #comps4NewPath = comps[2:idx]\n",
    "        #for comp in comps4NewPath:\n",
    "        #    newPath += '\\\\' + comp \n",
    "        newPaths.append(newPath)\n",
    "    return newPaths\n",
    "\n",
    "def printColumnsIndex(df):\n",
    "    i = 0\n",
    "    for col in df.columns:\n",
    "        print(i,\" | \",col)\n",
    "        i += 1\n",
    "\n",
    "def recodeAge(age):\n",
    "        if float(age) <= 5:\n",
    "            return \"5 and under\"\n",
    "        else:\n",
    "            if float(age) >= 15:\n",
    "                return \"15 and over\"\n",
    "            else:\n",
    "                return \"between 5 and 15\"\n",
    "\n",
    "def recodeHgbLevels(hgbLevel):\n",
    "        if float(hgbLevel) <= 2.0:\n",
    "            return \"Normal\"\n",
    "        else:\n",
    "            if float(hgbLevel) >= 15:\n",
    "                return \"Extremely High\"\n",
    "            else:\n",
    "                return \"High\"\n",
    "            \n",
    "def processValuesInColumn(column):\n",
    "    accHemFV = []\n",
    "    for item in column:\n",
    "        total, mean = 0.0, 0.0\n",
    "        if ';' in item:\n",
    "            values = item.split(';')\n",
    "            for val in values:\n",
    "                total += float(val)\n",
    "            mean = total/len(values)\n",
    "        else:\n",
    "            mean = float(item)\n",
    "        accHemFV.append(mean)\n",
    "    return accHemFV"
   ]
  },
  {
   "cell_type": "code",
   "execution_count": 4,
   "metadata": {},
   "outputs": [
    {
     "name": "stdout",
     "output_type": "stream",
     "text": [
      "\u001b[32m\n",
      "[_Security_Token_Imported_Correctly_]\n"
     ]
    }
   ],
   "source": [
    "PICSURE_network_URL = <picsure-scd-url>\n",
    "resource_id = <resource_id>\n",
    "token_name = \"token.txt\"\n",
    "__token__ = tokenManager.importToken(token_name)"
   ]
  },
  {
   "cell_type": "code",
   "execution_count": 5,
   "metadata": {},
   "outputs": [],
   "source": [
    "client = PicSureClient.Client()\n",
    "connection = client.connect(PICSURE_network_URL, __token__)\n",
    "adapter = PicSureHpdsLib.Adapter(connection)\n",
    "#adapter.list()\n",
    "resource = adapter.useResource(resource_id)"
   ]
  },
  {
   "cell_type": "code",
   "execution_count": 6,
   "metadata": {},
   "outputs": [
    {
     "name": "stdout",
     "output_type": "stream",
     "text": [
      "-------------------------\n",
      "List for 00 - Demographics\\Gender\n",
      "-------------------------\n",
      "0  |  \\SIT - Cure Sickle Cell\\00 - Demographics\\Gender\\\n",
      "-------------------------\n",
      "List for 00 - Demographics\\Age at inclusion\n",
      "-------------------------\n",
      "0  |  \\SIT - Cure Sickle Cell\\00 - Demographics\\Age at inclusion\\\n",
      "-------------------------\n",
      "List for percent of type s hemoglobin\n",
      "-------------------------\n",
      "0  |  \\SIT - Cure Sickle Cell\\01 - Arm 4: Screening\\01 - Screening\\01 - Demographics and phenotypes\\S02r0 Demographic And Phenotypic Information (s02r0_demographic_and_phenotypic_information)\\05 - Sickle cell\\47A. Percent of Type S hemoglobin (xx %):\\\n",
      "1  |  \\SIT - Cure Sickle Cell\\01 - Arm 4: Screening\\01 - Screening\\01 - Demographics and phenotypes\\S02r1 Demographic And Phenotypic Information (s02r1_demographic_and_phenotypic_information)\\05 - Sickle cell\\47A. Percent of Type S hemoglobin (xx %):\\\n",
      "2  |  \\SIT - Cure Sickle Cell\\01 - Arm 4: Screening\\02 - Re-screening 1\\S02r1 Demographic And Phenotypic Information (s02r1_demographic_and_phenotypic_information)\\47A. Percent of Type S hemoglobin (xx %):\\\n",
      "3  |  \\SIT - Cure Sickle Cell\\02 - Arm 1: Treatment: Transfusion\\M36 (Q12) Annual 3: END\\S02r1 Demographic And Phenotypic Information (s02r1_demographic_and_phenotypic_information)\\47A. Percent of Type S hemoglobin (xx %):\\\n",
      "4  |  \\SIT - Cure Sickle Cell\\04 - Arm 3: Observation: Non-Transfusion\\M36 (Q12) Annual 3: END\\S02r1 Demographic And Phenotypic Information (s02r1_demographic_and_phenotypic_information)\\47A. Percent of Type S hemoglobin (xx %):\\\n",
      "-------------------------\n",
      "List for percent of type f hemoglobin\n",
      "-------------------------\n",
      "0  |  \\SIT - Cure Sickle Cell\\01 - Arm 4: Screening\\01 - Screening\\01 - Demographics and phenotypes\\S02r0 Demographic And Phenotypic Information (s02r0_demographic_and_phenotypic_information)\\05 - Sickle cell\\47B. Percent of Type F hemoglobin (xx %):\\\n",
      "1  |  \\SIT - Cure Sickle Cell\\01 - Arm 4: Screening\\01 - Screening\\01 - Demographics and phenotypes\\S02r1 Demographic And Phenotypic Information (s02r1_demographic_and_phenotypic_information)\\05 - Sickle cell\\47B. Percent of Type F hemoglobin (xx %):\\\n",
      "2  |  \\SIT - Cure Sickle Cell\\01 - Arm 4: Screening\\02 - Re-screening 1\\S02r1 Demographic And Phenotypic Information (s02r1_demographic_and_phenotypic_information)\\47B. Percent of Type F hemoglobin (xx %):\\\n",
      "3  |  \\SIT - Cure Sickle Cell\\02 - Arm 1: Treatment: Transfusion\\M36 (Q12) Annual 3: END\\S02r1 Demographic And Phenotypic Information (s02r1_demographic_and_phenotypic_information)\\47B. Percent of Type F hemoglobin (xx %):\\\n",
      "4  |  \\SIT - Cure Sickle Cell\\04 - Arm 3: Observation: Non-Transfusion\\M36 (Q12) Annual 3: END\\S02r1 Demographic And Phenotypic Information (s02r1_demographic_and_phenotypic_information)\\47B. Percent of Type F hemoglobin (xx %):\\\n"
     ]
    }
   ],
   "source": [
    "genderTerms = getTermList('00 - Demographics\\Gender')\n",
    "ageTerms = getTermList('00 - Demographics\\Age at inclusion')\n",
    "hemoglobin_sTerms = getTermList('percent of type s hemoglobin')\n",
    "hemoglobin_fTerms = getTermList('percent of type f hemoglobin')"
   ]
  },
  {
   "cell_type": "code",
   "execution_count": 7,
   "metadata": {},
   "outputs": [
    {
     "data": {
      "text/plain": [
       "<PicSureHpdsLib.PicSureHpdsAttrListKeys.AttrListKeys at 0x10ad28828>"
      ]
     },
     "execution_count": 7,
     "metadata": {},
     "output_type": "execute_result"
    }
   ],
   "source": [
    "query = resource.query()\n",
    "query.select().add(hemoglobin_sTerms)\n",
    "query.select().add(hemoglobin_fTerms)\n",
    "query.select().add(genderTerms)\n",
    "query.select().add(ageTerms)"
   ]
  },
  {
   "cell_type": "code",
   "execution_count": 8,
   "metadata": {},
   "outputs": [
    {
     "data": {
      "text/plain": [
       "Index(['Patient ID', 'Age at inclusion', 'Gender',\n",
       "       'Percent of Type S hemoglobin (xx %):',\n",
       "       'Percent of Type F hemoglobin (xx %):',\n",
       "       'Percent of Type S hemoglobin (xx %):',\n",
       "       'Percent of Type F hemoglobin (xx %):',\n",
       "       'Percent of Type S hemoglobin (xx %):',\n",
       "       'Percent of Type F hemoglobin (xx %):',\n",
       "       'Percent of Type S hemoglobin (xx %):',\n",
       "       'Percent of Type F hemoglobin (xx %):',\n",
       "       'Percent of Type S hemoglobin (xx %):',\n",
       "       'Percent of Type F hemoglobin (xx %):'],\n",
       "      dtype='object')"
      ]
     },
     "execution_count": 8,
     "metadata": {},
     "output_type": "execute_result"
    }
   ],
   "source": [
    "df = query.getResultsDataFrame()\n",
    "cols = createNewPaths(df) #Eliminate components in the path that are irrelevant\n",
    "df.columns.values[1:] = cols\n",
    "df.columns"
   ]
  },
  {
   "cell_type": "code",
   "execution_count": 9,
   "metadata": {},
   "outputs": [
    {
     "data": {
      "text/plain": [
       "Index(['Age at inclusion', 'Gender', 'Patient ID',\n",
       "       'Percent of Type F hemoglobin (xx %):',\n",
       "       'Percent of Type S hemoglobin (xx %):'],\n",
       "      dtype='object')"
      ]
     },
     "execution_count": 9,
     "metadata": {},
     "output_type": "execute_result"
    }
   ],
   "source": [
    "def sjoin(x) : return ';'.join(x[x.notnull()].astype(str))\n",
    "cdf = df.groupby(level=0, axis=1).apply(lambda x : x.apply(sjoin, axis=1))\n",
    "cdf.columns"
   ]
  },
  {
   "cell_type": "code",
   "execution_count": 10,
   "metadata": {},
   "outputs": [],
   "source": [
    "cols = cdf.columns.values\n",
    "cols[0] = 'Age'\n",
    "cols[3] = hemF_string\n",
    "cols[4] = hemS_string\n",
    "cdf.columns = cols"
   ]
  },
  {
   "cell_type": "code",
   "execution_count": 11,
   "metadata": {},
   "outputs": [],
   "source": [
    "acdf = cdf[(cdf[hemS_string] != '') & (cdf['Age'] != '') & (cdf['Gender'] != '') & \n",
    "          (cdf[hemF_string] != '')]"
   ]
  },
  {
   "cell_type": "code",
   "execution_count": 12,
   "metadata": {},
   "outputs": [
    {
     "name": "stderr",
     "output_type": "stream",
     "text": [
      "/usr/local/lib/python3.7/site-packages/ipykernel_launcher.py:1: SettingWithCopyWarning: \n",
      "A value is trying to be set on a copy of a slice from a DataFrame.\n",
      "Try using .loc[row_indexer,col_indexer] = value instead\n",
      "\n",
      "See the caveats in the documentation: http://pandas.pydata.org/pandas-docs/stable/user_guide/indexing.html#returning-a-view-versus-a-copy\n",
      "  \"\"\"Entry point for launching an IPython kernel.\n",
      "/usr/local/lib/python3.7/site-packages/ipykernel_launcher.py:2: SettingWithCopyWarning: \n",
      "A value is trying to be set on a copy of a slice from a DataFrame.\n",
      "Try using .loc[row_indexer,col_indexer] = value instead\n",
      "\n",
      "See the caveats in the documentation: http://pandas.pydata.org/pandas-docs/stable/user_guide/indexing.html#returning-a-view-versus-a-copy\n",
      "  \n"
     ]
    }
   ],
   "source": [
    "acdf[hemS_string] = processValuesInColumn(acdf[hemS_string])\n",
    "acdf[hemF_string] = processValuesInColumn(acdf[hemF_string])"
   ]
  },
  {
   "cell_type": "code",
   "execution_count": 13,
   "metadata": {},
   "outputs": [
    {
     "name": "stderr",
     "output_type": "stream",
     "text": [
      "/usr/local/lib/python3.7/site-packages/ipykernel_launcher.py:1: SettingWithCopyWarning: \n",
      "A value is trying to be set on a copy of a slice from a DataFrame.\n",
      "Try using .loc[row_indexer,col_indexer] = value instead\n",
      "\n",
      "See the caveats in the documentation: http://pandas.pydata.org/pandas-docs/stable/user_guide/indexing.html#returning-a-view-versus-a-copy\n",
      "  \"\"\"Entry point for launching an IPython kernel.\n",
      "/usr/local/lib/python3.7/site-packages/ipykernel_launcher.py:2: SettingWithCopyWarning: \n",
      "A value is trying to be set on a copy of a slice from a DataFrame.\n",
      "Try using .loc[row_indexer,col_indexer] = value instead\n",
      "\n",
      "See the caveats in the documentation: http://pandas.pydata.org/pandas-docs/stable/user_guide/indexing.html#returning-a-view-versus-a-copy\n",
      "  \n",
      "/usr/local/lib/python3.7/site-packages/ipykernel_launcher.py:3: SettingWithCopyWarning: \n",
      "A value is trying to be set on a copy of a slice from a DataFrame.\n",
      "Try using .loc[row_indexer,col_indexer] = value instead\n",
      "\n",
      "See the caveats in the documentation: http://pandas.pydata.org/pandas-docs/stable/user_guide/indexing.html#returning-a-view-versus-a-copy\n",
      "  This is separate from the ipykernel package so we can avoid doing imports until\n"
     ]
    }
   ],
   "source": [
    "acdf['AgeCategories'] = acdf.Age.apply(recodeAge)\n",
    "acdf['HemoglobinF_Levels'] = acdf.HemoglobinF_percent.apply(recodeHgbLevels)\n",
    "acdf['HemoglobinS_Levels'] = acdf.HemoglobinS_percent.apply(recodeHgbLevels)"
   ]
  },
  {
   "cell_type": "code",
   "execution_count": 14,
   "metadata": {},
   "outputs": [
    {
     "data": {
      "text/html": [
       "<div>\n",
       "<style scoped>\n",
       "    .dataframe tbody tr th:only-of-type {\n",
       "        vertical-align: middle;\n",
       "    }\n",
       "\n",
       "    .dataframe tbody tr th {\n",
       "        vertical-align: top;\n",
       "    }\n",
       "\n",
       "    .dataframe thead th {\n",
       "        text-align: right;\n",
       "    }\n",
       "</style>\n",
       "<table border=\"1\" class=\"dataframe\">\n",
       "  <thead>\n",
       "    <tr style=\"text-align: right;\">\n",
       "      <th></th>\n",
       "      <th>Patient ID</th>\n",
       "      <th>HemoglobinF_Levels</th>\n",
       "      <th>HemoglobinS_Levels</th>\n",
       "    </tr>\n",
       "  </thead>\n",
       "  <tbody>\n",
       "    <tr>\n",
       "      <th>11</th>\n",
       "      <td>P4</td>\n",
       "      <td>High</td>\n",
       "      <td>Extremely High</td>\n",
       "    </tr>\n",
       "    <tr>\n",
       "      <th>14</th>\n",
       "      <td>P7</td>\n",
       "      <td>Extremely High</td>\n",
       "      <td>Extremely High</td>\n",
       "    </tr>\n",
       "    <tr>\n",
       "      <th>18</th>\n",
       "      <td>P1</td>\n",
       "      <td>Normal</td>\n",
       "      <td>Extremely High</td>\n",
       "    </tr>\n",
       "    <tr>\n",
       "      <th>16</th>\n",
       "      <td>P9</td>\n",
       "      <td>High</td>\n",
       "      <td>Extremely High</td>\n",
       "    </tr>\n",
       "    <tr>\n",
       "      <th>19</th>\n",
       "      <td>P2</td>\n",
       "      <td>High</td>\n",
       "      <td>Extremely High</td>\n",
       "    </tr>\n",
       "  </tbody>\n",
       "</table>\n",
       "</div>"
      ],
      "text/plain": [
       "     Patient ID HemoglobinF_Levels HemoglobinS_Levels\n",
       "11       P4               High     Extremely High\n",
       "14       P7     Extremely High     Extremely High\n",
       "18       P1             Normal     Extremely High\n",
       "16       P9               High     Extremely High\n",
       "19       P2               High     Extremely High"
      ]
     },
     "execution_count": 14,
     "metadata": {},
     "output_type": "execute_result"
    }
   ],
   "source": [
    "acm_df = acdf[(acdf['Gender'] == 'Male') & (acdf['AgeCategories'] == 'between 5 and 15')]\n",
    "acf_df = acdf[(acdf['Gender'] == 'Female') & (acdf['AgeCategories'] == 'between 5 and 15')]\n",
    "acm_abb_df = acm_df[['Patient ID', 'HemoglobinF_Levels', 'HemoglobinS_Levels']]\n",
    "acf_abb_df = acf_df[['Patient ID', 'HemoglobinF_Levels', 'HemoglobinS_Levels']]\n",
    "acm_abb_df.tail()"
   ]
  },
  {
   "cell_type": "code",
   "execution_count": 15,
   "metadata": {},
   "outputs": [],
   "source": [
    "acm_hgbf_df = pd.DataFrame(acm_abb_df.groupby('HemoglobinF_Levels').HemoglobinF_Levels.count())\n",
    "acm_hgbf_df['Percent'] = (acm_hgbf_df.HemoglobinF_Levels / acm_hgbf_df.HemoglobinF_Levels.sum())*100\n",
    "acf_hgbf_df = pd.DataFrame(acf_abb_df.groupby('HemoglobinF_Levels').HemoglobinF_Levels.count())\n",
    "acf_hgbf_df['Percent'] = (acf_hgbf_df.HemoglobinF_Levels / acf_hgbf_df.HemoglobinF_Levels.sum())*100"
   ]
  },
  {
   "cell_type": "code",
   "execution_count": 16,
   "metadata": {},
   "outputs": [
    {
     "data": {
      "image/png": "[encoded data removed]",
      "text/plain": [
       "<Figure size 432x288 with 1 Axes>"
      ]
     },
     "metadata": {
      "needs_background": "light"
     },
     "output_type": "display_data"
    }
   ],
   "source": [
    "labels = ['Normal', 'High', 'Extremely High']\n",
    "x = np.arange(len(labels))\n",
    "hf_women = list(acf_hgbf_df.loc[['Normal', 'High', 'Extremely High']]['HemoglobinF_Levels'])\n",
    "hf_men = list(acm_hgbf_df.loc[['Normal', 'High', 'Extremely High']]['HemoglobinF_Levels'])\n",
    "width = 0.35\n",
    "\n",
    "fig, ax = plt.subplots()\n",
    "rects1 = ax.bar(x - width/2, hf_women, width, label='Women') \n",
    "rects2 = ax.bar(x + width/2, hf_men, width, label='Men')\n",
    "\n",
    "ax.set_ylabel('Percentages')\n",
    "ax.set_title('''SIT Registry: \n",
    "                Hemoglobin F Percentages in Male and Female Patients with \n",
    "                Sickle Cell Disease Ages 5 - 15''')\n",
    "ax.set_xticks(x)\n",
    "ax.set_xticklabels(labels)\n",
    "ax.legend()\n",
    "\n",
    "def autolabel(rects):\n",
    "    \"\"\"Attach a text label above each bar in *rects*, displaying its height.\"\"\"\n",
    "    for rect in rects:\n",
    "        height = rect.get_height()\n",
    "        ax.annotate('{}'.format(height),\n",
    "                    xy=(rect.get_x() + rect.get_width() / 2, height),\n",
    "                    xytext=(0, 3),  # 3 points vertical offset\n",
    "                    textcoords=\"offset points\",\n",
    "                    ha='center', va='bottom')\n",
    "autolabel(rects1)\n",
    "autolabel(rects2)\n",
    "\n",
    "fig.tight_layout()\n",
    "plt.show()"
   ]
  },
  {
   "cell_type": "code",
   "execution_count": 17,
   "metadata": {},
   "outputs": [
    {
     "name": "stdout",
     "output_type": "stream",
     "text": [
      "p-value: 3.066257301013124e-143\n"
     ]
    }
   ],
   "source": [
    "hgbf_percentages = list(acdf[acdf['AgeCategories'] == 'between 5 and 15'][hemF_string])\n",
    "mu = 1.4 #Population values range from 0.8 to 2. We take mu to be the average of these extremes\n",
    "tset, pval = ttest_1samp(hgbf_percentages, mu)\n",
    "print(\"p-value:\", pval)"
   ]
  }
 ],
 "metadata": {
  "kernelspec": {
   "display_name": "Python 3",
   "language": "python",
   "name": "python3"
  },
  "language_info": {
   "codemirror_mode": {
    "name": "ipython",
    "version": 3
   },
   "file_extension": ".py",
   "mimetype": "text/x-python",
   "name": "python",
   "nbconvert_exporter": "python",
   "pygments_lexer": "ipython3",
   "version": "3.7.3"
  }
 },
 "nbformat": 4,
 "nbformat_minor": 2
}
