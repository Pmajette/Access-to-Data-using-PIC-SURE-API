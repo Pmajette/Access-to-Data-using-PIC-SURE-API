{
 "cells": [
  {
   "cell_type": "markdown",
   "metadata": {},
   "source": [
    "# PIC-SURE API use-case: Phenome-Wide analysis on Cure Sickle Cell data"
   ]
  },
  {
   "cell_type": "markdown",
   "metadata": {},
   "source": [
    "This is a tutorial notebook, aimed to be quickly up and running with the R PIC-SURE API. It covers the main functionalities of the API."
   ]
  },
  {
   "cell_type": "markdown",
   "metadata": {},
   "source": [
    "## PIC-SURE R API \n",
    "### What is PIC-SURE? \n",
    "\n",
    "<!--img src=\"./img/PIC-SURE_logo.png\" width= \"360px\"> -->\n",
    "\n",
    "Databases exposed through PIC-SURE API encompass a wide heterogeneity of architectures and data organizations underneath. PIC-SURE hide this complexity and expose the different databases in the same format, allowing researchers to focus on the analysis and medical insights, thus easing the process of reproducible sciences.\n",
    "\n",
    "### More about PIC-SURE\n",
    "PIC-SURE stands for Patient-centered Information Commons: Standardized Unification of Research Elements. The API is available in two different programming languages, python and R, allowing investigators to query databases in the same way using any of those languages.\n",
    "\n",
    "PIC-SURE is a large project from which the R/python PIC-SURE API is only a brick. Among other things, PIC-SURE also offers a graphical user interface, allowing research scientist to get quick knowledge about variables and data available for a specific data source.\n",
    "\n",
    "The python API is actively developed by the Avillach-Lab at Harvard Medical School.\n",
    "\n",
    "GitHub repo:\n",
    "* https://github.com/hms-dbmi/pic-sure-python-adapter-hpds\n",
    "* https://github.com/hms-dbmi/pic-sure-python-client\n",
    "\n"
   ]
  },
  {
   "cell_type": "markdown",
   "metadata": {},
   "source": [
    " -------   "
   ]
  },
  {
   "cell_type": "markdown",
   "metadata": {},
   "source": [
    "# Getting your own user-specific security token"
   ]
  },
  {
   "cell_type": "markdown",
   "metadata": {},
   "source": [
    "**Before running this notebook, please be sure to review the get_your_token.ipynb notebook. It contains explanation about how to get a security token, mandatory to access the databases.**"
   ]
  },
  {
   "cell_type": "markdown",
   "metadata": {},
   "source": [
    "# Environment set-up"
   ]
  },
  {
   "cell_type": "markdown",
   "metadata": {},
   "source": [
    "### Pre-requisite\n",
    "- R 3.5 or later"
   ]
  },
  {
   "cell_type": "markdown",
   "metadata": {},
   "source": [
    "### Packages installation"
   ]
  },
  {
   "cell_type": "code",
   "execution_count": 22,
   "metadata": {},
   "outputs": [
    {
     "name": "stderr",
     "output_type": "stream",
     "text": [
      "Loading required package: ggplot2\n",
      "\n",
      "------------------------------------------------------------------------------\n",
      "\n",
      "You have loaded plyr after dplyr - this is likely to cause problems.\n",
      "If you need functions from both plyr and dplyr, please load plyr first, then dplyr:\n",
      "library(plyr); library(dplyr)\n",
      "\n",
      "------------------------------------------------------------------------------\n",
      "\n",
      "\n",
      "Attaching package: ‘plyr’\n",
      "\n",
      "\n",
      "The following objects are masked from ‘package:dplyr’:\n",
      "\n",
      "    arrange, count, desc, failwith, id, mutate, rename, summarise,\n",
      "    summarize\n",
      "\n",
      "\n",
      "\n",
      "Attaching package: ‘purrr’\n",
      "\n",
      "\n",
      "The following object is masked from ‘package:plyr’:\n",
      "\n",
      "    compact\n",
      "\n",
      "\n",
      "The following object is masked from ‘package:jsonlite’:\n",
      "\n",
      "    flatten\n",
      "\n",
      "\n",
      "Loading required package: usethis\n",
      "\n"
     ]
    }
   ],
   "source": [
    "list_packages <- c(\"ggrepel\",\n",
    "                   \"jsonlite\", \n",
    "                   \"ggplot2\",\n",
    "                   \"plyr\",\n",
    "                   \"dplyr\",\n",
    "                   \"tidyr\",\n",
    "                   \"purrr\",\n",
    "                   \"devtools\")\n",
    "\n",
    "for (package in list_packages){\n",
    "     if(! package %in% installed.packages()){\n",
    "         install.packages(package, dependencies = TRUE)\n",
    "     }\n",
    "     library(package, character.only = TRUE)\n",
    "}"
   ]
  },
  {
   "cell_type": "markdown",
   "metadata": {},
   "source": [
    "#### Installing latest R PIC-SURE API libraries from github"
   ]
  },
  {
   "cell_type": "code",
   "execution_count": 23,
   "metadata": {},
   "outputs": [
    {
     "name": "stderr",
     "output_type": "stream",
     "text": [
      "Downloading GitHub repo hms-dbmi/pic-sure-r-client@master\n",
      "\n"
     ]
    },
    {
     "name": "stdout",
     "output_type": "stream",
     "text": [
      "\n",
      "\u001b[32m✔\u001b[39m  \u001b[38;5;247mchecking for file ‘/private/var/folders/hm/wn0bpy0j7vl2q9gqnhhccpph0000gn/T/RtmpxBo0KI/remotes72644ecf3788/hms-dbmi-pic-sure-r-client-d62fec5/DESCRIPTION’\u001b[39m\u001b[36m\u001b[36m (461ms)\u001b[36m\u001b[39m\n",
      "\u001b[38;5;247m─\u001b[39m\u001b[38;5;247m  \u001b[39m\u001b[38;5;247mpreparing ‘picsure’:\u001b[39m\u001b[36m\u001b[39m\n",
      "\u001b[32m✔\u001b[39m  \u001b[38;5;247mchecking DESCRIPTION meta-information\u001b[39m\u001b[36m\u001b[39m\n",
      "\u001b[38;5;247m─\u001b[39m\u001b[38;5;247m  \u001b[39m\u001b[38;5;247mchecking for LF line-endings in source and make files and shell scripts\u001b[39m\u001b[36m\u001b[39m\n",
      "\u001b[38;5;247m─\u001b[39m\u001b[38;5;247m  \u001b[39m\u001b[38;5;247mchecking for empty or unneeded directories\u001b[39m\u001b[36m\u001b[39m\n",
      "\u001b[38;5;247m─\u001b[39m\u001b[38;5;247m  \u001b[39m\u001b[38;5;247mbuilding ‘picsure_0.1.0.tar.gz’\u001b[39m\u001b[36m\u001b[39m\n",
      "   \n",
      "\r"
     ]
    },
    {
     "name": "stderr",
     "output_type": "stream",
     "text": [
      "Downloading GitHub repo hms-dbmi/pic-sure-r-adapter-hpds@master\n",
      "\n"
     ]
    },
    {
     "name": "stdout",
     "output_type": "stream",
     "text": [
      "\n",
      "\u001b[32m✔\u001b[39m  \u001b[38;5;247mchecking for file ‘/private/var/folders/hm/wn0bpy0j7vl2q9gqnhhccpph0000gn/T/RtmpxBo0KI/remotes72645341cc24/hms-dbmi-pic-sure-r-adapter-hpds-353b541/DESCRIPTION’\u001b[39m\u001b[36m\u001b[36m (358ms)\u001b[36m\u001b[39m\n",
      "\u001b[38;5;247m─\u001b[39m\u001b[38;5;247m  \u001b[39m\u001b[38;5;247mpreparing ‘hpds’:\u001b[39m\u001b[36m\u001b[39m\n",
      "\u001b[32m✔\u001b[39m  \u001b[38;5;247mchecking DESCRIPTION meta-information\u001b[39m\u001b[36m\u001b[39m\n",
      "\u001b[38;5;247m─\u001b[39m\u001b[38;5;247m  \u001b[39m\u001b[38;5;247mchecking for LF line-endings in source and make files and shell scripts\u001b[39m\u001b[36m\u001b[39m\n",
      "\u001b[38;5;247m─\u001b[39m\u001b[38;5;247m  \u001b[39m\u001b[38;5;247mchecking for empty or unneeded directories\u001b[39m\u001b[36m\u001b[39m\n",
      "\u001b[38;5;247m─\u001b[39m\u001b[38;5;247m  \u001b[39m\u001b[38;5;247mbuilding ‘hpds_0.1.0.tar.gz’\u001b[39m\u001b[36m\u001b[39m\n",
      "   \n",
      "\r"
     ]
    }
   ],
   "source": [
    "devtools::install_github(\"hms-dbmi/pic-sure-r-client\", force=T)\n",
    "devtools::install_github(\"hms-dbmi/pic-sure-r-adapter-hpds\", force=T)"
   ]
  },
  {
   "cell_type": "markdown",
   "metadata": {},
   "source": [
    "##### Loading user-defined functions"
   ]
  },
  {
   "cell_type": "code",
   "execution_count": 24,
   "metadata": {},
   "outputs": [],
   "source": [
    "source(\"R_lib/utils.R\")"
   ]
  },
  {
   "cell_type": "markdown",
   "metadata": {},
   "source": [
    "## Connecting to a PIC-SURE network"
   ]
  },
  {
   "cell_type": "markdown",
   "metadata": {},
   "source": [
    "Several information are needed to get access to data through the PIC-SURE API: a network URL, a resource id, and a user security token which is specific to a given URL + resource."
   ]
  },
  {
   "cell_type": "code",
   "execution_count": 29,
   "metadata": {},
   "outputs": [],
   "source": [
    "PICSURE_network_URL <- \"https://curesc.hms.harvard.edu/picsure\"\n",
    "resource_id <- \"37663534-6161-3830-6264-323031316539\"\n",
    "token_file <- \"token.txt\""
   ]
  },
  {
   "cell_type": "code",
   "execution_count": 35,
   "metadata": {},
   "outputs": [],
   "source": [
    "my_token <- scan(token_file, what = \"character\")"
   ]
  },
  {
   "cell_type": "code",
   "execution_count": 36,
   "metadata": {},
   "outputs": [],
   "source": [
    "connection <- picsure::connect(url = PICSURE_network_URL,\n",
    "                                 token = my_token)"
   ]
  },
  {
   "cell_type": "code",
   "execution_count": 37,
   "metadata": {},
   "outputs": [],
   "source": [
    "resource <- hpds::get.resource(connection,\n",
    "                               resourceUUID = resource_id)"
   ]
  },
  {
   "cell_type": "markdown",
   "metadata": {},
   "source": [
    "Two objects are created here: a `connection` and a `resource` object, using respectively the `picsure` and `hpds` libraries. \n",
    "\n",
    "As we will only be using one single resource, **the `resource` object is actually the only one we will need to proceed with data analysis hereafter** (FYI, the `connection` object is useful to get access to different databases stored in different resources). \n",
    "\n",
    "It is connected to the specific data source ID we specified, and enables to query and retrieve data from this source."
   ]
  },
  {
   "cell_type": "markdown",
   "metadata": {},
   "source": [
    "## Getting help with the R PIC-SURE API"
   ]
  },
  {
   "cell_type": "markdown",
   "metadata": {},
   "source": [
    "The `?` operator prints out helper message for any PIC-SURE library function."
   ]
  },
  {
   "cell_type": "code",
   "execution_count": 10,
   "metadata": {
    "collapsed": true,
    "jupyter": {
     "outputs_hidden": true
    }
   },
   "outputs": [
    {
     "data": {
      "text/html": [
       "\n",
       "<table width=\"100%\" summary=\"page for get.resource {hpds}\"><tr><td>get.resource {hpds}</td><td style=\"text-align: right;\">R Documentation</td></tr></table>\n",
       "\n",
       "<h2>Get a new reference to a HPDS-based PIC-SURE resource.</h2>\n",
       "\n",
       "<h3>Description</h3>\n",
       "\n",
       "<p>Get a new reference to a HPDS-based PIC-SURE resource.\n",
       "</p>\n",
       "\n",
       "\n",
       "<h3>Usage</h3>\n",
       "\n",
       "<pre>\n",
       "get.resource(connection, resourceUUID, verbose = FALSE)\n",
       "</pre>\n",
       "\n",
       "\n",
       "<h3>Arguments</h3>\n",
       "\n",
       "<table summary=\"R argblock\">\n",
       "<tr valign=\"top\"><td><code>connection</code></td>\n",
       "<td>\n",
       "<p>A PIC-SURE connection object.</p>\n",
       "</td></tr>\n",
       "<tr valign=\"top\"><td><code>resourceUUID</code></td>\n",
       "<td>\n",
       "<p>The UUID identity of a Resource hosted via the PIC-SURE connection.</p>\n",
       "</td></tr>\n",
       "<tr valign=\"top\"><td><code>verbose</code></td>\n",
       "<td>\n",
       "<p>Flag to display additional runtime information.</p>\n",
       "</td></tr>\n",
       "</table>\n",
       "\n",
       "\n",
       "<h3>Value</h3>\n",
       "\n",
       "<p>An object which provides access to the requested Resource.\n",
       "</p>\n",
       "\n",
       "\n",
       "<h3>Examples</h3>\n",
       "\n",
       "<pre>\n",
       "\n",
       "# myconn &lt;- picsure::connect(url=\"http://your.server/PIC-SURE/\", token=\"your-security-token\")\n",
       "# myres &lt;- hpds::get.resource(connection=myconn, resourceUUID=\"YOUR-UUID-0000\")\n",
       "\n",
       "</pre>\n",
       "\n",
       "<hr /><div style=\"text-align: center;\">[Package <em>hpds</em> version 0.1.0 ]</div>"
      ],
      "text/latex": [
       "\\inputencoding{utf8}\n",
       "\\HeaderA{get.resource}{Get a new reference to a HPDS-based PIC-SURE resource.}{get.resource}\n",
       "%\n",
       "\\begin{Description}\\relax\n",
       "Get a new reference to a HPDS-based PIC-SURE resource.\n",
       "\\end{Description}\n",
       "%\n",
       "\\begin{Usage}\n",
       "\\begin{verbatim}\n",
       "get.resource(connection, resourceUUID, verbose = FALSE)\n",
       "\\end{verbatim}\n",
       "\\end{Usage}\n",
       "%\n",
       "\\begin{Arguments}\n",
       "\\begin{ldescription}\n",
       "\\item[\\code{connection}] A PIC-SURE connection object.\n",
       "\n",
       "\\item[\\code{resourceUUID}] The UUID identity of a Resource hosted via the PIC-SURE connection.\n",
       "\n",
       "\\item[\\code{verbose}] Flag to display additional runtime information.\n",
       "\\end{ldescription}\n",
       "\\end{Arguments}\n",
       "%\n",
       "\\begin{Value}\n",
       "An object which provides access to the requested Resource.\n",
       "\\end{Value}\n",
       "%\n",
       "\\begin{Examples}\n",
       "\\begin{ExampleCode}\n",
       "\n",
       "# myconn <- picsure::connect(url=\"http://your.server/PIC-SURE/\", token=\"your-security-token\")\n",
       "# myres <- hpds::get.resource(connection=myconn, resourceUUID=\"YOUR-UUID-0000\")\n",
       "\n",
       "\\end{ExampleCode}\n",
       "\\end{Examples}"
      ],
      "text/plain": [
       "get.resource               package:hpds                R Documentation\n",
       "\n",
       "_\bG_\be_\bt _\ba _\bn_\be_\bw _\br_\be_\bf_\be_\br_\be_\bn_\bc_\be _\bt_\bo _\ba _\bH_\bP_\bD_\bS-_\bb_\ba_\bs_\be_\bd _\bP_\bI_\bC-_\bS_\bU_\bR_\bE _\br_\be_\bs_\bo_\bu_\br_\bc_\be.\n",
       "\n",
       "_\bD_\be_\bs_\bc_\br_\bi_\bp_\bt_\bi_\bo_\bn:\n",
       "\n",
       "     Get a new reference to a HPDS-based PIC-SURE resource.\n",
       "\n",
       "_\bU_\bs_\ba_\bg_\be:\n",
       "\n",
       "     get.resource(connection, resourceUUID, verbose = FALSE)\n",
       "     \n",
       "_\bA_\br_\bg_\bu_\bm_\be_\bn_\bt_\bs:\n",
       "\n",
       "connection: A PIC-SURE connection object.\n",
       "\n",
       "resourceUUID: The UUID identity of a Resource hosted via the PIC-SURE\n",
       "          connection.\n",
       "\n",
       " verbose: Flag to display additional runtime information.\n",
       "\n",
       "_\bV_\ba_\bl_\bu_\be:\n",
       "\n",
       "     An object which provides access to the requested Resource.\n",
       "\n",
       "_\bE_\bx_\ba_\bm_\bp_\bl_\be_\bs:\n",
       "\n",
       "     # myconn <- picsure::connect(url=\"http://your.server/PIC-SURE/\", token=\"your-security-token\")\n",
       "     # myres <- hpds::get.resource(connection=myconn, resourceUUID=\"YOUR-UUID-0000\")\n",
       "     "
      ]
     },
     "metadata": {},
     "output_type": "display_data"
    }
   ],
   "source": [
    "?hpds::get.resource()"
   ]
  },
  {
   "cell_type": "markdown",
   "metadata": {},
   "source": [
    "## Using the *variables dictionnary*"
   ]
  },
  {
   "cell_type": "markdown",
   "metadata": {},
   "source": [
    "Once a connection to the desired resource has been established, we first need to get a quick idea of which variables are available in the database. To this end, we will use the `dictionary` method of the `resource` object."
   ]
  },
  {
   "cell_type": "markdown",
   "metadata": {},
   "source": [
    "A `dictionary` instance offers the possibility to retrieve matching records according to a specific term, or to retrieve information about all available variables, using the `find.in.dictionary()` function. For instance, looking for variables containing the term `COPD` is done this way: "
   ]
  },
  {
   "cell_type": "code",
   "execution_count": 41,
   "metadata": {
    "collapsed": true,
    "jupyter": {
     "outputs_hidden": true
    }
   },
   "outputs": [
    {
     "data": {
      "text/html": [
       "<table>\n",
       "<caption>A data.frame: 6 × 8</caption>\n",
       "<thead>\n",
       "\t<tr><th></th><th scope=col>name</th><th scope=col>categorical</th><th scope=col>categoryValues</th><th scope=col>observationCount</th><th scope=col>patientCount</th><th scope=col>HpdsDataType</th><th scope=col>min</th><th scope=col>max</th></tr>\n",
       "\t<tr><th></th><th scope=col>&lt;chr&gt;</th><th scope=col>&lt;lgl&gt;</th><th scope=col>&lt;chr&gt;</th><th scope=col>&lt;int&gt;</th><th scope=col>&lt;int&gt;</th><th scope=col>&lt;chr&gt;</th><th scope=col>&lt;dbl&gt;</th><th scope=col>&lt;dbl&gt;</th></tr>\n",
       "</thead>\n",
       "<tbody>\n",
       "\t<tr><th scope=row>32</th><td>\\SAC\\interimhx\\45. During the past week, did someone smoke in the participants' presence at work?\\                                                                                                                                                                                                                                                                           </td><td>TRUE</td><td>No,Yes</td><td>230</td><td>222</td><td>phenotypes</td><td>NA</td><td>NA</td></tr>\n",
       "\t<tr><th scope=row>33</th><td>\\SIT - Cure Sickle Cell\\04 - Arm 3: Observation: Non-Transfusion\\M36 (Q12) Annual 3: END\\S02r1 Demographic And Phenotypic Information (s02r1_demographic_and_phenotypic_information)\\22. Does either the patient or the primary caretaker identify anyone living in the home who smokes or smoked tobacco products in the last 3 years  either inside or outside the home?\\</td><td>TRUE</td><td>No,Yes</td><td> 16</td><td> 16</td><td>phenotypes</td><td>NA</td><td>NA</td></tr>\n",
       "\t<tr><th scope=row>34</th><td>\\SAC\\ih_form\\23. Since the last visit date, has the participant smoked cigarettes?\\                                                                                                                                                                                                                                                                                          </td><td>TRUE</td><td>No,Yes</td><td>264</td><td>253</td><td>phenotypes</td><td>NA</td><td>NA</td></tr>\n",
       "\t<tr><th scope=row>35</th><td>\\SIT - Cure Sickle Cell\\01 - Arm 4: Screening\\02 - Re-screening 1\\S02r1 Demographic And Phenotypic Information (s02r1_demographic_and_phenotypic_information)\\22. Does either the patient or the primary caretaker identify anyone living in the home who smokes or smoked tobacco products in the last 3 years  either inside or outside the home?\\                       </td><td>TRUE</td><td>No    </td><td>  3</td><td>  3</td><td>phenotypes</td><td>NA</td><td>NA</td></tr>\n",
       "\t<tr><th scope=row>36</th><td>\\SAC\\ccontrol\\12. Has your child smoked cigarettes in the past year?\\                                                                                                                                                                                                                                                                                                        </td><td>TRUE</td><td>No    </td><td> 27</td><td> 27</td><td>phenotypes</td><td>NA</td><td>NA</td></tr>\n",
       "\t<tr><th scope=row>37</th><td>\\SAC\\interimhx\\39. Since the last visit date, has the participant been exposed to second hand tobacco cigarette, pipe, or cigar smoke?\\                                                                                                                                                                                                                                      </td><td>TRUE</td><td>No,Yes</td><td>229</td><td>216</td><td>phenotypes</td><td>NA</td><td>NA</td></tr>\n",
       "</tbody>\n",
       "</table>\n"
      ],
      "text/latex": [
       "A data.frame: 6 × 8\n",
       "\\begin{tabular}{r|llllllll}\n",
       "  & name & categorical & categoryValues & observationCount & patientCount & HpdsDataType & min & max\\\\\n",
       "  & <chr> & <lgl> & <chr> & <int> & <int> & <chr> & <dbl> & <dbl>\\\\\n",
       "\\hline\n",
       "\t32 & \\textbackslash{}SAC\\textbackslash{}interimhx\\textbackslash{}45. During the past week, did someone smoke in the participants' presence at work?\\textbackslash{}                                                                                                                                                                                                                                                                            & TRUE & No,Yes & 230 & 222 & phenotypes & NA & NA\\\\\n",
       "\t33 & \\textbackslash{}SIT - Cure Sickle Cell\\textbackslash{}04 - Arm 3: Observation: Non-Transfusion\\textbackslash{}M36 (Q12) Annual 3: END\\textbackslash{}S02r1 Demographic And Phenotypic Information (s02r1\\_demographic\\_and\\_phenotypic\\_information)\\textbackslash{}22. Does either the patient or the primary caretaker identify anyone living in the home who smokes or smoked tobacco products in the last 3 years  either inside or outside the home?\\textbackslash{} & TRUE & No,Yes &  16 &  16 & phenotypes & NA & NA\\\\\n",
       "\t34 & \\textbackslash{}SAC\\textbackslash{}ih\\_form\\textbackslash{}23. Since the last visit date, has the participant smoked cigarettes?\\textbackslash{}                                                                                                                                                                                                                                                                                           & TRUE & No,Yes & 264 & 253 & phenotypes & NA & NA\\\\\n",
       "\t35 & \\textbackslash{}SIT - Cure Sickle Cell\\textbackslash{}01 - Arm 4: Screening\\textbackslash{}02 - Re-screening 1\\textbackslash{}S02r1 Demographic And Phenotypic Information (s02r1\\_demographic\\_and\\_phenotypic\\_information)\\textbackslash{}22. Does either the patient or the primary caretaker identify anyone living in the home who smokes or smoked tobacco products in the last 3 years  either inside or outside the home?\\textbackslash{}                        & TRUE & No     &   3 &   3 & phenotypes & NA & NA\\\\\n",
       "\t36 & \\textbackslash{}SAC\\textbackslash{}ccontrol\\textbackslash{}12. Has your child smoked cigarettes in the past year?\\textbackslash{}                                                                                                                                                                                                                                                                                                         & TRUE & No     &  27 &  27 & phenotypes & NA & NA\\\\\n",
       "\t37 & \\textbackslash{}SAC\\textbackslash{}interimhx\\textbackslash{}39. Since the last visit date, has the participant been exposed to second hand tobacco cigarette, pipe, or cigar smoke?\\textbackslash{}                                                                                                                                                                                                                                       & TRUE & No,Yes & 229 & 216 & phenotypes & NA & NA\\\\\n",
       "\\end{tabular}\n"
      ],
      "text/markdown": [
       "\n",
       "A data.frame: 6 × 8\n",
       "\n",
       "| <!--/--> | name &lt;chr&gt; | categorical &lt;lgl&gt; | categoryValues &lt;chr&gt; | observationCount &lt;int&gt; | patientCount &lt;int&gt; | HpdsDataType &lt;chr&gt; | min &lt;dbl&gt; | max &lt;dbl&gt; |\n",
       "|---|---|---|---|---|---|---|---|---|\n",
       "| 32 | \\SAC\\interimhx\\45. During the past week, did someone smoke in the participants' presence at work?\\                                                                                                                                                                                                                                                                            | TRUE | No,Yes | 230 | 222 | phenotypes | NA | NA |\n",
       "| 33 | \\SIT - Cure Sickle Cell\\04 - Arm 3: Observation: Non-Transfusion\\M36 (Q12) Annual 3: END\\S02r1 Demographic And Phenotypic Information (s02r1_demographic_and_phenotypic_information)\\22. Does either the patient or the primary caretaker identify anyone living in the home who smokes or smoked tobacco products in the last 3 years  either inside or outside the home?\\ | TRUE | No,Yes |  16 |  16 | phenotypes | NA | NA |\n",
       "| 34 | \\SAC\\ih_form\\23. Since the last visit date, has the participant smoked cigarettes?\\                                                                                                                                                                                                                                                                                           | TRUE | No,Yes | 264 | 253 | phenotypes | NA | NA |\n",
       "| 35 | \\SIT - Cure Sickle Cell\\01 - Arm 4: Screening\\02 - Re-screening 1\\S02r1 Demographic And Phenotypic Information (s02r1_demographic_and_phenotypic_information)\\22. Does either the patient or the primary caretaker identify anyone living in the home who smokes or smoked tobacco products in the last 3 years  either inside or outside the home?\\                        | TRUE | No     |   3 |   3 | phenotypes | NA | NA |\n",
       "| 36 | \\SAC\\ccontrol\\12. Has your child smoked cigarettes in the past year?\\                                                                                                                                                                                                                                                                                                         | TRUE | No     |  27 |  27 | phenotypes | NA | NA |\n",
       "| 37 | \\SAC\\interimhx\\39. Since the last visit date, has the participant been exposed to second hand tobacco cigarette, pipe, or cigar smoke?\\                                                                                                                                                                                                                                       | TRUE | No,Yes | 229 | 216 | phenotypes | NA | NA |\n",
       "\n"
      ],
      "text/plain": [
       "   name                                                                                                                                                                                                                                                                                                                                                                             \n",
       "32 \\\\SAC\\\\interimhx\\\\45. During the past week, did someone smoke in the participants' presence at work?\\\\                                                                                                                                                                                                                                                                           \n",
       "33 \\\\SIT - Cure Sickle Cell\\\\04 - Arm 3: Observation: Non-Transfusion\\\\M36 (Q12) Annual 3: END\\\\S02r1 Demographic And Phenotypic Information (s02r1_demographic_and_phenotypic_information)\\\\22. Does either the patient or the primary caretaker identify anyone living in the home who smokes or smoked tobacco products in the last 3 years  either inside or outside the home?\\\\\n",
       "34 \\\\SAC\\\\ih_form\\\\23. Since the last visit date, has the participant smoked cigarettes?\\\\                                                                                                                                                                                                                                                                                          \n",
       "35 \\\\SIT - Cure Sickle Cell\\\\01 - Arm 4: Screening\\\\02 - Re-screening 1\\\\S02r1 Demographic And Phenotypic Information (s02r1_demographic_and_phenotypic_information)\\\\22. Does either the patient or the primary caretaker identify anyone living in the home who smokes or smoked tobacco products in the last 3 years  either inside or outside the home?\\\\                       \n",
       "36 \\\\SAC\\\\ccontrol\\\\12. Has your child smoked cigarettes in the past year?\\\\                                                                                                                                                                                                                                                                                                        \n",
       "37 \\\\SAC\\\\interimhx\\\\39. Since the last visit date, has the participant been exposed to second hand tobacco cigarette, pipe, or cigar smoke?\\\\                                                                                                                                                                                                                                      \n",
       "   categorical categoryValues observationCount patientCount HpdsDataType min\n",
       "32 TRUE        No,Yes         230              222          phenotypes   NA \n",
       "33 TRUE        No,Yes          16               16          phenotypes   NA \n",
       "34 TRUE        No,Yes         264              253          phenotypes   NA \n",
       "35 TRUE        No               3                3          phenotypes   NA \n",
       "36 TRUE        No              27               27          phenotypes   NA \n",
       "37 TRUE        No,Yes         229              216          phenotypes   NA \n",
       "   max\n",
       "32 NA \n",
       "33 NA \n",
       "34 NA \n",
       "35 NA \n",
       "36 NA \n",
       "37 NA "
      ]
     },
     "metadata": {},
     "output_type": "display_data"
    }
   ],
   "source": [
    "dictionary_search <- hpds::find.in.dictionary(resource, \"Smoke\")\n",
    "hpds::extract.dataframe(dictionary_search) %>%\n",
    "     tail()"
   ]
  },
  {
   "cell_type": "markdown",
   "metadata": {},
   "source": [
    "Subsequently, objects created by the `dictionary.find` exposes the search result using 4 different methods: `.count()`, `.keys()`, `.entries()`, and `.DataFrame()`. "
   ]
  },
  {
   "cell_type": "code",
   "execution_count": 12,
   "metadata": {
    "collapsed": true,
    "jupyter": {
     "outputs_hidden": true
    }
   },
   "outputs": [
    {
     "name": "stdout",
     "output_type": "stream",
     "text": [
      "$Count\n",
      "[1] 31\n",
      "\n",
      "$Keys\n",
      "[1] \"\\\\CIBMTR - Cure Sickle Cell Disease\\\\4 - Outcomes\\\\Z - Other outcomes\\\\Stroke post HCT\\\\\"                                                                                                                                                                                                                                         \n",
      "[2] \"\\\\SIT - Cure Sickle Cell\\\\04 - Arm 3: Observation: Non-Transfusion\\\\M36 (Q12) Annual 3: END\\\\S02r1 Demographic And Phenotypic Information (s02r1_demographic_and_phenotypic_information)\\\\35B. If Yes  year of diagnosis of silent stroke (yyyy):\\\\\"                                                                              \n",
      "[3] \"\\\\SIT - Cure Sickle Cell\\\\01 - Arm 4: Screening\\\\04 Pre-Randomization\\\\S13r0 Randomization Eligibility Form (s13r0_randomization_eligibility_form)\\\\04. Patient with a history of a focal neurologic event lasting more than 24 hours with medical documentation or a history of prior overt stroke.\\\\\"                           \n",
      "[4] \"\\\\SIT - Cure Sickle Cell\\\\01 - Arm 4: Screening\\\\02 - Re-screening 1\\\\S00r0 Screening Eligibility Form (s00r0_screening_eligibility_form)\\\\04. Patient with a history of a focal neurologic event lasting more than 24 hours with medical documentation or a history of prior overt stroke.\\\\\"                                    \n",
      "[5] \"\\\\SIT - Cure Sickle Cell\\\\01 - Arm 4: Screening\\\\01 - Screening\\\\02 - Eligibility and randomization\\\\02 - S00r0 Screening Eligibility Form (s00r0_screening_eligibility_form)\\\\04. Patient with a history of a focal neurologic event lasting more than 24 hours with medical documentation or a history of prior overt stroke.\\\\\"\n",
      "\n",
      "$Entries\n",
      "$Entries$`\\\\CIBMTR - Cure Sickle Cell Disease\\\\4 - Outcomes\\\\Z - Other outcomes\\\\Stroke post HCT\\\\`\n",
      "$Entries$`\\\\CIBMTR - Cure Sickle Cell Disease\\\\4 - Outcomes\\\\Z - Other outcomes\\\\Stroke post HCT\\\\`$name\n",
      "[1] \"\\\\CIBMTR - Cure Sickle Cell Disease\\\\4 - Outcomes\\\\Z - Other outcomes\\\\Stroke post HCT\\\\\"\n",
      "\n",
      "$Entries$`\\\\CIBMTR - Cure Sickle Cell Disease\\\\4 - Outcomes\\\\Z - Other outcomes\\\\Stroke post HCT\\\\`$categorical\n",
      "[1] TRUE\n",
      "\n",
      "$Entries$`\\\\CIBMTR - Cure Sickle Cell Disease\\\\4 - Outcomes\\\\Z - Other outcomes\\\\Stroke post HCT\\\\`$categoryValues\n",
      "[1] \"No\"           \"Not Reported\" \"Yes\"         \n",
      "\n",
      "$Entries$`\\\\CIBMTR - Cure Sickle Cell Disease\\\\4 - Outcomes\\\\Z - Other outcomes\\\\Stroke post HCT\\\\`$observationCount\n",
      "[1] 1247\n",
      "\n",
      "$Entries$`\\\\CIBMTR - Cure Sickle Cell Disease\\\\4 - Outcomes\\\\Z - Other outcomes\\\\Stroke post HCT\\\\`$patientCount\n",
      "[1] 1247\n",
      "\n",
      "$Entries$`\\\\CIBMTR - Cure Sickle Cell Disease\\\\4 - Outcomes\\\\Z - Other outcomes\\\\Stroke post HCT\\\\`$HpdsDataType\n",
      "[1] \"phenotypes\"\n",
      "\n",
      "\n",
      "$Entries$`\\\\SIT - Cure Sickle Cell\\\\04 - Arm 3: Observation: Non-Transfusion\\\\M36 (Q12) Annual 3: END\\\\S02r1 Demographic And Phenotypic Information (s02r1_demographic_and_phenotypic_information)\\\\35B. If Yes  year of diagnosis of silent stroke (yyyy):\\\\`\n",
      "$Entries$`\\\\SIT - Cure Sickle Cell\\\\04 - Arm 3: Observation: Non-Transfusion\\\\M36 (Q12) Annual 3: END\\\\S02r1 Demographic And Phenotypic Information (s02r1_demographic_and_phenotypic_information)\\\\35B. If Yes  year of diagnosis of silent stroke (yyyy):\\\\`$...\n",
      "[1] \"\\\\SIT - Cure Sickle Cell\\\\04 - Arm 3: Observation: Non-Transfusion\\\\M36 (Q12) Annual 3: END\\\\S02r1 Demographic And Phenotypic Information (s02r1_demographic_and_phenotypic_information)\\\\35B. If Yes  year of diagnosis of silent stroke (yyyy):\\\\\"\n",
      "\n",
      "$Entries$`\\\\SIT - Cure Sickle Cell\\\\04 - Arm 3: Observation: Non-Transfusion\\\\M36 (Q12) Annual 3: END\\\\S02r1 Demographic And Phenotypic Information (s02r1_demographic_and_phenotypic_information)\\\\35B. If Yes  year of diagnosis of silent stroke (yyyy):\\\\`$...\n",
      "[1] 2005\n",
      "\n",
      "$Entries$`\\\\SIT - Cure Sickle Cell\\\\04 - Arm 3: Observation: Non-Transfusion\\\\M36 (Q12) Annual 3: END\\\\S02r1 Demographic And Phenotypic Information (s02r1_demographic_and_phenotypic_information)\\\\35B. If Yes  year of diagnosis of silent stroke (yyyy):\\\\`$...\n",
      "[1] FALSE\n",
      "\n",
      "$Entries$`\\\\SIT - Cure Sickle Cell\\\\04 - Arm 3: Observation: Non-Transfusion\\\\M36 (Q12) Annual 3: END\\\\S02r1 Demographic And Phenotypic Information (s02r1_demographic_and_phenotypic_information)\\\\35B. If Yes  year of diagnosis of silent stroke (yyyy):\\\\`$...\n",
      "[1] 11\n",
      "\n",
      "$Entries$`\\\\SIT - Cure Sickle Cell\\\\04 - Arm 3: Observation: Non-Transfusion\\\\M36 (Q12) Annual 3: END\\\\S02r1 Demographic And Phenotypic Information (s02r1_demographic_and_phenotypic_information)\\\\35B. If Yes  year of diagnosis of silent stroke (yyyy):\\\\`$...\n",
      "[1] 11\n",
      "\n",
      "$Entries$`\\\\SIT - Cure Sickle Cell\\\\04 - Arm 3: Observation: Non-Transfusion\\\\M36 (Q12) Annual 3: END\\\\S02r1 Demographic And Phenotypic Information (s02r1_demographic_and_phenotypic_information)\\\\35B. If Yes  year of diagnosis of silent stroke (yyyy):\\\\`$...\n",
      "[1] 2007\n",
      "\n",
      "$Entries$`\\\\SIT - Cure Sickle Cell\\\\04 - Arm 3: Observation: Non-Transfusion\\\\M36 (Q12) Annual 3: END\\\\S02r1 Demographic And Phenotypic Information (s02r1_demographic_and_phenotypic_information)\\\\35B. If Yes  year of diagnosis of silent stroke (yyyy):\\\\`$...\n",
      "[1] \"phenotypes\"\n",
      "\n",
      "\n",
      "$Entries$...\n",
      "$Entries$...$name\n",
      "[1] \"\\\\SIT - Cure Sickle Cell\\\\01 - Arm 4: Screening\\\\04 Pre-Randomization\\\\S13r0 Randomization Eligibility Form (s13r0_randomization_eligibility_form)\\\\04. Patient with a history of a focal neurologic event lasting more than 24 hours with medical documentation or a history of prior overt stroke.\\\\\"\n",
      "\n",
      "$Entries$...$categorical\n",
      "[1] TRUE\n",
      "\n",
      "$Entries$...$categoryValues\n",
      "[1] \"No\"\n",
      "\n",
      "$Entries$...$observationCount\n",
      "[1] 1\n",
      "\n",
      "$Entries$...$patientCount\n",
      "[1] 1\n",
      "\n",
      "$Entries$...$HpdsDataType\n",
      "[1] \"phenotypes\"\n",
      "\n",
      "\n",
      "$Entries$...\n",
      "$Entries$...$name\n",
      "[1] \"\\\\SIT - Cure Sickle Cell\\\\01 - Arm 4: Screening\\\\02 - Re-screening 1\\\\S00r0 Screening Eligibility Form (s00r0_screening_eligibility_form)\\\\04. Patient with a history of a focal neurologic event lasting more than 24 hours with medical documentation or a history of prior overt stroke.\\\\\"\n",
      "\n",
      "$Entries$...$categorical\n",
      "[1] TRUE\n",
      "\n",
      "$Entries$...$categoryValues\n",
      "[1] \"No\"\n",
      "\n",
      "$Entries$...$observationCount\n",
      "[1] 14\n",
      "\n",
      "$Entries$...$patientCount\n",
      "[1] 14\n",
      "\n",
      "$Entries$...$HpdsDataType\n",
      "[1] \"phenotypes\"\n",
      "\n",
      "\n",
      "$Entries$...\n",
      "$Entries$...$name\n",
      "[1] \"\\\\SIT - Cure Sickle Cell\\\\01 - Arm 4: Screening\\\\01 - Screening\\\\02 - Eligibility and randomization\\\\02 - S00r0 Screening Eligibility Form (s00r0_screening_eligibility_form)\\\\04. Patient with a history of a focal neurologic event lasting more than 24 hours with medical documentation or a history of prior overt stroke.\\\\\"\n",
      "\n",
      "$Entries$...$categorical\n",
      "[1] TRUE\n",
      "\n",
      "$Entries$...$categoryValues\n",
      "[1] \"No\"\n",
      "\n",
      "$Entries$...$observationCount\n",
      "[1] 1194\n",
      "\n",
      "$Entries$...$patientCount\n",
      "[1] 1194\n",
      "\n",
      "$Entries$...$HpdsDataType\n",
      "[1] \"phenotypes\"\n",
      "\n",
      "\n",
      "\n"
     ]
    }
   ],
   "source": [
    "print(list(\"Count\"   = hpds::extract.count(dictionary_search), \n",
    "           \"Keys\"    = hpds::extract.keys(dictionary_search)[1:5],\n",
    "           \"Entries\" = hpds::extract.entries(dictionary_search)[1:5]))"
   ]
  },
  {
   "cell_type": "markdown",
   "metadata": {},
   "source": [
    "**`hpds::extract.dataframe()` enables to get the result of the dictionary search in a data.frame format. This way, it enables to:** \n",
    "\n",
    "The dictionary provide various information about the variables, such as:\n",
    "- observationCount: number of entries with non-null value\n",
    "- categorical: type of the variables, True if categorical, False if continuous/numerical\n",
    "- min/max: only provided for non-categorical variables\n",
    "- HpdsDataType: 'phenotypes' or 'genotypes'. Currently, the API only expsoses'phenotypes' variables\n",
    "\n",
    "Hence, it enables to:\n",
    "* Use the various variables information as criteria for variable selection.\n",
    "* Use the row names of the DataFrame to get the actual variables names, to be used in the query, as shown below.\n",
    "\n",
    "\n",
    "Variable names, as currently implemented in the API, aren't handy to use right away.\n",
    "1. Very long\n",
    "2. Presence of backslashes that requires modification right after copy-pasting. \n",
    "\n",
    "However, using the dictionary to select variables can help to deal with this. Let's say we want to retrieve every variable from the CSC. Hence, one way to proceed is to retrieve the whole dictionary for those variables in the form of a data.frame, as below:"
   ]
  },
  {
   "cell_type": "code",
   "execution_count": 46,
   "metadata": {},
   "outputs": [],
   "source": [
    "plain_variablesDict <- hpds::find.in.dictionary(resource, \"SAC\") %>% hpds::extract.dataframe()"
   ]
  },
  {
   "cell_type": "markdown",
   "metadata": {},
   "source": [
    "Moreover, using the `hpds::find.in.dictionary` function without arguments return every entries, as shown in the help documentation. *As for now, this takes a long time in the R PIC-SURE API implementation, and it will probably be fixed in the latter version of the API*"
   ]
  },
  {
   "cell_type": "code",
   "execution_count": 47,
   "metadata": {
    "collapsed": true,
    "jupyter": {
     "outputs_hidden": true
    }
   },
   "outputs": [
    {
     "data": {
      "text/html": [
       "<table>\n",
       "<caption>A data.frame: 11 × 8</caption>\n",
       "<thead>\n",
       "\t<tr><th></th><th scope=col>name</th><th scope=col>categorical</th><th scope=col>categoryValues</th><th scope=col>observationCount</th><th scope=col>patientCount</th><th scope=col>HpdsDataType</th><th scope=col>min</th><th scope=col>max</th></tr>\n",
       "\t<tr><th></th><th scope=col>&lt;chr&gt;</th><th scope=col>&lt;lgl&gt;</th><th scope=col>&lt;chr&gt;</th><th scope=col>&lt;int&gt;</th><th scope=col>&lt;int&gt;</th><th scope=col>&lt;chr&gt;</th><th scope=col>&lt;dbl&gt;</th><th scope=col>&lt;dbl&gt;</th></tr>\n",
       "</thead>\n",
       "<tbody>\n",
       "\t<tr><th scope=row>10</th><td>\\SAC\\semtel\\6. Since the last study visit, has the participant had an attack of wheezing, coughing, shortness of breath or chest tightness after playing hard or exercising?\\</td><td> TRUE</td><td>No,Yes                                                                                                                                                                                                                                                                                                                                                                                                                                                                                                                                                                                                                                                                                                                                                                                                                                                                                                                                                                                                                                                                                                                                                                                                                                                                                                                                                                                                                                                                                                                                                                                                                                                                                                                                                                                                                                                                                                                                                                                                                                                                                                                                                                                                             </td><td> 67</td><td> 66</td><td>phenotypes</td><td>NA</td><td>NA</td></tr>\n",
       "\t<tr><th scope=row>11</th><td>\\SAC\\phlebot\\12. Comments on blood drawing/centrifuging\\                                                                                                                     </td><td> TRUE</td><td>DNA sample obtained,Difficult blood draw pt c portacath clinic not  open today minimal blood obtainted,Difficult veni puncture minimal blood obtained,Difficult venipencture 1cc obtained in tube only. pt did not want additional attempt to obtain more blood,Difficult venipuncture pt veins exhausted - will attempt at next clinic or research visit.,Difficult venipuncture recently d/c from hospital,Difficult venipuncture x 2 pt viens exhausted pt did not want another attempt. no blood obtained this visit. OK to try at subsequent clinic research visit per pt.,Difficult venipunture pt veins exausted two recent hospitalizations,Dificult blood draw minimal blood obtained,Hemalyzed,IgE was no necessary,LDH not obtained,Mother refused to because of religious beliefs,NONE,No LDH obtained because of Hemolyzed sample,No LDH was obtained,Port Accessed in Heme/onc clinic by rn's tolerated well, port flushed / deaccessed,Portacath accessed by clinic RN blood obtained.,centrifuge time missing,difficult Venipuncture parent only wanted one try this time. May attempt again.,difficult venipenture pt viens exhausted to recent surgery and pain admit no blood obtained. pt refused retry,difficult venipuncture pt Veins exhausted recent admit- will try at visit 2,difficult venipuncture, Very small veins. Will obtain cbc results from clinic visit today,difficult venipunture, no blood obtained, pt cooperative; will try at next clinic research visit,drawn from mediport on first attempt without incident; flush required for blood return,missing time,no Blood obtained pt became very tearful and upset. will attempt at next visit. CBC obtained at clinic visit today,no Virgina sample was sent because participant is Chronic tx,no blood obtained poor venous access will attempt to obtain at sebsequent visit.,no blood obtained will attempt at sebsequent visit,no blood obtained- difficult venipuncture will obtain univ of Virginia sample at clinic visit in a month,none,time missing,time missing from centrifuged,total amount not entered; draw tubes sent to a different lab for processing; main centrifuge being serviced,very low hematocrit</td><td> 61</td><td> 55</td><td>phenotypes</td><td>NA</td><td>NA</td></tr>\n",
       "\t<tr><th scope=row>12</th><td><span style=white-space:pre-wrap>\\SAC\\sleep\\Screaming in his/her sleep\\                                                                                                                                       </span></td><td> TRUE</td><td><span style=white-space:pre-wrap>Don't Know,Never (does not happen),No answer,Not Often (&lt;1 night/day a week),Often (3 to 5 nights/days a week),Sometimes (1 to 2 nights/days a week)                                                                                                                                                                                                                                                                                                                                                                                                                                                                                                                                                                                                                                                                                                                                                                                                                                                                                                                                                                                                                                                                                                                                                                                                                                                                                                                                                                                                                                                                                                                                                                                                                                                                                                                                                                                                                                                                                                                                                                                                                                                               </span></td><td>197</td><td>197</td><td>phenotypes</td><td>NA</td><td>NA</td></tr>\n",
       "\t<tr><th scope=row>13</th><td>\\SAC\\event\\5. Has the participant had a surgical procedure?\\                                                                                                                 </td><td> TRUE</td><td>No,Yes                                                                                                                                                                                                                                                                                                                                                                                                                                                                                                                                                                                                                                                                                                                                                                                                                                                                                                                                                                                                                                                                                                                                                                                                                                                                                                                                                                                                                                                                                                                                                                                                                                                                                                                                                                                                                                                                                                                                                                                                                                                                                                                                                                                                             </td><td>122</td><td>102</td><td>phenotypes</td><td>NA</td><td>NA</td></tr>\n",
       "\t<tr><th scope=row>14</th><td>\\SAC\\ih_form\\6. In the past MONTH, how often has the participant had cough, wheeze, shortness of breath, or chest tightness while exercising or playing?\\                    </td><td> TRUE</td><td>10 or more times per month,2 or fewer times per month,3- 4 times per month,5 - 9 times per month                                                                                                                                                                                                                                                                                                                                                                                                                                                                                                                                                                                                                                                                                                                                                                                                                                                                                                                                                                                                                                                                                                                                                                                                                                                                                                                                                                                                                                                                                                                                                                                                                                                                                                                                                                                                                                                                                                                                                                                                                                                                                                                   </td><td>372</td><td>253</td><td>phenotypes</td><td>NA</td><td>NA</td></tr>\n",
       "\t<tr><th scope=row>15</th><td>\\SAC\\interimhx\\12a. If Yes, reason for MRI (check all that apply): (choice=Seizure)\\                                                                                         </td><td> TRUE</td><td>Checked,Unchecked                                                                                                                                                                                                                                                                                                                                                                                                                                                                                                                                                                                                                                                                                                                                                                                                                                                                                                                                                                                                                                                                                                                                                                                                                                                                                                                                                                                                                                                                                                                                                                                                                                                                                                                                                                                                                                                                                                                                                                                                                                                                                                                                                                                                  </td><td>224</td><td>224</td><td>phenotypes</td><td>NA</td><td>NA</td></tr>\n",
       "\t<tr><th scope=row>16</th><td>\\SAC\\sleep\\Usual Wake Time\\                                                                                                                                                  </td><td> TRUE</td><td>01:00,01:30,02:00,02:30,05:00,05:30,05:40,05:45,06:00,06:15,06:20,06:30,06:40,06:45,06:50,07:00,07:15,07:20,07:30,07:40,07:45,08:00,08:15,08:30,08:45,09:00,09:10,09:30,10:00,10:30,11:00,11:30,12:00,12:30,13:00,15:00,19:00,22:00                                                                                                                                                                                                                                                                                                                                                                                                                                                                                                                                                                                                                                                                                                                                                                                                                                                                                                                                                                                                                                                                                                                                                                                                                                                                                                                                                                                                                                                                                                                                                                                                                                                                                                                                                                                                                                                                                                                                                                                </td><td>390</td><td>196</td><td>phenotypes</td><td>NA</td><td>NA</td></tr>\n",
       "\t<tr><th scope=row>17</th><td>\\SAC\\interimhx\\30a. How many times?\\                                                                                                                                         </td><td>FALSE</td><td>NA                                                                                                                                                                                                                                                                                                                                                                                                                                                                                                                                                                                                                                                                                                                                                                                                                                                                                                                                                                                                                                                                                                                                                                                                                                                                                                                                                                                                                                                                                                                                                                                                                                                                                                                                                                                                                                                                                                                                                                                                                                                                                                                                                                                                                 </td><td> 29</td><td> 27</td><td>phenotypes</td><td> 0</td><td> 6</td></tr>\n",
       "\t<tr><th scope=row>18</th><td>\\SAC\\ih_form\\13. Has the participant had an attack of wheezing that has caused him/her to be short of breath\\                                                                </td><td> TRUE</td><td>No,Yes                                                                                                                                                                                                                                                                                                                                                                                                                                                                                                                                                                                                                                                                                                                                                                                                                                                                                                                                                                                                                                                                                                                                                                                                                                                                                                                                                                                                                                                                                                                                                                                                                                                                                                                                                                                                                                                                                                                                                                                                                                                                                                                                                                                                             </td><td>319</td><td>253</td><td>phenotypes</td><td>NA</td><td>NA</td></tr>\n",
       "\t<tr><th scope=row>19</th><td><span style=white-space:pre-wrap>\\SAC\\ih_form\\Trouble falling asleep?\\                                                                                                                                        </span></td><td> TRUE</td><td><span style=white-space:pre-wrap>Always. (6 to 7 nights a week.),Don't know.,Never. (Does not happen.),Not often. (&lt; 1 night a week.),Often. (3 to 5 nights a week.),Sometimes. (1 to 2 nights a week.)                                                                                                                                                                                                                                                                                                                                                                                                                                                                                                                                                                                                                                                                                                                                                                                                                                                                                                                                                                                                                                                                                                                                                                                                                                                                                                                                                                                                                                                                                                                                                                                                                                                                                                                                                                                                                                                                                                                                                                                                                                             </span></td><td>436</td><td>253</td><td>phenotypes</td><td>NA</td><td>NA</td></tr>\n",
       "\t<tr><th scope=row>20</th><td>\\SAC\\interimhx\\2. Who is the respondent (check all that apply): (choice=Participants mother)\\                                                                                </td><td> TRUE</td><td>Checked,Unchecked                                                                                                                                                                                                                                                                                                                                                                                                                                                                                                                                                                                                                                                                                                                                                                                                                                                                                                                                                                                                                                                                                                                                                                                                                                                                                                                                                                                                                                                                                                                                                                                                                                                                                                                                                                                                                                                                                                                                                                                                                                                                                                                                                                                                  </td><td>231</td><td>224</td><td>phenotypes</td><td>NA</td><td>NA</td></tr>\n",
       "</tbody>\n",
       "</table>\n"
      ],
      "text/latex": [
       "A data.frame: 11 × 8\n",
       "\\begin{tabular}{r|llllllll}\n",
       "  & name & categorical & categoryValues & observationCount & patientCount & HpdsDataType & min & max\\\\\n",
       "  & <chr> & <lgl> & <chr> & <int> & <int> & <chr> & <dbl> & <dbl>\\\\\n",
       "\\hline\n",
       "\t10 & \\textbackslash{}SAC\\textbackslash{}semtel\\textbackslash{}6. Since the last study visit, has the participant had an attack of wheezing, coughing, shortness of breath or chest tightness after playing hard or exercising?\\textbackslash{} &  TRUE & No,Yes                                                                                                                                                                                                                                                                                                                                                                                                                                                                                                                                                                                                                                                                                                                                                                                                                                                                                                                                                                                                                                                                                                                                                                                                                                                                                                                                                                                                                                                                                                                                                                                                                                                                                                                                                                                                                                                                                                                                                                                                                                                                                                                                                                                                              &  67 &  66 & phenotypes & NA & NA\\\\\n",
       "\t11 & \\textbackslash{}SAC\\textbackslash{}phlebot\\textbackslash{}12. Comments on blood drawing/centrifuging\\textbackslash{}                                                                                                                      &  TRUE & DNA sample obtained,Difficult blood draw pt c portacath clinic not  open today minimal blood obtainted,Difficult veni puncture minimal blood obtained,Difficult venipencture 1cc obtained in tube only. pt did not want additional attempt to obtain more blood,Difficult venipuncture pt veins exhausted - will attempt at next clinic or research visit.,Difficult venipuncture recently d/c from hospital,Difficult venipuncture x 2 pt viens exhausted pt did not want another attempt. no blood obtained this visit. OK to try at subsequent clinic research visit per pt.,Difficult venipunture pt veins exausted two recent hospitalizations,Dificult blood draw minimal blood obtained,Hemalyzed,IgE was no necessary,LDH not obtained,Mother refused to because of religious beliefs,NONE,No LDH obtained because of Hemolyzed sample,No LDH was obtained,Port Accessed in Heme/onc clinic by rn's tolerated well, port flushed / deaccessed,Portacath accessed by clinic RN blood obtained.,centrifuge time missing,difficult Venipuncture parent only wanted one try this time. May attempt again.,difficult venipenture pt viens exhausted to recent surgery and pain admit no blood obtained. pt refused retry,difficult venipuncture pt Veins exhausted recent admit- will try at visit 2,difficult venipuncture, Very small veins. Will obtain cbc results from clinic visit today,difficult venipunture, no blood obtained, pt cooperative; will try at next clinic research visit,drawn from mediport on first attempt without incident; flush required for blood return,missing time,no Blood obtained pt became very tearful and upset. will attempt at next visit. CBC obtained at clinic visit today,no Virgina sample was sent because participant is Chronic tx,no blood obtained poor venous access will attempt to obtain at sebsequent visit.,no blood obtained will attempt at sebsequent visit,no blood obtained- difficult venipuncture will obtain univ of Virginia sample at clinic visit in a month,none,time missing,time missing from centrifuged,total amount not entered; draw tubes sent to a different lab for processing; main centrifuge being serviced,very low hematocrit &  61 &  55 & phenotypes & NA & NA\\\\\n",
       "\t12 & \\textbackslash{}SAC\\textbackslash{}sleep\\textbackslash{}Screaming in his/her sleep\\textbackslash{}                                                                                                                                        &  TRUE & Don't Know,Never (does not happen),No answer,Not Often (<1 night/day a week),Often (3 to 5 nights/days a week),Sometimes (1 to 2 nights/days a week)                                                                                                                                                                                                                                                                                                                                                                                                                                                                                                                                                                                                                                                                                                                                                                                                                                                                                                                                                                                                                                                                                                                                                                                                                                                                                                                                                                                                                                                                                                                                                                                                                                                                                                                                                                                                                                                                                                                                                                                                                                                                & 197 & 197 & phenotypes & NA & NA\\\\\n",
       "\t13 & \\textbackslash{}SAC\\textbackslash{}event\\textbackslash{}5. Has the participant had a surgical procedure?\\textbackslash{}                                                                                                                  &  TRUE & No,Yes                                                                                                                                                                                                                                                                                                                                                                                                                                                                                                                                                                                                                                                                                                                                                                                                                                                                                                                                                                                                                                                                                                                                                                                                                                                                                                                                                                                                                                                                                                                                                                                                                                                                                                                                                                                                                                                                                                                                                                                                                                                                                                                                                                                                              & 122 & 102 & phenotypes & NA & NA\\\\\n",
       "\t14 & \\textbackslash{}SAC\\textbackslash{}ih\\_form\\textbackslash{}6. In the past MONTH, how often has the participant had cough, wheeze, shortness of breath, or chest tightness while exercising or playing?\\textbackslash{}                     &  TRUE & 10 or more times per month,2 or fewer times per month,3- 4 times per month,5 - 9 times per month                                                                                                                                                                                                                                                                                                                                                                                                                                                                                                                                                                                                                                                                                                                                                                                                                                                                                                                                                                                                                                                                                                                                                                                                                                                                                                                                                                                                                                                                                                                                                                                                                                                                                                                                                                                                                                                                                                                                                                                                                                                                                                                    & 372 & 253 & phenotypes & NA & NA\\\\\n",
       "\t15 & \\textbackslash{}SAC\\textbackslash{}interimhx\\textbackslash{}12a. If Yes, reason for MRI (check all that apply): (choice=Seizure)\\textbackslash{}                                                                                          &  TRUE & Checked,Unchecked                                                                                                                                                                                                                                                                                                                                                                                                                                                                                                                                                                                                                                                                                                                                                                                                                                                                                                                                                                                                                                                                                                                                                                                                                                                                                                                                                                                                                                                                                                                                                                                                                                                                                                                                                                                                                                                                                                                                                                                                                                                                                                                                                                                                   & 224 & 224 & phenotypes & NA & NA\\\\\n",
       "\t16 & \\textbackslash{}SAC\\textbackslash{}sleep\\textbackslash{}Usual Wake Time\\textbackslash{}                                                                                                                                                   &  TRUE & 01:00,01:30,02:00,02:30,05:00,05:30,05:40,05:45,06:00,06:15,06:20,06:30,06:40,06:45,06:50,07:00,07:15,07:20,07:30,07:40,07:45,08:00,08:15,08:30,08:45,09:00,09:10,09:30,10:00,10:30,11:00,11:30,12:00,12:30,13:00,15:00,19:00,22:00                                                                                                                                                                                                                                                                                                                                                                                                                                                                                                                                                                                                                                                                                                                                                                                                                                                                                                                                                                                                                                                                                                                                                                                                                                                                                                                                                                                                                                                                                                                                                                                                                                                                                                                                                                                                                                                                                                                                                                                 & 390 & 196 & phenotypes & NA & NA\\\\\n",
       "\t17 & \\textbackslash{}SAC\\textbackslash{}interimhx\\textbackslash{}30a. How many times?\\textbackslash{}                                                                                                                                          & FALSE & NA                                                                                                                                                                                                                                                                                                                                                                                                                                                                                                                                                                                                                                                                                                                                                                                                                                                                                                                                                                                                                                                                                                                                                                                                                                                                                                                                                                                                                                                                                                                                                                                                                                                                                                                                                                                                                                                                                                                                                                                                                                                                                                                                                                                                                  &  29 &  27 & phenotypes &  0 &  6\\\\\n",
       "\t18 & \\textbackslash{}SAC\\textbackslash{}ih\\_form\\textbackslash{}13. Has the participant had an attack of wheezing that has caused him/her to be short of breath\\textbackslash{}                                                                 &  TRUE & No,Yes                                                                                                                                                                                                                                                                                                                                                                                                                                                                                                                                                                                                                                                                                                                                                                                                                                                                                                                                                                                                                                                                                                                                                                                                                                                                                                                                                                                                                                                                                                                                                                                                                                                                                                                                                                                                                                                                                                                                                                                                                                                                                                                                                                                                              & 319 & 253 & phenotypes & NA & NA\\\\\n",
       "\t19 & \\textbackslash{}SAC\\textbackslash{}ih\\_form\\textbackslash{}Trouble falling asleep?\\textbackslash{}                                                                                                                                         &  TRUE & Always. (6 to 7 nights a week.),Don't know.,Never. (Does not happen.),Not often. (< 1 night a week.),Often. (3 to 5 nights a week.),Sometimes. (1 to 2 nights a week.)                                                                                                                                                                                                                                                                                                                                                                                                                                                                                                                                                                                                                                                                                                                                                                                                                                                                                                                                                                                                                                                                                                                                                                                                                                                                                                                                                                                                                                                                                                                                                                                                                                                                                                                                                                                                                                                                                                                                                                                                                                              & 436 & 253 & phenotypes & NA & NA\\\\\n",
       "\t20 & \\textbackslash{}SAC\\textbackslash{}interimhx\\textbackslash{}2. Who is the respondent (check all that apply): (choice=Participants mother)\\textbackslash{}                                                                                 &  TRUE & Checked,Unchecked                                                                                                                                                                                                                                                                                                                                                                                                                                                                                                                                                                                                                                                                                                                                                                                                                                                                                                                                                                                                                                                                                                                                                                                                                                                                                                                                                                                                                                                                                                                                                                                                                                                                                                                                                                                                                                                                                                                                                                                                                                                                                                                                                                                                   & 231 & 224 & phenotypes & NA & NA\\\\\n",
       "\\end{tabular}\n"
      ],
      "text/markdown": [
       "\n",
       "A data.frame: 11 × 8\n",
       "\n",
       "| <!--/--> | name &lt;chr&gt; | categorical &lt;lgl&gt; | categoryValues &lt;chr&gt; | observationCount &lt;int&gt; | patientCount &lt;int&gt; | HpdsDataType &lt;chr&gt; | min &lt;dbl&gt; | max &lt;dbl&gt; |\n",
       "|---|---|---|---|---|---|---|---|---|\n",
       "| 10 | \\SAC\\semtel\\6. Since the last study visit, has the participant had an attack of wheezing, coughing, shortness of breath or chest tightness after playing hard or exercising?\\ |  TRUE | No,Yes                                                                                                                                                                                                                                                                                                                                                                                                                                                                                                                                                                                                                                                                                                                                                                                                                                                                                                                                                                                                                                                                                                                                                                                                                                                                                                                                                                                                                                                                                                                                                                                                                                                                                                                                                                                                                                                                                                                                                                                                                                                                                                                                                                                                              |  67 |  66 | phenotypes | NA | NA |\n",
       "| 11 | \\SAC\\phlebot\\12. Comments on blood drawing/centrifuging\\                                                                                                                      |  TRUE | DNA sample obtained,Difficult blood draw pt c portacath clinic not  open today minimal blood obtainted,Difficult veni puncture minimal blood obtained,Difficult venipencture 1cc obtained in tube only. pt did not want additional attempt to obtain more blood,Difficult venipuncture pt veins exhausted - will attempt at next clinic or research visit.,Difficult venipuncture recently d/c from hospital,Difficult venipuncture x 2 pt viens exhausted pt did not want another attempt. no blood obtained this visit. OK to try at subsequent clinic research visit per pt.,Difficult venipunture pt veins exausted two recent hospitalizations,Dificult blood draw minimal blood obtained,Hemalyzed,IgE was no necessary,LDH not obtained,Mother refused to because of religious beliefs,NONE,No LDH obtained because of Hemolyzed sample,No LDH was obtained,Port Accessed in Heme/onc clinic by rn's tolerated well, port flushed / deaccessed,Portacath accessed by clinic RN blood obtained.,centrifuge time missing,difficult Venipuncture parent only wanted one try this time. May attempt again.,difficult venipenture pt viens exhausted to recent surgery and pain admit no blood obtained. pt refused retry,difficult venipuncture pt Veins exhausted recent admit- will try at visit 2,difficult venipuncture, Very small veins. Will obtain cbc results from clinic visit today,difficult venipunture, no blood obtained, pt cooperative; will try at next clinic research visit,drawn from mediport on first attempt without incident; flush required for blood return,missing time,no Blood obtained pt became very tearful and upset. will attempt at next visit. CBC obtained at clinic visit today,no Virgina sample was sent because participant is Chronic tx,no blood obtained poor venous access will attempt to obtain at sebsequent visit.,no blood obtained will attempt at sebsequent visit,no blood obtained- difficult venipuncture will obtain univ of Virginia sample at clinic visit in a month,none,time missing,time missing from centrifuged,total amount not entered; draw tubes sent to a different lab for processing; main centrifuge being serviced,very low hematocrit |  61 |  55 | phenotypes | NA | NA |\n",
       "| 12 | \\SAC\\sleep\\Screaming in his/her sleep\\                                                                                                                                        |  TRUE | Don't Know,Never (does not happen),No answer,Not Often (&lt;1 night/day a week),Often (3 to 5 nights/days a week),Sometimes (1 to 2 nights/days a week)                                                                                                                                                                                                                                                                                                                                                                                                                                                                                                                                                                                                                                                                                                                                                                                                                                                                                                                                                                                                                                                                                                                                                                                                                                                                                                                                                                                                                                                                                                                                                                                                                                                                                                                                                                                                                                                                                                                                                                                                                                                                | 197 | 197 | phenotypes | NA | NA |\n",
       "| 13 | \\SAC\\event\\5. Has the participant had a surgical procedure?\\                                                                                                                  |  TRUE | No,Yes                                                                                                                                                                                                                                                                                                                                                                                                                                                                                                                                                                                                                                                                                                                                                                                                                                                                                                                                                                                                                                                                                                                                                                                                                                                                                                                                                                                                                                                                                                                                                                                                                                                                                                                                                                                                                                                                                                                                                                                                                                                                                                                                                                                                              | 122 | 102 | phenotypes | NA | NA |\n",
       "| 14 | \\SAC\\ih_form\\6. In the past MONTH, how often has the participant had cough, wheeze, shortness of breath, or chest tightness while exercising or playing?\\                     |  TRUE | 10 or more times per month,2 or fewer times per month,3- 4 times per month,5 - 9 times per month                                                                                                                                                                                                                                                                                                                                                                                                                                                                                                                                                                                                                                                                                                                                                                                                                                                                                                                                                                                                                                                                                                                                                                                                                                                                                                                                                                                                                                                                                                                                                                                                                                                                                                                                                                                                                                                                                                                                                                                                                                                                                                                    | 372 | 253 | phenotypes | NA | NA |\n",
       "| 15 | \\SAC\\interimhx\\12a. If Yes, reason for MRI (check all that apply): (choice=Seizure)\\                                                                                          |  TRUE | Checked,Unchecked                                                                                                                                                                                                                                                                                                                                                                                                                                                                                                                                                                                                                                                                                                                                                                                                                                                                                                                                                                                                                                                                                                                                                                                                                                                                                                                                                                                                                                                                                                                                                                                                                                                                                                                                                                                                                                                                                                                                                                                                                                                                                                                                                                                                   | 224 | 224 | phenotypes | NA | NA |\n",
       "| 16 | \\SAC\\sleep\\Usual Wake Time\\                                                                                                                                                   |  TRUE | 01:00,01:30,02:00,02:30,05:00,05:30,05:40,05:45,06:00,06:15,06:20,06:30,06:40,06:45,06:50,07:00,07:15,07:20,07:30,07:40,07:45,08:00,08:15,08:30,08:45,09:00,09:10,09:30,10:00,10:30,11:00,11:30,12:00,12:30,13:00,15:00,19:00,22:00                                                                                                                                                                                                                                                                                                                                                                                                                                                                                                                                                                                                                                                                                                                                                                                                                                                                                                                                                                                                                                                                                                                                                                                                                                                                                                                                                                                                                                                                                                                                                                                                                                                                                                                                                                                                                                                                                                                                                                                 | 390 | 196 | phenotypes | NA | NA |\n",
       "| 17 | \\SAC\\interimhx\\30a. How many times?\\                                                                                                                                          | FALSE | NA                                                                                                                                                                                                                                                                                                                                                                                                                                                                                                                                                                                                                                                                                                                                                                                                                                                                                                                                                                                                                                                                                                                                                                                                                                                                                                                                                                                                                                                                                                                                                                                                                                                                                                                                                                                                                                                                                                                                                                                                                                                                                                                                                                                                                  |  29 |  27 | phenotypes |  0 |  6 |\n",
       "| 18 | \\SAC\\ih_form\\13. Has the participant had an attack of wheezing that has caused him/her to be short of breath\\                                                                 |  TRUE | No,Yes                                                                                                                                                                                                                                                                                                                                                                                                                                                                                                                                                                                                                                                                                                                                                                                                                                                                                                                                                                                                                                                                                                                                                                                                                                                                                                                                                                                                                                                                                                                                                                                                                                                                                                                                                                                                                                                                                                                                                                                                                                                                                                                                                                                                              | 319 | 253 | phenotypes | NA | NA |\n",
       "| 19 | \\SAC\\ih_form\\Trouble falling asleep?\\                                                                                                                                         |  TRUE | Always. (6 to 7 nights a week.),Don't know.,Never. (Does not happen.),Not often. (&lt; 1 night a week.),Often. (3 to 5 nights a week.),Sometimes. (1 to 2 nights a week.)                                                                                                                                                                                                                                                                                                                                                                                                                                                                                                                                                                                                                                                                                                                                                                                                                                                                                                                                                                                                                                                                                                                                                                                                                                                                                                                                                                                                                                                                                                                                                                                                                                                                                                                                                                                                                                                                                                                                                                                                                                              | 436 | 253 | phenotypes | NA | NA |\n",
       "| 20 | \\SAC\\interimhx\\2. Who is the respondent (check all that apply): (choice=Participants mother)\\                                                                                 |  TRUE | Checked,Unchecked                                                                                                                                                                                                                                                                                                                                                                                                                                                                                                                                                                                                                                                                                                                                                                                                                                                                                                                                                                                                                                                                                                                                                                                                                                                                                                                                                                                                                                                                                                                                                                                                                                                                                                                                                                                                                                                                                                                                                                                                                                                                                                                                                                                                   | 231 | 224 | phenotypes | NA | NA |\n",
       "\n"
      ],
      "text/plain": [
       "   name                                                                                                                                                                             \n",
       "10 \\\\SAC\\\\semtel\\\\6. Since the last study visit, has the participant had an attack of wheezing, coughing, shortness of breath or chest tightness after playing hard or exercising?\\\\\n",
       "11 \\\\SAC\\\\phlebot\\\\12. Comments on blood drawing/centrifuging\\\\                                                                                                                     \n",
       "12 \\\\SAC\\\\sleep\\\\Screaming in his/her sleep\\\\                                                                                                                                       \n",
       "13 \\\\SAC\\\\event\\\\5. Has the participant had a surgical procedure?\\\\                                                                                                                 \n",
       "14 \\\\SAC\\\\ih_form\\\\6. In the past MONTH, how often has the participant had cough, wheeze, shortness of breath, or chest tightness while exercising or playing?\\\\                    \n",
       "15 \\\\SAC\\\\interimhx\\\\12a. If Yes, reason for MRI (check all that apply): (choice=Seizure)\\\\                                                                                         \n",
       "16 \\\\SAC\\\\sleep\\\\Usual Wake Time\\\\                                                                                                                                                  \n",
       "17 \\\\SAC\\\\interimhx\\\\30a. How many times?\\\\                                                                                                                                         \n",
       "18 \\\\SAC\\\\ih_form\\\\13. Has the participant had an attack of wheezing that has caused him/her to be short of breath\\\\                                                                \n",
       "19 \\\\SAC\\\\ih_form\\\\Trouble falling asleep?\\\\                                                                                                                                        \n",
       "20 \\\\SAC\\\\interimhx\\\\2. Who is the respondent (check all that apply): (choice=Participants mother)\\\\                                                                                \n",
       "   categorical\n",
       "10  TRUE      \n",
       "11  TRUE      \n",
       "12  TRUE      \n",
       "13  TRUE      \n",
       "14  TRUE      \n",
       "15  TRUE      \n",
       "16  TRUE      \n",
       "17 FALSE      \n",
       "18  TRUE      \n",
       "19  TRUE      \n",
       "20  TRUE      \n",
       "   categoryValues                                                                                                                                                                                                                                                                                                                                                                                                                                                                                                                                                                                                                                                                                                                                                                                                                                                                                                                                                                                                                                                                                                                                                                                                                                                                                                                                                                                                                                                                                                                                                                                                                                                                                                                                                                                                                                                                                                                                                                                                                                                                                                                                                                                                     \n",
       "10 No,Yes                                                                                                                                                                                                                                                                                                                                                                                                                                                                                                                                                                                                                                                                                                                                                                                                                                                                                                                                                                                                                                                                                                                                                                                                                                                                                                                                                                                                                                                                                                                                                                                                                                                                                                                                                                                                                                                                                                                                                                                                                                                                                                                                                                                                             \n",
       "11 DNA sample obtained,Difficult blood draw pt c portacath clinic not  open today minimal blood obtainted,Difficult veni puncture minimal blood obtained,Difficult venipencture 1cc obtained in tube only. pt did not want additional attempt to obtain more blood,Difficult venipuncture pt veins exhausted - will attempt at next clinic or research visit.,Difficult venipuncture recently d/c from hospital,Difficult venipuncture x 2 pt viens exhausted pt did not want another attempt. no blood obtained this visit. OK to try at subsequent clinic research visit per pt.,Difficult venipunture pt veins exausted two recent hospitalizations,Dificult blood draw minimal blood obtained,Hemalyzed,IgE was no necessary,LDH not obtained,Mother refused to because of religious beliefs,NONE,No LDH obtained because of Hemolyzed sample,No LDH was obtained,Port Accessed in Heme/onc clinic by rn's tolerated well, port flushed / deaccessed,Portacath accessed by clinic RN blood obtained.,centrifuge time missing,difficult Venipuncture parent only wanted one try this time. May attempt again.,difficult venipenture pt viens exhausted to recent surgery and pain admit no blood obtained. pt refused retry,difficult venipuncture pt Veins exhausted recent admit- will try at visit 2,difficult venipuncture, Very small veins. Will obtain cbc results from clinic visit today,difficult venipunture, no blood obtained, pt cooperative; will try at next clinic research visit,drawn from mediport on first attempt without incident; flush required for blood return,missing time,no Blood obtained pt became very tearful and upset. will attempt at next visit. CBC obtained at clinic visit today,no Virgina sample was sent because participant is Chronic tx,no blood obtained poor venous access will attempt to obtain at sebsequent visit.,no blood obtained will attempt at sebsequent visit,no blood obtained- difficult venipuncture will obtain univ of Virginia sample at clinic visit in a month,none,time missing,time missing from centrifuged,total amount not entered; draw tubes sent to a different lab for processing; main centrifuge being serviced,very low hematocrit\n",
       "12 Don't Know,Never (does not happen),No answer,Not Often (<1 night/day a week),Often (3 to 5 nights/days a week),Sometimes (1 to 2 nights/days a week)                                                                                                                                                                                                                                                                                                                                                                                                                                                                                                                                                                                                                                                                                                                                                                                                                                                                                                                                                                                                                                                                                                                                                                                                                                                                                                                                                                                                                                                                                                                                                                                                                                                                                                                                                                                                                                                                                                                                                                                                                                                               \n",
       "13 No,Yes                                                                                                                                                                                                                                                                                                                                                                                                                                                                                                                                                                                                                                                                                                                                                                                                                                                                                                                                                                                                                                                                                                                                                                                                                                                                                                                                                                                                                                                                                                                                                                                                                                                                                                                                                                                                                                                                                                                                                                                                                                                                                                                                                                                                             \n",
       "14 10 or more times per month,2 or fewer times per month,3- 4 times per month,5 - 9 times per month                                                                                                                                                                                                                                                                                                                                                                                                                                                                                                                                                                                                                                                                                                                                                                                                                                                                                                                                                                                                                                                                                                                                                                                                                                                                                                                                                                                                                                                                                                                                                                                                                                                                                                                                                                                                                                                                                                                                                                                                                                                                                                                   \n",
       "15 Checked,Unchecked                                                                                                                                                                                                                                                                                                                                                                                                                                                                                                                                                                                                                                                                                                                                                                                                                                                                                                                                                                                                                                                                                                                                                                                                                                                                                                                                                                                                                                                                                                                                                                                                                                                                                                                                                                                                                                                                                                                                                                                                                                                                                                                                                                                                  \n",
       "16 01:00,01:30,02:00,02:30,05:00,05:30,05:40,05:45,06:00,06:15,06:20,06:30,06:40,06:45,06:50,07:00,07:15,07:20,07:30,07:40,07:45,08:00,08:15,08:30,08:45,09:00,09:10,09:30,10:00,10:30,11:00,11:30,12:00,12:30,13:00,15:00,19:00,22:00                                                                                                                                                                                                                                                                                                                                                                                                                                                                                                                                                                                                                                                                                                                                                                                                                                                                                                                                                                                                                                                                                                                                                                                                                                                                                                                                                                                                                                                                                                                                                                                                                                                                                                                                                                                                                                                                                                                                                                                \n",
       "17 NA                                                                                                                                                                                                                                                                                                                                                                                                                                                                                                                                                                                                                                                                                                                                                                                                                                                                                                                                                                                                                                                                                                                                                                                                                                                                                                                                                                                                                                                                                                                                                                                                                                                                                                                                                                                                                                                                                                                                                                                                                                                                                                                                                                                                                 \n",
       "18 No,Yes                                                                                                                                                                                                                                                                                                                                                                                                                                                                                                                                                                                                                                                                                                                                                                                                                                                                                                                                                                                                                                                                                                                                                                                                                                                                                                                                                                                                                                                                                                                                                                                                                                                                                                                                                                                                                                                                                                                                                                                                                                                                                                                                                                                                             \n",
       "19 Always. (6 to 7 nights a week.),Don't know.,Never. (Does not happen.),Not often. (< 1 night a week.),Often. (3 to 5 nights a week.),Sometimes. (1 to 2 nights a week.)                                                                                                                                                                                                                                                                                                                                                                                                                                                                                                                                                                                                                                                                                                                                                                                                                                                                                                                                                                                                                                                                                                                                                                                                                                                                                                                                                                                                                                                                                                                                                                                                                                                                                                                                                                                                                                                                                                                                                                                                                                             \n",
       "20 Checked,Unchecked                                                                                                                                                                                                                                                                                                                                                                                                                                                                                                                                                                                                                                                                                                                                                                                                                                                                                                                                                                                                                                                                                                                                                                                                                                                                                                                                                                                                                                                                                                                                                                                                                                                                                                                                                                                                                                                                                                                                                                                                                                                                                                                                                                                                  \n",
       "   observationCount patientCount HpdsDataType min max\n",
       "10  67               66          phenotypes   NA  NA \n",
       "11  61               55          phenotypes   NA  NA \n",
       "12 197              197          phenotypes   NA  NA \n",
       "13 122              102          phenotypes   NA  NA \n",
       "14 372              253          phenotypes   NA  NA \n",
       "15 224              224          phenotypes   NA  NA \n",
       "16 390              196          phenotypes   NA  NA \n",
       "17  29               27          phenotypes    0   6 \n",
       "18 319              253          phenotypes   NA  NA \n",
       "19 436              253          phenotypes   NA  NA \n",
       "20 231              224          phenotypes   NA  NA "
      ]
     },
     "metadata": {},
     "output_type": "display_data"
    }
   ],
   "source": [
    "plain_variablesDict[10:20,]"
   ]
  },
  {
   "cell_type": "markdown",
   "metadata": {},
   "source": [
    "The dictionary currently returned by the API provide various information about the variables, such as:\n",
    "- observationCount: number of entries with non-null value\n",
    "- categorical: type of the variables, True if categorical, False if continuous/numerical\n",
    "- min/max: only provided for non-categorical variables\n",
    "- HpdsDataType: 'phenotypes' or 'genotypes'. Currently, the API only expsoses'phenotypes' variables"
   ]
  },
  {
   "cell_type": "markdown",
   "metadata": {},
   "source": [
    "### Parsing variable names"
   ]
  },
  {
   "cell_type": "markdown",
   "metadata": {},
   "source": [
    "Though helpful, we can use a simple function, `get_multiIndex`, defined in `R_lib/utils.R` to add a little more information and ease working with variables names. \n",
    "\n",
    "Although not an official feature of the API, such functionality illustrate how to quickly scan an select groups of related variables.\n",
    "\n",
    "Printing part of the \"parsed names\" Dictionary allows to quickly see the tree-like organisation of the variables. Moreover, original and simplified variable names are now stored respectively in the \"varName\" and \"simplified_varName\" columns (simplified variable names is simply the last component of the variable name, which usually makes the most sense to know what each variable is about)."
   ]
  },
  {
   "cell_type": "code",
   "execution_count": 49,
   "metadata": {},
   "outputs": [
    {
     "data": {
      "text/html": [
       "<table>\n",
       "<caption>A tibble: 6 × 14</caption>\n",
       "<thead>\n",
       "\t<tr><th scope=col>level_0</th><th scope=col>level_1</th><th scope=col>level_2</th><th scope=col>level_3</th><th scope=col>level_4</th><th scope=col>simplified_name</th><th scope=col>name</th><th scope=col>observationCount</th><th scope=col>categorical</th><th scope=col>categoryValues</th><th scope=col>nb_modalities</th><th scope=col>min</th><th scope=col>max</th><th scope=col>HpdsDataType</th></tr>\n",
       "\t<tr><th scope=col>&lt;chr&gt;</th><th scope=col>&lt;chr&gt;</th><th scope=col>&lt;chr&gt;</th><th scope=col>&lt;chr&gt;</th><th scope=col>&lt;chr&gt;</th><th scope=col>&lt;chr&gt;</th><th scope=col>&lt;chr&gt;</th><th scope=col>&lt;int&gt;</th><th scope=col>&lt;lgl&gt;</th><th scope=col>&lt;chr&gt;</th><th scope=col>&lt;int&gt;</th><th scope=col>&lt;dbl&gt;</th><th scope=col>&lt;dbl&gt;</th><th scope=col>&lt;chr&gt;</th></tr>\n",
       "</thead>\n",
       "<tbody>\n",
       "\t<tr><td>SAC</td><td>asthma_medication</td><td>6c. Stop Date:                                                                            </td><td>NA</td><td>NA</td><td>6c. Stop Date:                                                                            </td><td>\\SAC\\asthma_medication\\6c. Stop Date:\\                                                                    </td><td> 8</td><td>TRUE</td><td>07/03/2011,10/02/2003,12/05/2012,13/02/2008,25/07/2012,29/08/2012,6/3/2013,9/11/2007                                                                                                                                       </td><td>NA</td><td>NA</td><td>NA</td><td>phenotypes</td></tr>\n",
       "\t<tr><td>SAC</td><td>interimhx        </td><td>13b.The participant complain of a stiff neck or neck pain during headache?                </td><td>NA</td><td>NA</td><td>13b.The participant complain of a stiff neck or neck pain during headache?                </td><td>\\SAC\\interimhx\\13b.The participant complain of a stiff neck or neck pain during headache?\\                </td><td>31</td><td>TRUE</td><td>Never,No answer,Once in a While,With most headaches                                                                                                                                                                        </td><td>NA</td><td>NA</td><td>NA</td><td>phenotypes</td></tr>\n",
       "\t<tr><td>SAC</td><td>semtel           </td><td>11. Since the last visit, has the participant had problems with allergies?                </td><td>NA</td><td>NA</td><td>11. Since the last visit, has the participant had problems with allergies?                </td><td>\\SAC\\semtel\\11. Since the last visit, has the participant had problems with allergies?\\                   </td><td>67</td><td>TRUE</td><td>No,Yes                                                                                                                                                                                                                     </td><td>NA</td><td>NA</td><td>NA</td><td>phenotypes</td></tr>\n",
       "\t<tr><td>SAC</td><td>missvisit        </td><td>Assessments to be done at rescheduled visit (check all that apply): (choice=Polysomnogram)</td><td>NA</td><td>NA</td><td>Assessments to be done at rescheduled visit (check all that apply): (choice=Polysomnogram)</td><td>\\SAC\\missvisit\\Assessments to be done at rescheduled visit (check all that apply): (choice=Polysomnogram)\\</td><td> 8</td><td>TRUE</td><td>Unchecked                                                                                                                                                                                                                  </td><td>NA</td><td>NA</td><td>NA</td><td>phenotypes</td></tr>\n",
       "\t<tr><td>SAC</td><td>interimhx        </td><td>Other? Specify:                                                                           </td><td>NA</td><td>NA</td><td>Other? Specify:                                                                           </td><td>\\SAC\\interimhx\\Other? Specify:\\                                                                           </td><td> 1</td><td>TRUE</td><td>Visual Eye spots                                                                                                                                                                                                           </td><td>NA</td><td>NA</td><td>NA</td><td>phenotypes</td></tr>\n",
       "\t<tr><td>SAC</td><td>interim_meds     </td><td>2. Medication Start Date                                                                  </td><td>NA</td><td>NA</td><td>2. Medication Start Date                                                                  </td><td>\\SAC\\interim_meds\\2. Medication Start Date\\                                                               </td><td>20</td><td>TRUE</td><td>01/11/2010,02/07/2007,03/03/2008,06/12/2010,08/12/2008,09/07/2012,09/08/2010,10/07/2012,12/04/2007,12/09/2011,15/06/2009,15/11/2010,16/06/2008,17/06/2010,19/12/2011,20/04/2011,20/12/2010,21/09/2009,25/01/2010,26/01/2009</td><td>NA</td><td>NA</td><td>NA</td><td>phenotypes</td></tr>\n",
       "</tbody>\n",
       "</table>\n"
      ],
      "text/latex": [
       "A tibble: 6 × 14\n",
       "\\begin{tabular}{r|llllllllllllll}\n",
       " level\\_0 & level\\_1 & level\\_2 & level\\_3 & level\\_4 & simplified\\_name & name & observationCount & categorical & categoryValues & nb\\_modalities & min & max & HpdsDataType\\\\\n",
       " <chr> & <chr> & <chr> & <chr> & <chr> & <chr> & <chr> & <int> & <lgl> & <chr> & <int> & <dbl> & <dbl> & <chr>\\\\\n",
       "\\hline\n",
       "\t SAC & asthma\\_medication & 6c. Stop Date:                                                                             & NA & NA & 6c. Stop Date:                                                                             & \\textbackslash{}SAC\\textbackslash{}asthma\\_medication\\textbackslash{}6c. Stop Date:\\textbackslash{}                                                                     &  8 & TRUE & 07/03/2011,10/02/2003,12/05/2012,13/02/2008,25/07/2012,29/08/2012,6/3/2013,9/11/2007                                                                                                                                        & NA & NA & NA & phenotypes\\\\\n",
       "\t SAC & interimhx         & 13b.The participant complain of a stiff neck or neck pain during headache?                 & NA & NA & 13b.The participant complain of a stiff neck or neck pain during headache?                 & \\textbackslash{}SAC\\textbackslash{}interimhx\\textbackslash{}13b.The participant complain of a stiff neck or neck pain during headache?\\textbackslash{}                 & 31 & TRUE & Never,No answer,Once in a While,With most headaches                                                                                                                                                                         & NA & NA & NA & phenotypes\\\\\n",
       "\t SAC & semtel            & 11. Since the last visit, has the participant had problems with allergies?                 & NA & NA & 11. Since the last visit, has the participant had problems with allergies?                 & \\textbackslash{}SAC\\textbackslash{}semtel\\textbackslash{}11. Since the last visit, has the participant had problems with allergies?\\textbackslash{}                    & 67 & TRUE & No,Yes                                                                                                                                                                                                                      & NA & NA & NA & phenotypes\\\\\n",
       "\t SAC & missvisit         & Assessments to be done at rescheduled visit (check all that apply): (choice=Polysomnogram) & NA & NA & Assessments to be done at rescheduled visit (check all that apply): (choice=Polysomnogram) & \\textbackslash{}SAC\\textbackslash{}missvisit\\textbackslash{}Assessments to be done at rescheduled visit (check all that apply): (choice=Polysomnogram)\\textbackslash{} &  8 & TRUE & Unchecked                                                                                                                                                                                                                   & NA & NA & NA & phenotypes\\\\\n",
       "\t SAC & interimhx         & Other? Specify:                                                                            & NA & NA & Other? Specify:                                                                            & \\textbackslash{}SAC\\textbackslash{}interimhx\\textbackslash{}Other? Specify:\\textbackslash{}                                                                            &  1 & TRUE & Visual Eye spots                                                                                                                                                                                                            & NA & NA & NA & phenotypes\\\\\n",
       "\t SAC & interim\\_meds      & 2. Medication Start Date                                                                   & NA & NA & 2. Medication Start Date                                                                   & \\textbackslash{}SAC\\textbackslash{}interim\\_meds\\textbackslash{}2. Medication Start Date\\textbackslash{}                                                                & 20 & TRUE & 01/11/2010,02/07/2007,03/03/2008,06/12/2010,08/12/2008,09/07/2012,09/08/2010,10/07/2012,12/04/2007,12/09/2011,15/06/2009,15/11/2010,16/06/2008,17/06/2010,19/12/2011,20/04/2011,20/12/2010,21/09/2009,25/01/2010,26/01/2009 & NA & NA & NA & phenotypes\\\\\n",
       "\\end{tabular}\n"
      ],
      "text/markdown": [
       "\n",
       "A tibble: 6 × 14\n",
       "\n",
       "| level_0 &lt;chr&gt; | level_1 &lt;chr&gt; | level_2 &lt;chr&gt; | level_3 &lt;chr&gt; | level_4 &lt;chr&gt; | simplified_name &lt;chr&gt; | name &lt;chr&gt; | observationCount &lt;int&gt; | categorical &lt;lgl&gt; | categoryValues &lt;chr&gt; | nb_modalities &lt;int&gt; | min &lt;dbl&gt; | max &lt;dbl&gt; | HpdsDataType &lt;chr&gt; |\n",
       "|---|---|---|---|---|---|---|---|---|---|---|---|---|---|\n",
       "| SAC | asthma_medication | 6c. Stop Date:                                                                             | NA | NA | 6c. Stop Date:                                                                             | \\SAC\\asthma_medication\\6c. Stop Date:\\                                                                     |  8 | TRUE | 07/03/2011,10/02/2003,12/05/2012,13/02/2008,25/07/2012,29/08/2012,6/3/2013,9/11/2007                                                                                                                                        | NA | NA | NA | phenotypes |\n",
       "| SAC | interimhx         | 13b.The participant complain of a stiff neck or neck pain during headache?                 | NA | NA | 13b.The participant complain of a stiff neck or neck pain during headache?                 | \\SAC\\interimhx\\13b.The participant complain of a stiff neck or neck pain during headache?\\                 | 31 | TRUE | Never,No answer,Once in a While,With most headaches                                                                                                                                                                         | NA | NA | NA | phenotypes |\n",
       "| SAC | semtel            | 11. Since the last visit, has the participant had problems with allergies?                 | NA | NA | 11. Since the last visit, has the participant had problems with allergies?                 | \\SAC\\semtel\\11. Since the last visit, has the participant had problems with allergies?\\                    | 67 | TRUE | No,Yes                                                                                                                                                                                                                      | NA | NA | NA | phenotypes |\n",
       "| SAC | missvisit         | Assessments to be done at rescheduled visit (check all that apply): (choice=Polysomnogram) | NA | NA | Assessments to be done at rescheduled visit (check all that apply): (choice=Polysomnogram) | \\SAC\\missvisit\\Assessments to be done at rescheduled visit (check all that apply): (choice=Polysomnogram)\\ |  8 | TRUE | Unchecked                                                                                                                                                                                                                   | NA | NA | NA | phenotypes |\n",
       "| SAC | interimhx         | Other? Specify:                                                                            | NA | NA | Other? Specify:                                                                            | \\SAC\\interimhx\\Other? Specify:\\                                                                            |  1 | TRUE | Visual Eye spots                                                                                                                                                                                                            | NA | NA | NA | phenotypes |\n",
       "| SAC | interim_meds      | 2. Medication Start Date                                                                   | NA | NA | 2. Medication Start Date                                                                   | \\SAC\\interim_meds\\2. Medication Start Date\\                                                                | 20 | TRUE | 01/11/2010,02/07/2007,03/03/2008,06/12/2010,08/12/2008,09/07/2012,09/08/2010,10/07/2012,12/04/2007,12/09/2011,15/06/2009,15/11/2010,16/06/2008,17/06/2010,19/12/2011,20/04/2011,20/12/2010,21/09/2009,25/01/2010,26/01/2009 | NA | NA | NA | phenotypes |\n",
       "\n"
      ],
      "text/plain": [
       "  level_0 level_1          \n",
       "1 SAC     asthma_medication\n",
       "2 SAC     interimhx        \n",
       "3 SAC     semtel           \n",
       "4 SAC     missvisit        \n",
       "5 SAC     interimhx        \n",
       "6 SAC     interim_meds     \n",
       "  level_2                                                                                   \n",
       "1 6c. Stop Date:                                                                            \n",
       "2 13b.The participant complain of a stiff neck or neck pain during headache?                \n",
       "3 11. Since the last visit, has the participant had problems with allergies?                \n",
       "4 Assessments to be done at rescheduled visit (check all that apply): (choice=Polysomnogram)\n",
       "5 Other? Specify:                                                                           \n",
       "6 2. Medication Start Date                                                                  \n",
       "  level_3 level_4\n",
       "1 NA      NA     \n",
       "2 NA      NA     \n",
       "3 NA      NA     \n",
       "4 NA      NA     \n",
       "5 NA      NA     \n",
       "6 NA      NA     \n",
       "  simplified_name                                                                           \n",
       "1 6c. Stop Date:                                                                            \n",
       "2 13b.The participant complain of a stiff neck or neck pain during headache?                \n",
       "3 11. Since the last visit, has the participant had problems with allergies?                \n",
       "4 Assessments to be done at rescheduled visit (check all that apply): (choice=Polysomnogram)\n",
       "5 Other? Specify:                                                                           \n",
       "6 2. Medication Start Date                                                                  \n",
       "  name                                                                                                          \n",
       "1 \\\\SAC\\\\asthma_medication\\\\6c. Stop Date:\\\\                                                                    \n",
       "2 \\\\SAC\\\\interimhx\\\\13b.The participant complain of a stiff neck or neck pain during headache?\\\\                \n",
       "3 \\\\SAC\\\\semtel\\\\11. Since the last visit, has the participant had problems with allergies?\\\\                   \n",
       "4 \\\\SAC\\\\missvisit\\\\Assessments to be done at rescheduled visit (check all that apply): (choice=Polysomnogram)\\\\\n",
       "5 \\\\SAC\\\\interimhx\\\\Other? Specify:\\\\                                                                           \n",
       "6 \\\\SAC\\\\interim_meds\\\\2. Medication Start Date\\\\                                                               \n",
       "  observationCount categorical\n",
       "1  8               TRUE       \n",
       "2 31               TRUE       \n",
       "3 67               TRUE       \n",
       "4  8               TRUE       \n",
       "5  1               TRUE       \n",
       "6 20               TRUE       \n",
       "  categoryValues                                                                                                                                                                                                             \n",
       "1 07/03/2011,10/02/2003,12/05/2012,13/02/2008,25/07/2012,29/08/2012,6/3/2013,9/11/2007                                                                                                                                       \n",
       "2 Never,No answer,Once in a While,With most headaches                                                                                                                                                                        \n",
       "3 No,Yes                                                                                                                                                                                                                     \n",
       "4 Unchecked                                                                                                                                                                                                                  \n",
       "5 Visual Eye spots                                                                                                                                                                                                           \n",
       "6 01/11/2010,02/07/2007,03/03/2008,06/12/2010,08/12/2008,09/07/2012,09/08/2010,10/07/2012,12/04/2007,12/09/2011,15/06/2009,15/11/2010,16/06/2008,17/06/2010,19/12/2011,20/04/2011,20/12/2010,21/09/2009,25/01/2010,26/01/2009\n",
       "  nb_modalities min max HpdsDataType\n",
       "1 NA            NA  NA  phenotypes  \n",
       "2 NA            NA  NA  phenotypes  \n",
       "3 NA            NA  NA  phenotypes  \n",
       "4 NA            NA  NA  phenotypes  \n",
       "5 NA            NA  NA  phenotypes  \n",
       "6 NA            NA  NA  phenotypes  "
      ]
     },
     "metadata": {},
     "output_type": "display_data"
    }
   ],
   "source": [
    "# Display the variables tree hierarchy from the variables name\n",
    "variablesDict <- get_multiIndex_variablesDict(plain_variablesDict)\n",
    "head(variablesDict)"
   ]
  },
  {
   "cell_type": "markdown",
   "metadata": {},
   "source": [
    "Below is a simple example to illustrate the ease of use a parsed dictionary. Let's say we are interested in every variables pertaining to the \"Medical history\" and \"Medication history\" subcategories."
   ]
  },
  {
   "cell_type": "code",
   "execution_count": null,
   "metadata": {},
   "outputs": [],
   "source": [
    "mask_medication = variablesDict[,3] == \"Medication History\"\n",
    "mask_medical = variablesDict[,3] == \"Medical History\"\n",
    "medication_history_variables = variablesDict[mask_medical | mask_medication,]\n",
    "medication_history_variables"
   ]
  },
  {
   "cell_type": "markdown",
   "metadata": {},
   "source": [
    "Although pretty simple, it can be easily combined with other filters to quickly select necessary variables."
   ]
  },
  {
   "cell_type": "markdown",
   "metadata": {},
   "source": [
    "## Querying and retrieving data"
   ]
  },
  {
   "cell_type": "markdown",
   "metadata": {},
   "source": [
    "Beside from the dictionary, the second cornerstone of the API are the `query` functions (`hpds::query.anyof`, `hpds::query.select`, `hpds::query.filter`, `hpds::query.require`). They are the entering point to retrieve data from the resource."
   ]
  },
  {
   "cell_type": "markdown",
   "metadata": {},
   "source": [
    "First, we need to create a query object."
   ]
  },
  {
   "cell_type": "code",
   "execution_count": 43,
   "metadata": {},
   "outputs": [],
   "source": [
    "my_query <- hpds::new.query(resource = resource)"
   ]
  },
  {
   "cell_type": "markdown",
   "metadata": {},
   "source": [
    "The query object created will be then be passed to the different query functions to build the query: `hpds::query.anyof`, `hpds::query.select`, `hpds::query.filter`, `hpds::query.require`. Each of those methods accept a query object, a list of variable names, and eventual additional parameters"
   ]
  },
  {
   "cell_type": "markdown",
   "metadata": {},
   "source": [
    "- The `query.select.add()` method accept variable names as string or list of strings as argument, and will allow the query to return all variables included in the list, without any record (ie subjects/rows) subsetting."
   ]
  },
  {
   "cell_type": "markdown",
   "metadata": {},
   "source": [
    "- The `query.require.add()` method accept variable names as string or list of strings as argument, and will allow the query to return all the variables passed, and only records that do not contain any null values for those variables."
   ]
  },
  {
   "cell_type": "markdown",
   "metadata": {},
   "source": [
    "- The `query.anyof.add()` method accept variable names as string or list of strings as argument, and will allow the query to return all variables included in the list, and only records that do contain at least one non-null value for those variables."
   ]
  },
  {
   "cell_type": "markdown",
   "metadata": {},
   "source": [
    "- The `query.filter.add()` method accept variable names a variable name as strings as argument, plus additional values to filter on that given variable. The query will return this variable and only the records that do match this filter."
   ]
  },
  {
   "cell_type": "markdown",
   "metadata": {},
   "source": [
    "All those 4 methods can be combined when building a query. The record eventually returned by the query have to meet all the different specified filters."
   ]
  },
  {
   "cell_type": "markdown",
   "metadata": {},
   "source": [
    "#### Building the query"
   ]
  },
  {
   "cell_type": "code",
   "execution_count": 50,
   "metadata": {},
   "outputs": [],
   "source": [
    "# Selecting all variables from \"SAC\" study\n",
    "mask_study = variablesDict[[\"level_0\"]] == \"SAC\"\n",
    "varnames = variablesDict[mask_study, \"name\"] %>% as.list()"
   ]
  },
  {
   "cell_type": "code",
   "execution_count": 51,
   "metadata": {},
   "outputs": [],
   "source": [
    "mask_smoke <- variablesDict[\"simplified_name\"] == \"40. Does the participant LIVE with anyone who currently smokes cigarettes? (not only the place where you live most of the time, but any other place where you also spend the night on a regular basis i.e. Grandparents' house, mom's house or dad's house, etc.)\"\n",
    "smoke <- variablesDict[mask_smoke, \"name\"] \n",
    "\n",
    "mask_stroke <- variablesDict[\"simplified_name\"] == \"12. Has the participant ever had a diagnosis of a silent stroke?\"\n",
    "stroke <- variablesDict[mask_stroke, \"name\"] \n",
    "values_stroke <- variablesDict[mask_stroke, \"categoryValues\"]"
   ]
  },
  {
   "cell_type": "code",
   "execution_count": 52,
   "metadata": {},
   "outputs": [
    {
     "name": "stderr",
     "output_type": "stream",
     "text": [
      "Warning message in if (has.key(key, self$data) == TRUE) {:\n",
      "“la condition a une longueur > 1 et seul le premier élément est utilisé”\n",
      "Warning message in if (str_detect(norm_str, \"rs[0-9]+$\")) {:\n",
      "“la condition a une longueur > 1 et seul le premier élément est utilisé”\n",
      "Warning message in if (str_detect(norm_str, \"[0-9]+,[0-9\\\\.]+,.*\")) {:\n",
      "“la condition a une longueur > 1 et seul le premier élément est utilisé”\n"
     ]
    }
   ],
   "source": [
    "hpds::query.require.add(my_query, keys = smoke)\n",
    "hpds::query.filter.add(my_query, \n",
    "                       keys = stroke,\n",
    "                       values=\"Yes\")\n",
    "hpds::query.select.add(my_query, keys = varnames)\n",
    "my_df <- hpds::query.run(my_query, result.type = \"dataframe\")"
   ]
  },
  {
   "cell_type": "markdown",
   "metadata": {},
   "source": [
    "## Retrieving the data"
   ]
  },
  {
   "cell_type": "markdown",
   "metadata": {},
   "source": [
    "Once our query object is finally built, we use the `query.run` function to retrieve the data corresponding to our query"
   ]
  },
  {
   "cell_type": "code",
   "execution_count": null,
   "metadata": {},
   "outputs": [],
   "source": [
    "my_df <- hpds::query.run(my_query, result.type = \"dataframe\")"
   ]
  },
  {
   "cell_type": "code",
   "execution_count": null,
   "metadata": {},
   "outputs": [],
   "source": [
    "dim(my_df)"
   ]
  },
  {
   "cell_type": "code",
   "execution_count": null,
   "metadata": {},
   "outputs": [],
   "source": [
    "head(my_df)"
   ]
  },
  {
   "cell_type": "markdown",
   "metadata": {},
   "source": [
    "From this point, we can proceed with the data management and analysis using any other R function or libraries."
   ]
  }
 ],
 "metadata": {
  "kernelspec": {
   "display_name": "R",
   "language": "R",
   "name": "ir"
  },
  "language_info": {
   "codemirror_mode": "r",
   "file_extension": ".r",
   "mimetype": "text/x-r-source",
   "name": "R",
   "pygments_lexer": "r",
   "version": "3.6.1"
  }
 },
 "nbformat": 4,
 "nbformat_minor": 4
}
