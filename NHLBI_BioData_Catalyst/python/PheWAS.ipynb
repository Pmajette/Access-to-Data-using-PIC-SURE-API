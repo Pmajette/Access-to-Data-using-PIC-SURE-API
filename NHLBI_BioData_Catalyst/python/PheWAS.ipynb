{
 "cells": [
  {
   "cell_type": "markdown",
   "metadata": {},
   "source": [
    "# Phenome-Wide analysis on TOPMed-hosted studies"
   ]
  },
  {
   "cell_type": "markdown",
   "metadata": {},
   "source": [
    "This notebook is an illustration example of how to use the python **PIC-SURE API** to select and query data from an HPDS-hosted database. It takes as use-case a simple PheWAS analysis. This notebook is intentionally straightforward, and explanation provided are only aimed at guiding through the PheWAS analysis pipeline. For a more step-by-step introduction to the python PIC-SURE API, see the `PICSURE-API_101.ipynb` notebook."
   ]
  },
  {
   "cell_type": "markdown",
   "metadata": {},
   "source": [
    "**Before running this notebook, please be sure to get a user-specific security token. For more information on how to proceed, see the `get_your_token.ipynb` notebook**"
   ]
  },
  {
   "cell_type": "markdown",
   "metadata": {},
   "source": [
    "# Environment set-up"
   ]
  },
  {
   "cell_type": "markdown",
   "metadata": {},
   "source": [
    "### System requirements\n",
    "- Python 3.6 or later\n",
    "- pip & bash interpreter"
   ]
  },
  {
   "cell_type": "markdown",
   "metadata": {},
   "source": [
    "### Installation of external dependencies"
   ]
  },
  {
   "cell_type": "code",
   "execution_count": 2,
   "metadata": {
    "collapsed": true,
    "jupyter": {
     "outputs_hidden": true
    },
    "pycharm": {
     "is_executing": false
    }
   },
   "outputs": [
    {
     "name": "stdout",
     "text": [
      "Collecting git+https://github.com/hms-dbmi/pic-sure-python-adapter-hpds.git (from -r requirements.txt (line 7))\r\n  Cloning https://github.com/hms-dbmi/pic-sure-python-adapter-hpds.git to /private/var/folders/hm/wn0bpy0j7vl2q9gqnhhccpph0000gn/T/pip-req-build-bia6g0gg\r\n  Running command git clone -q https://github.com/hms-dbmi/pic-sure-python-adapter-hpds.git /private/var/folders/hm/wn0bpy0j7vl2q9gqnhhccpph0000gn/T/pip-req-build-bia6g0gg\r\n",
      "Requirement already satisfied (use --upgrade to upgrade): PicSureHpdsLib==0.9.0 from git+https://github.com/hms-dbmi/pic-sure-python-adapter-hpds.git in /Users/Arnaud/miniconda3/envs/dbmi_jupyterhub/lib/python3.6/site-packages (from -r requirements.txt (line 7))\r\nCollecting git+https://github.com/hms-dbmi/pic-sure-python-client.git (from -r requirements.txt (line 8))\r\n  Cloning https://github.com/hms-dbmi/pic-sure-python-client.git to /private/var/folders/hm/wn0bpy0j7vl2q9gqnhhccpph0000gn/T/pip-req-build-6cz3zv02\r\n  Running command git clone -q https://github.com/hms-dbmi/pic-sure-python-client.git /private/var/folders/hm/wn0bpy0j7vl2q9gqnhhccpph0000gn/T/pip-req-build-6cz3zv02\r\n",
      "Requirement already satisfied (use --upgrade to upgrade): PicSureClient==0.1.0 from git+https://github.com/hms-dbmi/pic-sure-python-client.git in /Users/Arnaud/miniconda3/envs/dbmi_jupyterhub/lib/python3.6/site-packages (from -r requirements.txt (line 8))\r\nRequirement already satisfied: numpy>=1.17.3 in /Users/Arnaud/miniconda3/envs/dbmi_jupyterhub/lib/python3.6/site-packages (from -r requirements.txt (line 1)) (1.17.4)\r\nRequirement already satisfied: matplotlib>=3.1.1 in /Users/Arnaud/miniconda3/envs/dbmi_jupyterhub/lib/python3.6/site-packages (from -r requirements.txt (line 2)) (3.1.2)\r\nRequirement already satisfied: pandas>=0.25.3 in /Users/Arnaud/miniconda3/envs/dbmi_jupyterhub/lib/python3.6/site-packages (from -r requirements.txt (line 3)) (0.25.3)\r\nRequirement already satisfied: scipy>=1.3.1 in /Users/Arnaud/miniconda3/envs/dbmi_jupyterhub/lib/python3.6/site-packages (from -r requirements.txt (line 4)) (1.3.3)\r\nRequirement already satisfied: tqdm>=4.38.0 in /Users/Arnaud/miniconda3/envs/dbmi_jupyterhub/lib/python3.6/site-packages (from -r requirements.txt (line 5)) (4.39.0)\r\n",
      "Requirement already satisfied: statsmodels>=0.10.2 in /Users/Arnaud/miniconda3/envs/dbmi_jupyterhub/lib/python3.6/site-packages (from -r requirements.txt (line 6)) (0.10.2)\r\n",
      "Requirement already satisfied: httplib2 in /Users/Arnaud/miniconda3/envs/dbmi_jupyterhub/lib/python3.6/site-packages (from PicSureHpdsLib==0.9.0->-r requirements.txt (line 7)) (0.17.0)\r\nRequirement already satisfied: python-dateutil>=2.1 in /Users/Arnaud/miniconda3/envs/dbmi_jupyterhub/lib/python3.6/site-packages (from matplotlib>=3.1.1->-r requirements.txt (line 2)) (2.8.1)\r\nRequirement already satisfied: kiwisolver>=1.0.1 in /Users/Arnaud/miniconda3/envs/dbmi_jupyterhub/lib/python3.6/site-packages (from matplotlib>=3.1.1->-r requirements.txt (line 2)) (1.1.0)\r\n",
      "Requirement already satisfied: pyparsing!=2.0.4,!=2.1.2,!=2.1.6,>=2.0.1 in /Users/Arnaud/miniconda3/envs/dbmi_jupyterhub/lib/python3.6/site-packages (from matplotlib>=3.1.1->-r requirements.txt (line 2)) (2.4.5)\r\nRequirement already satisfied: cycler>=0.10 in /Users/Arnaud/miniconda3/envs/dbmi_jupyterhub/lib/python3.6/site-packages (from matplotlib>=3.1.1->-r requirements.txt (line 2)) (0.10.0)\r\nRequirement already satisfied: pytz>=2017.2 in /Users/Arnaud/miniconda3/envs/dbmi_jupyterhub/lib/python3.6/site-packages (from pandas>=0.25.3->-r requirements.txt (line 3)) (2019.3)\r\nRequirement already satisfied: patsy>=0.4.0 in /Users/Arnaud/miniconda3/envs/dbmi_jupyterhub/lib/python3.6/site-packages (from statsmodels>=0.10.2->-r requirements.txt (line 6)) (0.5.1)\r\nRequirement already satisfied: six>=1.5 in /Users/Arnaud/miniconda3/envs/dbmi_jupyterhub/lib/python3.6/site-packages (from python-dateutil>=2.1->matplotlib>=3.1.1->-r requirements.txt (line 2)) (1.13.0)\r\nRequirement already satisfied: setuptools in /Users/Arnaud/miniconda3/envs/dbmi_jupyterhub/lib/python3.6/site-packages (from kiwisolver>=1.0.1->matplotlib>=3.1.1->-r requirements.txt (line 2)) (41.6.0.post20191030)\r\n",
      "Building wheels for collected packages: PicSureHpdsLib, PicSureClient\r\n",
      "  Building wheel for PicSureHpdsLib (setup.py) ... \u001b[?25l-",
      "\b \b\\",
      "\b \bdone\r\n\u001b[?25h  Created wheel for PicSureHpdsLib: filename=PicSureHpdsLib-0.9.0-py2.py3-none-any.whl size=17755 sha256=a0df53fe93908ec9fd6057731dc191344ad901a0793e35f397ed219904aaee60\r\n  Stored in directory: /private/var/folders/hm/wn0bpy0j7vl2q9gqnhhccpph0000gn/T/pip-ephem-wheel-cache-cnt33wnp/wheels/6c/ac/12/4d142709d83e0bdd96c661e183f2dcbb0e03f90e98e5ac256e\r\n",
      "  Building wheel for PicSureClient (setup.py) ... \u001b[?25l-",
      "\b \b\\",
      "\b \bdone\r\n\u001b[?25h  Created wheel for PicSureClient: filename=PicSureClient-0.1.0-py2.py3-none-any.whl size=9030 sha256=0e79f452b7a14887fb23babc6875b2add71e0184f4551f4c54058b70d1fd6305\r\n  Stored in directory: /private/var/folders/hm/wn0bpy0j7vl2q9gqnhhccpph0000gn/T/pip-ephem-wheel-cache-cnt33wnp/wheels/b4/c1/d9/744d4e1c1ba5f0c5d847deba1a7c8f96f47d4b36c610dda114\r\n",
      "Successfully built PicSureHpdsLib PicSureClient\r\n"
     ],
     "output_type": "stream"
    }
   ],
   "source": [
    "import sys\n",
    "!{sys.executable} -m pip install -r requirements.txt"
   ]
  },
  {
   "cell_type": "code",
   "execution_count": 1,
   "metadata": {
    "pycharm": {
     "is_executing": false
    }
   },
   "outputs": [],
   "source": [
    "import json\n",
    "from pprint import pprint\n",
    "\n",
    "import pandas as pd\n",
    "import numpy as np \n",
    "import matplotlib.pyplot as plt\n",
    "from scipy import stats\n",
    "\n",
    "import PicSureHpdsLib\n",
    "import PicSureClient\n",
    "\n",
    "from python_lib.utils import get_multiIndex_variablesDict, get_dic_renaming_vars, joining_variablesDict_onCol"
   ]
  },
  {
   "cell_type": "code",
   "execution_count": 4,
   "metadata": {
    "pycharm": {
     "is_executing": false
    }
   },
   "outputs": [
    {
     "name": "stdout",
     "text": [
      "NB: This Jupyter Notebook has been written using PIC-SURE API following versions:\n- PicSureHpdsLib: 1.1.0\n- PicSureClient: 0.1.0\nThe installed PIC-SURE API libraries versions:\n- PicSureHpdsLib: 1.1.0\n- PicSureClient: 1.1.0\n"
     ],
     "output_type": "stream"
    }
   ],
   "source": [
    "print(\"NB: This Jupyter Notebook has been written using PIC-SURE API following versions:\\n- PicSureHpdsLib: 1.1.0\\n- PicSureClient: 0.1.0\")\n",
    "print(\"The installed PIC-SURE API libraries versions:\\n- PicSureHpdsLib: {0}\\n- PicSureClient: {1}\".format(PicSureHpdsLib.__version__, PicSureClient.__version__))"
   ]
  },
  {
   "cell_type": "code",
   "execution_count": 2,
   "metadata": {
    "pycharm": {
     "is_executing": false
    }
   },
   "outputs": [],
   "source": [
    "# Pandas DataFrame display options\n",
    "pd.set_option(\"max.rows\", 435)\n",
    "\n",
    "# Matplotlib display parameters\n",
    "plt.rcParams[\"figure.figsize\"] = (14,8)\n",
    "font = {'weight' : 'bold',\n",
    "        'size'   : 12}\n",
    "plt.rc('font', **font)"
   ]
  },
  {
   "cell_type": "markdown",
   "metadata": {},
   "source": [
    "## Connecting to a PIC-SURE network"
   ]
  },
  {
   "cell_type": "code",
   "execution_count": 8,
   "metadata": {
    "pycharm": {
     "is_executing": false
    }
   },
   "outputs": [],
   "source": [
    "PICSURE_network_URL = \"https://biodatacatalyst.integration.hms.harvard.edu/picsure\"\n",
    "resource_id = \"02e23f52-f354-4e8b-992c-d37c8b9ba140\"\n",
    "token_file = \"token.txt\""
   ]
  },
  {
   "cell_type": "code",
   "execution_count": 9,
   "metadata": {
    "pycharm": {
     "is_executing": false
    }
   },
   "outputs": [],
   "source": [
    "with open(token_file, \"r\") as f:\n",
    "    my_token = f.read()"
   ]
  },
  {
   "cell_type": "code",
   "execution_count": 10,
   "metadata": {
    "pycharm": {
     "is_executing": false
    }
   },
   "outputs": [],
   "source": [
    "client = PicSureClient.Client()\n",
    "connection = client.connect(PICSURE_network_URL, my_token)\n",
    "adapter = PicSureHpdsLib.Adapter(connection)\n",
    "resource = adapter.useResource(resource_id)"
   ]
  },
  {
   "cell_type": "markdown",
   "metadata": {},
   "source": [
    "## PheWAS analysis"
   ]
  },
  {
   "cell_type": "markdown",
   "metadata": {},
   "source": [
    "In a nutshell, this PheWAS analysis follows those following steps:\n",
    "- Retrieving the variables dictionary, using the PIC-SURE API dedicated methods\n",
    "- From the info provided by the dictionary, retrieving the desired variables and individuals in an exploitable format (ie pd.DataFrame) through PIC-SURE API calls\n",
    "- Data management\n",
    "- Running univariate tests against every phenotypes variable\n",
    "- Accounting for multiple hypotheses testing issue\n",
    "- Plotting the results\n",
    "\n",
    "\n",
    "This analysis is conducted using individuals enrolled in the COPDGene Study. Overall goal of this cohort is to detect underlying genetic factors to develop Chronic Obstructive Pulmonary Disease (COPD), and currently includes more than 10,000 individuals ([more information on COPDGene Study](http://www.copdgene.org))."
   ]
  },
  {
   "cell_type": "markdown",
   "metadata": {},
   "source": [
    "### 1. Retrieving variables dictionary from HPDS Database"
   ]
  },
  {
   "cell_type": "markdown",
   "metadata": {},
   "source": [
    "Retrieving variables dictionary only for the COPDGene study."
   ]
  },
  {
   "cell_type": "code",
   "execution_count": 11,
   "metadata": {
    "pycharm": {
     "is_executing": false
    }
   },
   "outputs": [],
   "source": [
    "copdgene_dic = resource.dictionary().find(\"Genetic Epidemiology of COPD (COPDGene)\").DataFrame()\n",
    "consent_dic = resource.dictionary().find(\"Study Accession with Consent Code\").DataFrame()\n",
    "# line needed bc dictionaries doesn't return the same column type for categorical and numerical variables\n",
    "plain_variablesDict = copdgene_dic.transpose().join(consent_dic.transpose(), how=\"outer\").transpose()"
   ]
  },
  {
   "cell_type": "markdown",
   "metadata": {},
   "source": [
    "Here we retrieved information about all the variables available in COPDGene study, as well as information about the Consent. The Consent variable will be eventually used to filter the patients pertaining to the COPDGene study. We are then combining both dictionaries into a single one. "
   ]
  },
  {
   "cell_type": "code",
   "execution_count": 12,
   "metadata": {
    "collapsed": true,
    "jupyter": {
     "outputs_hidden": true
    },
    "pycharm": {
     "is_executing": false
    }
   },
   "outputs": [
    {
     "data": {
      "text/plain": "                                                   HpdsDataType categorical  \\\nKEY                                                                           \n\\Genetic Epidemiology of COPD (COPDGene)\\Subjec...   phenotypes       False   \n\\Genetic Epidemiology of COPD (COPDGene)\\Subjec...   phenotypes       False   \n\\Genetic Epidemiology of COPD (COPDGene)\\Subjec...   phenotypes        True   \n\\Genetic Epidemiology of COPD (COPDGene)\\Subjec...   phenotypes        True   \n\\Genetic Epidemiology of COPD (COPDGene)\\Subjec...   phenotypes        True   \n\n                                                            categoryValues  \\\nKEY                                                                          \n\\Genetic Epidemiology of COPD (COPDGene)\\Subjec...                    None   \n\\Genetic Epidemiology of COPD (COPDGene)\\Subjec...                    None   \n\\Genetic Epidemiology of COPD (COPDGene)\\Subjec...  [Do not know, No, Yes]   \n\\Genetic Epidemiology of COPD (COPDGene)\\Subjec...  [Do not know, No, Yes]   \n\\Genetic Epidemiology of COPD (COPDGene)\\Subjec...               [No, Yes]   \n\n                                                        max     min  \\\nKEY                                                                   \n\\Genetic Epidemiology of COPD (COPDGene)\\Subjec...  87.8387  0.0214   \n\\Genetic Epidemiology of COPD (COPDGene)\\Subjec...       80       0   \n\\Genetic Epidemiology of COPD (COPDGene)\\Subjec...      NaN     NaN   \n\\Genetic Epidemiology of COPD (COPDGene)\\Subjec...      NaN     NaN   \n\\Genetic Epidemiology of COPD (COPDGene)\\Subjec...      NaN     NaN   \n\n                                                   observationCount  \\\nKEY                                                                   \n\\Genetic Epidemiology of COPD (COPDGene)\\Subjec...             8276   \n\\Genetic Epidemiology of COPD (COPDGene)\\Subjec...            10097   \n\\Genetic Epidemiology of COPD (COPDGene)\\Subjec...            10098   \n\\Genetic Epidemiology of COPD (COPDGene)\\Subjec...             3000   \n\\Genetic Epidemiology of COPD (COPDGene)\\Subjec...            10098   \n\n                                                   patientCount  \nKEY                                                              \n\\Genetic Epidemiology of COPD (COPDGene)\\Subjec...         8276  \n\\Genetic Epidemiology of COPD (COPDGene)\\Subjec...        10097  \n\\Genetic Epidemiology of COPD (COPDGene)\\Subjec...        10098  \n\\Genetic Epidemiology of COPD (COPDGene)\\Subjec...         3000  \n\\Genetic Epidemiology of COPD (COPDGene)\\Subjec...        10098  ",
      "text/html": "<div>\n<style scoped>\n    .dataframe tbody tr th:only-of-type {\n        vertical-align: middle;\n    }\n\n    .dataframe tbody tr th {\n        vertical-align: top;\n    }\n\n    .dataframe thead th {\n        text-align: right;\n    }\n</style>\n<table border=\"1\" class=\"dataframe\">\n  <thead>\n    <tr style=\"text-align: right;\">\n      <th></th>\n      <th>HpdsDataType</th>\n      <th>categorical</th>\n      <th>categoryValues</th>\n      <th>max</th>\n      <th>min</th>\n      <th>observationCount</th>\n      <th>patientCount</th>\n    </tr>\n    <tr>\n      <th>KEY</th>\n      <th></th>\n      <th></th>\n      <th></th>\n      <th></th>\n      <th></th>\n      <th></th>\n      <th></th>\n    </tr>\n  </thead>\n  <tbody>\n    <tr>\n      <th>\\Genetic Epidemiology of COPD (COPDGene)\\Subject Phenotype\\CT Acquisition Parameters\\CT Slicer\\Percent gas trapping total lung: CT Slicer\\</th>\n      <td>phenotypes</td>\n      <td>False</td>\n      <td>None</td>\n      <td>87.8387</td>\n      <td>0.0214</td>\n      <td>8276</td>\n      <td>8276</td>\n    </tr>\n    <tr>\n      <th>\\Genetic Epidemiology of COPD (COPDGene)\\Subject Phenotype\\Respiratory Disease\\Environmental Exposures\\Second-hand Smoke Exposure\\How many years exposed to smoke at work [years]\\</th>\n      <td>phenotypes</td>\n      <td>False</td>\n      <td>None</td>\n      <td>80</td>\n      <td>0</td>\n      <td>10097</td>\n      <td>10097</td>\n    </tr>\n    <tr>\n      <th>\\Genetic Epidemiology of COPD (COPDGene)\\Subject Phenotype\\Respiratory Disease\\Family History\\Asthma: Father or Mother\\Father: asthma\\</th>\n      <td>phenotypes</td>\n      <td>True</td>\n      <td>[Do not know, No, Yes]</td>\n      <td>NaN</td>\n      <td>NaN</td>\n      <td>10098</td>\n      <td>10098</td>\n    </tr>\n    <tr>\n      <th>\\Genetic Epidemiology of COPD (COPDGene)\\Subject Phenotype\\Respiratory Disease\\Respiratory Conditions\\Hayfever\\Hayfever: diagnosed by doctor or other health professional\\</th>\n      <td>phenotypes</td>\n      <td>True</td>\n      <td>[Do not know, No, Yes]</td>\n      <td>NaN</td>\n      <td>NaN</td>\n      <td>3000</td>\n      <td>3000</td>\n    </tr>\n    <tr>\n      <th>\\Genetic Epidemiology of COPD (COPDGene)\\Subject Phenotype\\Respiratory Disease\\Environmental Exposures\\Cigar Smoking\\Have you ever smoked cigars regularly?\\</th>\n      <td>phenotypes</td>\n      <td>True</td>\n      <td>[No, Yes]</td>\n      <td>NaN</td>\n      <td>NaN</td>\n      <td>10098</td>\n      <td>10098</td>\n    </tr>\n  </tbody>\n</table>\n</div>"
     },
     "metadata": {},
     "output_type": "execute_result",
     "execution_count": 12
    }
   ],
   "source": [
    "plain_variablesDict.head()"
   ]
  },
  {
   "cell_type": "code",
   "execution_count": 13,
   "metadata": {
    "pycharm": {
     "is_executing": false
    }
   },
   "outputs": [
    {
     "name": "stdout",
     "text": [
      "\n        [HELP] PicSureHpdsLib.Client(connection).useResource(uuid).dictionary()\n            .find()                 Lists all data dictionary entries\n            .find(search_string)    Lists matching data dictionary entries\n        \n"
     ],
     "output_type": "stream"
    }
   ],
   "source": [
    "resource.dictionary().help()"
   ]
  },
  {
   "cell_type": "code",
   "execution_count": 14,
   "metadata": {
    "collapsed": true,
    "jupyter": {
     "outputs_hidden": true
    },
    "pycharm": {
     "is_executing": false
    }
   },
   "outputs": [
    {
     "data": {
      "text/plain": "                                                                                                                                                                                                                            simplified_name  \\\nlevel_0                                 level_1           level_2                   level_3                                      level_4                                          level_5                                                     \nGenetic Epidemiology of COPD (COPDGene) Subject Phenotype 6MinWalk                  Six minute walk: was your walking limited?   NaN                                              NaN            Six minute walk: was your walking limited?   \n                                                                                    Supplemental O2 used during 6-min walk L/min NaN                                              NaN          Supplemental O2 used during 6-min walk L/min   \n                                                                                    Walk symptoms: back pain                     NaN                                              NaN                              Walk symptoms: back pain   \n                                                                                    Walk symptoms: joint pain                    NaN                                              NaN                             Walk symptoms: joint pain   \n                                                                                    Walk symptoms: leg discomfort/fatigue        NaN                                              NaN                 Walk symptoms: leg discomfort/fatigue   \n                                                                                    Walk symptoms: shortness of breath           NaN                                              NaN                    Walk symptoms: shortness of breath   \n                                                          CT Acquisition Parameters CT Scanner                                   CT scan final approval                           NaN                                CT scan final approval   \n                                                                                                                                 CT scanner                                       NaN                                            CT scanner   \n                                                                                                                                 Siemens sensation-64 flag                        NaN                             Siemens sensation-64 flag   \n                                                                                    CT Slicer                                    Exp Mean Atten / Insp Mean Atten ratio CT Slicer NaN      Exp Mean Atten / Insp Mean Atten ratio CT Slicer   \n\n                                                                                                                                                                                                                                        name  \\\nlevel_0                                 level_1           level_2                   level_3                                      level_4                                          level_5                                                      \nGenetic Epidemiology of COPD (COPDGene) Subject Phenotype 6MinWalk                  Six minute walk: was your walking limited?   NaN                                              NaN      \\Genetic Epidemiology of COPD (COPDGene)\\Subje...   \n                                                                                    Supplemental O2 used during 6-min walk L/min NaN                                              NaN      \\Genetic Epidemiology of COPD (COPDGene)\\Subje...   \n                                                                                    Walk symptoms: back pain                     NaN                                              NaN      \\Genetic Epidemiology of COPD (COPDGene)\\Subje...   \n                                                                                    Walk symptoms: joint pain                    NaN                                              NaN      \\Genetic Epidemiology of COPD (COPDGene)\\Subje...   \n                                                                                    Walk symptoms: leg discomfort/fatigue        NaN                                              NaN      \\Genetic Epidemiology of COPD (COPDGene)\\Subje...   \n                                                                                    Walk symptoms: shortness of breath           NaN                                              NaN      \\Genetic Epidemiology of COPD (COPDGene)\\Subje...   \n                                                          CT Acquisition Parameters CT Scanner                                   CT scan final approval                           NaN      \\Genetic Epidemiology of COPD (COPDGene)\\Subje...   \n                                                                                                                                 CT scanner                                       NaN      \\Genetic Epidemiology of COPD (COPDGene)\\Subje...   \n                                                                                                                                 Siemens sensation-64 flag                        NaN      \\Genetic Epidemiology of COPD (COPDGene)\\Subje...   \n                                                                                    CT Slicer                                    Exp Mean Atten / Insp Mean Atten ratio CT Slicer NaN      \\Genetic Epidemiology of COPD (COPDGene)\\Subje...   \n\n                                                                                                                                                                                          observationCount  \\\nlevel_0                                 level_1           level_2                   level_3                                      level_4                                          level_5                    \nGenetic Epidemiology of COPD (COPDGene) Subject Phenotype 6MinWalk                  Six minute walk: was your walking limited?   NaN                                              NaN                10090   \n                                                                                    Supplemental O2 used during 6-min walk L/min NaN                                              NaN                10089   \n                                                                                    Walk symptoms: back pain                     NaN                                              NaN                 3688   \n                                                                                    Walk symptoms: joint pain                    NaN                                              NaN                 3688   \n                                                                                    Walk symptoms: leg discomfort/fatigue        NaN                                              NaN                 3688   \n                                                                                    Walk symptoms: shortness of breath           NaN                                              NaN                 3688   \n                                                          CT Acquisition Parameters CT Scanner                                   CT scan final approval                           NaN                 9865   \n                                                                                                                                 CT scanner                                       NaN                   10   \n                                                                                                                                 Siemens sensation-64 flag                        NaN                 9865   \n                                                                                    CT Slicer                                    Exp Mean Atten / Insp Mean Atten ratio CT Slicer NaN                 8276   \n\n                                                                                                                                                                                          categorical  \\\nlevel_0                                 level_1           level_2                   level_3                                      level_4                                          level_5               \nGenetic Epidemiology of COPD (COPDGene) Subject Phenotype 6MinWalk                  Six minute walk: was your walking limited?   NaN                                              NaN            True   \n                                                                                    Supplemental O2 used during 6-min walk L/min NaN                                              NaN           False   \n                                                                                    Walk symptoms: back pain                     NaN                                              NaN            True   \n                                                                                    Walk symptoms: joint pain                    NaN                                              NaN            True   \n                                                                                    Walk symptoms: leg discomfort/fatigue        NaN                                              NaN            True   \n                                                                                    Walk symptoms: shortness of breath           NaN                                              NaN            True   \n                                                          CT Acquisition Parameters CT Scanner                                   CT scan final approval                           NaN            True   \n                                                                                                                                 CT scanner                                       NaN           False   \n                                                                                                                                 Siemens sensation-64 flag                        NaN           False   \n                                                                                    CT Slicer                                    Exp Mean Atten / Insp Mean Atten ratio CT Slicer NaN           False   \n\n                                                                                                                                                                                                              categoryValues  \\\nlevel_0                                 level_1           level_2                   level_3                                      level_4                                          level_5                                      \nGenetic Epidemiology of COPD (COPDGene) Subject Phenotype 6MinWalk                  Six minute walk: was your walking limited?   NaN                                              NaN                              [No, Yes]   \n                                                                                    Supplemental O2 used during 6-min walk L/min NaN                                              NaN                                   None   \n                                                                                    Walk symptoms: back pain                     NaN                                              NaN      [Checked (multiple-response), No]   \n                                                                                    Walk symptoms: joint pain                    NaN                                              NaN      [Checked (multiple-response), No]   \n                                                                                    Walk symptoms: leg discomfort/fatigue        NaN                                              NaN      [Checked (multiple-response), No]   \n                                                                                    Walk symptoms: shortness of breath           NaN                                              NaN      [Checked (multiple-response), No]   \n                                                          CT Acquisition Parameters CT Scanner                                   CT scan final approval                           NaN                              [No, Yes]   \n                                                                                                                                 CT scanner                                       NaN                                   None   \n                                                                                                                                 Siemens sensation-64 flag                        NaN                                   None   \n                                                                                    CT Slicer                                    Exp Mean Atten / Insp Mean Atten ratio CT Slicer NaN                                   None   \n\n                                                                                                                                                                                           nb_modalities  \\\nlevel_0                                 level_1           level_2                   level_3                                      level_4                                          level_5                  \nGenetic Epidemiology of COPD (COPDGene) Subject Phenotype 6MinWalk                  Six minute walk: was your walking limited?   NaN                                              NaN                2.0   \n                                                                                    Supplemental O2 used during 6-min walk L/min NaN                                              NaN                NaN   \n                                                                                    Walk symptoms: back pain                     NaN                                              NaN                2.0   \n                                                                                    Walk symptoms: joint pain                    NaN                                              NaN                2.0   \n                                                                                    Walk symptoms: leg discomfort/fatigue        NaN                                              NaN                2.0   \n                                                                                    Walk symptoms: shortness of breath           NaN                                              NaN                2.0   \n                                                          CT Acquisition Parameters CT Scanner                                   CT scan final approval                           NaN                2.0   \n                                                                                                                                 CT scanner                                       NaN                NaN   \n                                                                                                                                 Siemens sensation-64 flag                        NaN                NaN   \n                                                                                    CT Slicer                                    Exp Mean Atten / Insp Mean Atten ratio CT Slicer NaN                NaN   \n\n                                                                                                                                                                                              min  \\\nlevel_0                                 level_1           level_2                   level_3                                      level_4                                          level_5           \nGenetic Epidemiology of COPD (COPDGene) Subject Phenotype 6MinWalk                  Six minute walk: was your walking limited?   NaN                                              NaN         NaN   \n                                                                                    Supplemental O2 used during 6-min walk L/min NaN                                              NaN           0   \n                                                                                    Walk symptoms: back pain                     NaN                                              NaN         NaN   \n                                                                                    Walk symptoms: joint pain                    NaN                                              NaN         NaN   \n                                                                                    Walk symptoms: leg discomfort/fatigue        NaN                                              NaN         NaN   \n                                                                                    Walk symptoms: shortness of breath           NaN                                              NaN         NaN   \n                                                          CT Acquisition Parameters CT Scanner                                   CT scan final approval                           NaN         NaN   \n                                                                                                                                 CT scanner                                       NaN           0   \n                                                                                                                                 Siemens sensation-64 flag                        NaN           0   \n                                                                                    CT Slicer                                    Exp Mean Atten / Insp Mean Atten ratio CT Slicer NaN      0.6366   \n\n                                                                                                                                                                                                    max  \\\nlevel_0                                 level_1           level_2                   level_3                                      level_4                                          level_5                 \nGenetic Epidemiology of COPD (COPDGene) Subject Phenotype 6MinWalk                  Six minute walk: was your walking limited?   NaN                                              NaN               NaN   \n                                                                                    Supplemental O2 used during 6-min walk L/min NaN                                              NaN                15   \n                                                                                    Walk symptoms: back pain                     NaN                                              NaN               NaN   \n                                                                                    Walk symptoms: joint pain                    NaN                                              NaN               NaN   \n                                                                                    Walk symptoms: leg discomfort/fatigue        NaN                                              NaN               NaN   \n                                                                                    Walk symptoms: shortness of breath           NaN                                              NaN               NaN   \n                                                          CT Acquisition Parameters CT Scanner                                   CT scan final approval                           NaN               NaN   \n                                                                                                                                 CT scanner                                       NaN      4.94066e-324   \n                                                                                                                                 Siemens sensation-64 flag                        NaN                 1   \n                                                                                    CT Slicer                                    Exp Mean Atten / Insp Mean Atten ratio CT Slicer NaN            1.1092   \n\n                                                                                                                                                                                          HpdsDataType  \nlevel_0                                 level_1           level_2                   level_3                                      level_4                                          level_5               \nGenetic Epidemiology of COPD (COPDGene) Subject Phenotype 6MinWalk                  Six minute walk: was your walking limited?   NaN                                              NaN       phenotypes  \n                                                                                    Supplemental O2 used during 6-min walk L/min NaN                                              NaN       phenotypes  \n                                                                                    Walk symptoms: back pain                     NaN                                              NaN       phenotypes  \n                                                                                    Walk symptoms: joint pain                    NaN                                              NaN       phenotypes  \n                                                                                    Walk symptoms: leg discomfort/fatigue        NaN                                              NaN       phenotypes  \n                                                                                    Walk symptoms: shortness of breath           NaN                                              NaN       phenotypes  \n                                                          CT Acquisition Parameters CT Scanner                                   CT scan final approval                           NaN       phenotypes  \n                                                                                                                                 CT scanner                                       NaN       phenotypes  \n                                                                                                                                 Siemens sensation-64 flag                        NaN       phenotypes  \n                                                                                    CT Slicer                                    Exp Mean Atten / Insp Mean Atten ratio CT Slicer NaN       phenotypes  ",
      "text/html": "<div>\n<style scoped>\n    .dataframe tbody tr th:only-of-type {\n        vertical-align: middle;\n    }\n\n    .dataframe tbody tr th {\n        vertical-align: top;\n    }\n\n    .dataframe thead th {\n        text-align: right;\n    }\n</style>\n<table border=\"1\" class=\"dataframe\">\n  <thead>\n    <tr style=\"text-align: right;\">\n      <th></th>\n      <th></th>\n      <th></th>\n      <th></th>\n      <th></th>\n      <th></th>\n      <th>simplified_name</th>\n      <th>name</th>\n      <th>observationCount</th>\n      <th>categorical</th>\n      <th>categoryValues</th>\n      <th>nb_modalities</th>\n      <th>min</th>\n      <th>max</th>\n      <th>HpdsDataType</th>\n    </tr>\n    <tr>\n      <th>level_0</th>\n      <th>level_1</th>\n      <th>level_2</th>\n      <th>level_3</th>\n      <th>level_4</th>\n      <th>level_5</th>\n      <th></th>\n      <th></th>\n      <th></th>\n      <th></th>\n      <th></th>\n      <th></th>\n      <th></th>\n      <th></th>\n      <th></th>\n    </tr>\n  </thead>\n  <tbody>\n    <tr>\n      <th rowspan=\"10\" valign=\"top\">Genetic Epidemiology of COPD (COPDGene)</th>\n      <th rowspan=\"10\" valign=\"top\">Subject Phenotype</th>\n      <th rowspan=\"6\" valign=\"top\">6MinWalk</th>\n      <th>Six minute walk: was your walking limited?</th>\n      <th>NaN</th>\n      <th>NaN</th>\n      <td>Six minute walk: was your walking limited?</td>\n      <td>\\Genetic Epidemiology of COPD (COPDGene)\\Subje...</td>\n      <td>10090</td>\n      <td>True</td>\n      <td>[No, Yes]</td>\n      <td>2.0</td>\n      <td>NaN</td>\n      <td>NaN</td>\n      <td>phenotypes</td>\n    </tr>\n    <tr>\n      <th>Supplemental O2 used during 6-min walk L/min</th>\n      <th>NaN</th>\n      <th>NaN</th>\n      <td>Supplemental O2 used during 6-min walk L/min</td>\n      <td>\\Genetic Epidemiology of COPD (COPDGene)\\Subje...</td>\n      <td>10089</td>\n      <td>False</td>\n      <td>None</td>\n      <td>NaN</td>\n      <td>0</td>\n      <td>15</td>\n      <td>phenotypes</td>\n    </tr>\n    <tr>\n      <th>Walk symptoms: back pain</th>\n      <th>NaN</th>\n      <th>NaN</th>\n      <td>Walk symptoms: back pain</td>\n      <td>\\Genetic Epidemiology of COPD (COPDGene)\\Subje...</td>\n      <td>3688</td>\n      <td>True</td>\n      <td>[Checked (multiple-response), No]</td>\n      <td>2.0</td>\n      <td>NaN</td>\n      <td>NaN</td>\n      <td>phenotypes</td>\n    </tr>\n    <tr>\n      <th>Walk symptoms: joint pain</th>\n      <th>NaN</th>\n      <th>NaN</th>\n      <td>Walk symptoms: joint pain</td>\n      <td>\\Genetic Epidemiology of COPD (COPDGene)\\Subje...</td>\n      <td>3688</td>\n      <td>True</td>\n      <td>[Checked (multiple-response), No]</td>\n      <td>2.0</td>\n      <td>NaN</td>\n      <td>NaN</td>\n      <td>phenotypes</td>\n    </tr>\n    <tr>\n      <th>Walk symptoms: leg discomfort/fatigue</th>\n      <th>NaN</th>\n      <th>NaN</th>\n      <td>Walk symptoms: leg discomfort/fatigue</td>\n      <td>\\Genetic Epidemiology of COPD (COPDGene)\\Subje...</td>\n      <td>3688</td>\n      <td>True</td>\n      <td>[Checked (multiple-response), No]</td>\n      <td>2.0</td>\n      <td>NaN</td>\n      <td>NaN</td>\n      <td>phenotypes</td>\n    </tr>\n    <tr>\n      <th>Walk symptoms: shortness of breath</th>\n      <th>NaN</th>\n      <th>NaN</th>\n      <td>Walk symptoms: shortness of breath</td>\n      <td>\\Genetic Epidemiology of COPD (COPDGene)\\Subje...</td>\n      <td>3688</td>\n      <td>True</td>\n      <td>[Checked (multiple-response), No]</td>\n      <td>2.0</td>\n      <td>NaN</td>\n      <td>NaN</td>\n      <td>phenotypes</td>\n    </tr>\n    <tr>\n      <th rowspan=\"4\" valign=\"top\">CT Acquisition Parameters</th>\n      <th rowspan=\"3\" valign=\"top\">CT Scanner</th>\n      <th>CT scan final approval</th>\n      <th>NaN</th>\n      <td>CT scan final approval</td>\n      <td>\\Genetic Epidemiology of COPD (COPDGene)\\Subje...</td>\n      <td>9865</td>\n      <td>True</td>\n      <td>[No, Yes]</td>\n      <td>2.0</td>\n      <td>NaN</td>\n      <td>NaN</td>\n      <td>phenotypes</td>\n    </tr>\n    <tr>\n      <th>CT scanner</th>\n      <th>NaN</th>\n      <td>CT scanner</td>\n      <td>\\Genetic Epidemiology of COPD (COPDGene)\\Subje...</td>\n      <td>10</td>\n      <td>False</td>\n      <td>None</td>\n      <td>NaN</td>\n      <td>0</td>\n      <td>4.94066e-324</td>\n      <td>phenotypes</td>\n    </tr>\n    <tr>\n      <th>Siemens sensation-64 flag</th>\n      <th>NaN</th>\n      <td>Siemens sensation-64 flag</td>\n      <td>\\Genetic Epidemiology of COPD (COPDGene)\\Subje...</td>\n      <td>9865</td>\n      <td>False</td>\n      <td>None</td>\n      <td>NaN</td>\n      <td>0</td>\n      <td>1</td>\n      <td>phenotypes</td>\n    </tr>\n    <tr>\n      <th>CT Slicer</th>\n      <th>Exp Mean Atten / Insp Mean Atten ratio CT Slicer</th>\n      <th>NaN</th>\n      <td>Exp Mean Atten / Insp Mean Atten ratio CT Slicer</td>\n      <td>\\Genetic Epidemiology of COPD (COPDGene)\\Subje...</td>\n      <td>8276</td>\n      <td>False</td>\n      <td>None</td>\n      <td>NaN</td>\n      <td>0.6366</td>\n      <td>1.1092</td>\n      <td>phenotypes</td>\n    </tr>\n  </tbody>\n</table>\n</div>"
     },
     "metadata": {},
     "output_type": "execute_result",
     "execution_count": 14
    }
   ],
   "source": [
    "# Display the variables tree hierarchy from the variables name\n",
    "variablesDict = get_multiIndex_variablesDict(plain_variablesDict)\n",
    "variablesDict.iloc[10:20,:]"
   ]
  },
  {
   "cell_type": "code",
   "execution_count": 15,
   "metadata": {
    "pycharm": {
     "is_executing": false
    }
   },
   "outputs": [],
   "source": [
    "dic = resource.dictionary().find().DataFrame()"
   ]
  },
  {
   "cell_type": "markdown",
   "metadata": {
    "jupyter": {
     "source_hidden": true
    }
   },
   "source": [
    "### 2. Selecting variables and retrieving data from the database"
   ]
  },
  {
   "cell_type": "markdown",
   "metadata": {},
   "source": [
    "Subseting to keep only the phenotypical variables + the \"affection status\", that will be used as the dependent variable for this illustration use-case."
   ]
  },
  {
   "cell_type": "code",
   "execution_count": 16,
   "metadata": {
    "pycharm": {
     "is_executing": false
    }
   },
   "outputs": [],
   "source": [
    "mask_pheno = variablesDict.index.get_level_values(1) == 'Subject Phenotype'\n",
    "mask_status = variablesDict.index.get_level_values(2) == 'Affection status'\n",
    "mask_drop = variablesDict[\"simplified_name\"].isin([\"Dbgap_id\", \"De-identified site code\", \"A1AD: phenotype/genotype\"])\n",
    "mask_vars = mask_pheno | mask_status\n",
    "variablesDict = variablesDict.loc[mask_vars & ~ mask_drop,:]"
   ]
  },
  {
   "cell_type": "code",
   "execution_count": 17,
   "metadata": {
    "pycharm": {
     "is_executing": false
    }
   },
   "outputs": [],
   "source": [
    "selected_vars = variablesDict.loc[:, \"name\"].tolist()"
   ]
  },
  {
   "cell_type": "code",
   "execution_count": 18,
   "metadata": {
    "pycharm": {
     "is_executing": false
    }
   },
   "outputs": [
    {
     "name": "stdout",
     "text": [
      "['\\\\Genetic Epidemiology of COPD (COPDGene)\\\\Subject '\n 'Phenotype\\\\6MinWalk\\\\Distance walked [ft]\\\\',\n '\\\\Genetic Epidemiology of COPD (COPDGene)\\\\Subject Phenotype\\\\6MinWalk\\\\Six '\n 'minute walk: course layout\\\\',\n '\\\\Genetic Epidemiology of COPD (COPDGene)\\\\Subject Phenotype\\\\6MinWalk\\\\Six '\n 'minute walk: was your walking limited?\\\\',\n '\\\\Genetic Epidemiology of COPD (COPDGene)\\\\Subject '\n 'Phenotype\\\\6MinWalk\\\\Supplemental O2 used during 6-min walk L/min\\\\',\n '\\\\Genetic Epidemiology of COPD (COPDGene)\\\\Subject Phenotype\\\\6MinWalk\\\\Walk '\n 'symptoms: back pain\\\\']\n"
     ],
     "output_type": "stream"
    }
   ],
   "source": [
    "pprint(selected_vars[0:5])"
   ]
  },
  {
   "cell_type": "markdown",
   "metadata": {},
   "source": [
    "### Subsetting only COPDGene records"
   ]
  },
  {
   "cell_type": "code",
   "execution_count": 33,
   "metadata": {
    "pycharm": {
     "is_executing": false
    }
   },
   "outputs": [],
   "source": [
    "phs_copdgene = consent_dic[\"categoryValues\"].str.startswith(\"phs000179\").tolist()"
   ]
  },
  {
   "cell_type": "code",
   "execution_count": null,
   "outputs": [],
   "source": [
    "consent_dic[\"catego\"]"
   ],
   "metadata": {
    "collapsed": false,
    "pycharm": {
     "name": "#%%\n"
    }
   }
  },
  {
   "cell_type": "code",
   "execution_count": 20,
   "metadata": {
    "pycharm": {
     "is_executing": false
    }
   },
   "outputs": [],
   "source": [
    "phs_copdgene = [\"phs000179.c0\", \"phs000179.c1\", \"phs000179.c2\"]"
   ]
  },
  {
   "cell_type": "markdown",
   "metadata": {},
   "source": [
    "Retrieving the data:"
   ]
  },
  {
   "cell_type": "code",
   "execution_count": 21,
   "metadata": {
    "pycharm": {
     "is_executing": false
    }
   },
   "outputs": [],
   "source": [
    "query = resource.query()\n",
    "query.filter().add(consent_dic.index[0], phs_copdgene)\n",
    "query.select().add(selected_vars)\n",
    "facts = query.getResultsDataFrame()"
   ]
  },
  {
   "cell_type": "code",
   "execution_count": 22,
   "outputs": [
    {
     "data": {
      "text/plain": "   Patient ID  \\\n0       35404   \n1       35405   \n2       35406   \n3       35407   \n4       35408   \n\n   \\Genetic Epidemiology of COPD (COPDGene)\\Subject Phenotype\\6MinWalk\\Distance walked [ft]\\  \\\n0                                                NaN                                           \n1                                                NaN                                           \n2                                                NaN                                           \n3                                                NaN                                           \n4                                                NaN                                           \n\n  \\Genetic Epidemiology of COPD (COPDGene)\\Subject Phenotype\\6MinWalk\\Six minute walk: course layout\\  \\\n0                                                NaN                                                    \n1                                                NaN                                                    \n2                                                NaN                                                    \n3                                                NaN                                                    \n4                                                NaN                                                    \n\n  \\Genetic Epidemiology of COPD (COPDGene)\\Subject Phenotype\\6MinWalk\\Six minute walk: was your walking limited?\\  \\\n0                                                NaN                                                                \n1                                                NaN                                                                \n2                                                NaN                                                                \n3                                                NaN                                                                \n4                                                NaN                                                                \n\n   \\Genetic Epidemiology of COPD (COPDGene)\\Subject Phenotype\\6MinWalk\\Supplemental O2 used during 6-min walk L/min\\  \\\n0                                                NaN                                                                   \n1                                                NaN                                                                   \n2                                                NaN                                                                   \n3                                                NaN                                                                   \n4                                                NaN                                                                   \n\n  \\Genetic Epidemiology of COPD (COPDGene)\\Subject Phenotype\\6MinWalk\\Walk symptoms: back pain\\  \\\n0                                                NaN                                              \n1                                                NaN                                              \n2                                                NaN                                              \n3                                                NaN                                              \n4                                                NaN                                              \n\n  \\Genetic Epidemiology of COPD (COPDGene)\\Subject Phenotype\\6MinWalk\\Walk symptoms: joint pain\\  \\\n0                                                NaN                                               \n1                                                NaN                                               \n2                                                NaN                                               \n3                                                NaN                                               \n4                                                NaN                                               \n\n  \\Genetic Epidemiology of COPD (COPDGene)\\Subject Phenotype\\6MinWalk\\Walk symptoms: leg discomfort/fatigue\\  \\\n0                                                NaN                                                           \n1                                                NaN                                                           \n2                                                NaN                                                           \n3                                                NaN                                                           \n4                                                NaN                                                           \n\n  \\Genetic Epidemiology of COPD (COPDGene)\\Subject Phenotype\\6MinWalk\\Walk symptoms: shortness of breath\\  \\\n0                                                NaN                                                        \n1                                                NaN                                                        \n2                                                NaN                                                        \n3                                                NaN                                                        \n4                                                NaN                                                        \n\n  \\Genetic Epidemiology of COPD (COPDGene)\\Subject Phenotype\\CT Acquisition Parameters\\CT Scanner\\CT scan final approval\\  \\\n0                                                NaN                                                                        \n1                                                NaN                                                                        \n2                                                NaN                                                                        \n3                                                NaN                                                                        \n4                                                NaN                                                                        \n\n   ...  \\\n0  ...   \n1  ...   \n2  ...   \n3  ...   \n4  ...   \n\n   \\Genetic Epidemiology of COPD (COPDGene)\\Subject Phenotype\\VIDA\\Percent gas trap (-856 Hu) total lung CT VIDA\\  \\\n0                                                NaN                                                                \n1                                                NaN                                                                \n2                                                NaN                                                                \n3                                                NaN                                                                \n4                                                NaN                                                                \n\n   \\Genetic Epidemiology of COPD (COPDGene)\\Subject Phenotype\\VIDA\\Pi10 SRWA CT VIDA\\  \\\n0                                                NaN                                    \n1                                                NaN                                    \n2                                                NaN                                    \n3                                                NaN                                    \n4                                                NaN                                    \n\n   \\Genetic Epidemiology of COPD (COPDGene)\\Subject Phenotype\\VIDA\\Pi15 SRWA CT VIDA\\  \\\n0                                                NaN                                    \n1                                                NaN                                    \n2                                                NaN                                    \n3                                                NaN                                    \n4                                                NaN                                    \n\n   \\Genetic Epidemiology of COPD (COPDGene)\\Subject Phenotype\\VIDA\\TLC CT VIDA\\  \\\n0                                                NaN                              \n1                                                NaN                              \n2                                                NaN                              \n3                                                NaN                              \n4                                                NaN                              \n\n   \\Genetic Epidemiology of COPD (COPDGene)\\Subject Phenotype\\VIDA\\Upper Lobe/Lower Lobe ratio CT VIDA\\  \\\n0                                                NaN                                                      \n1                                                NaN                                                      \n2                                                NaN                                                      \n3                                                NaN                                                      \n4                                                NaN                                                      \n\n   \\Genetic Epidemiology of COPD (COPDGene)\\Subject Phenotype\\VIDA\\Upper Lobes percent of total air vol CT VIDA\\  \\\n0                                                NaN                                                               \n1                                                NaN                                                               \n2                                                NaN                                                               \n3                                                NaN                                                               \n4                                                NaN                                                               \n\n   \\Genetic Epidemiology of COPD (COPDGene)\\Subject Phenotype\\VIDA\\Wall area percent: segmental CT VIDA\\  \\\n0                                                NaN                                                       \n1                                                NaN                                                       \n2                                                NaN                                                       \n3                                                NaN                                                       \n4                                                NaN                                                       \n\n   \\Genetic Epidemiology of COPD (COPDGene)\\Subject Phenotype\\VIDA\\Wall area percent: sub segmental CT VIDA\\  \\\n0                                                NaN                                                           \n1                                                NaN                                                           \n2                                                NaN                                                           \n3                                                NaN                                                           \n4                                                NaN                                                           \n\n   \\Genetic Epidemiology of COPD (COPDGene)\\Subjects\\Affection status\\  \\\n0                                               Case                     \n1                                            Control                     \n2                                              Other                     \n3                                            Control                     \n4                                            Control                     \n\n   \\_Consents\\Short Study Accession with Consent Code\\  \n0                                       phs000179.c2    \n1                                       phs000179.c2    \n2                                       phs000179.c2    \n3                                       phs000179.c2    \n4                                       phs000179.c2    \n\n[5 rows x 328 columns]",
      "text/html": "<div>\n<style scoped>\n    .dataframe tbody tr th:only-of-type {\n        vertical-align: middle;\n    }\n\n    .dataframe tbody tr th {\n        vertical-align: top;\n    }\n\n    .dataframe thead th {\n        text-align: right;\n    }\n</style>\n<table border=\"1\" class=\"dataframe\">\n  <thead>\n    <tr style=\"text-align: right;\">\n      <th></th>\n      <th>Patient ID</th>\n      <th>\\Genetic Epidemiology of COPD (COPDGene)\\Subject Phenotype\\6MinWalk\\Distance walked [ft]\\</th>\n      <th>\\Genetic Epidemiology of COPD (COPDGene)\\Subject Phenotype\\6MinWalk\\Six minute walk: course layout\\</th>\n      <th>\\Genetic Epidemiology of COPD (COPDGene)\\Subject Phenotype\\6MinWalk\\Six minute walk: was your walking limited?\\</th>\n      <th>\\Genetic Epidemiology of COPD (COPDGene)\\Subject Phenotype\\6MinWalk\\Supplemental O2 used during 6-min walk L/min\\</th>\n      <th>\\Genetic Epidemiology of COPD (COPDGene)\\Subject Phenotype\\6MinWalk\\Walk symptoms: back pain\\</th>\n      <th>\\Genetic Epidemiology of COPD (COPDGene)\\Subject Phenotype\\6MinWalk\\Walk symptoms: joint pain\\</th>\n      <th>\\Genetic Epidemiology of COPD (COPDGene)\\Subject Phenotype\\6MinWalk\\Walk symptoms: leg discomfort/fatigue\\</th>\n      <th>\\Genetic Epidemiology of COPD (COPDGene)\\Subject Phenotype\\6MinWalk\\Walk symptoms: shortness of breath\\</th>\n      <th>\\Genetic Epidemiology of COPD (COPDGene)\\Subject Phenotype\\CT Acquisition Parameters\\CT Scanner\\CT scan final approval\\</th>\n      <th>...</th>\n      <th>\\Genetic Epidemiology of COPD (COPDGene)\\Subject Phenotype\\VIDA\\Percent gas trap (-856 Hu) total lung CT VIDA\\</th>\n      <th>\\Genetic Epidemiology of COPD (COPDGene)\\Subject Phenotype\\VIDA\\Pi10 SRWA CT VIDA\\</th>\n      <th>\\Genetic Epidemiology of COPD (COPDGene)\\Subject Phenotype\\VIDA\\Pi15 SRWA CT VIDA\\</th>\n      <th>\\Genetic Epidemiology of COPD (COPDGene)\\Subject Phenotype\\VIDA\\TLC CT VIDA\\</th>\n      <th>\\Genetic Epidemiology of COPD (COPDGene)\\Subject Phenotype\\VIDA\\Upper Lobe/Lower Lobe ratio CT VIDA\\</th>\n      <th>\\Genetic Epidemiology of COPD (COPDGene)\\Subject Phenotype\\VIDA\\Upper Lobes percent of total air vol CT VIDA\\</th>\n      <th>\\Genetic Epidemiology of COPD (COPDGene)\\Subject Phenotype\\VIDA\\Wall area percent: segmental CT VIDA\\</th>\n      <th>\\Genetic Epidemiology of COPD (COPDGene)\\Subject Phenotype\\VIDA\\Wall area percent: sub segmental CT VIDA\\</th>\n      <th>\\Genetic Epidemiology of COPD (COPDGene)\\Subjects\\Affection status\\</th>\n      <th>\\_Consents\\Short Study Accession with Consent Code\\</th>\n    </tr>\n  </thead>\n  <tbody>\n    <tr>\n      <th>0</th>\n      <td>35404</td>\n      <td>NaN</td>\n      <td>NaN</td>\n      <td>NaN</td>\n      <td>NaN</td>\n      <td>NaN</td>\n      <td>NaN</td>\n      <td>NaN</td>\n      <td>NaN</td>\n      <td>NaN</td>\n      <td>...</td>\n      <td>NaN</td>\n      <td>NaN</td>\n      <td>NaN</td>\n      <td>NaN</td>\n      <td>NaN</td>\n      <td>NaN</td>\n      <td>NaN</td>\n      <td>NaN</td>\n      <td>Case</td>\n      <td>phs000179.c2</td>\n    </tr>\n    <tr>\n      <th>1</th>\n      <td>35405</td>\n      <td>NaN</td>\n      <td>NaN</td>\n      <td>NaN</td>\n      <td>NaN</td>\n      <td>NaN</td>\n      <td>NaN</td>\n      <td>NaN</td>\n      <td>NaN</td>\n      <td>NaN</td>\n      <td>...</td>\n      <td>NaN</td>\n      <td>NaN</td>\n      <td>NaN</td>\n      <td>NaN</td>\n      <td>NaN</td>\n      <td>NaN</td>\n      <td>NaN</td>\n      <td>NaN</td>\n      <td>Control</td>\n      <td>phs000179.c2</td>\n    </tr>\n    <tr>\n      <th>2</th>\n      <td>35406</td>\n      <td>NaN</td>\n      <td>NaN</td>\n      <td>NaN</td>\n      <td>NaN</td>\n      <td>NaN</td>\n      <td>NaN</td>\n      <td>NaN</td>\n      <td>NaN</td>\n      <td>NaN</td>\n      <td>...</td>\n      <td>NaN</td>\n      <td>NaN</td>\n      <td>NaN</td>\n      <td>NaN</td>\n      <td>NaN</td>\n      <td>NaN</td>\n      <td>NaN</td>\n      <td>NaN</td>\n      <td>Other</td>\n      <td>phs000179.c2</td>\n    </tr>\n    <tr>\n      <th>3</th>\n      <td>35407</td>\n      <td>NaN</td>\n      <td>NaN</td>\n      <td>NaN</td>\n      <td>NaN</td>\n      <td>NaN</td>\n      <td>NaN</td>\n      <td>NaN</td>\n      <td>NaN</td>\n      <td>NaN</td>\n      <td>...</td>\n      <td>NaN</td>\n      <td>NaN</td>\n      <td>NaN</td>\n      <td>NaN</td>\n      <td>NaN</td>\n      <td>NaN</td>\n      <td>NaN</td>\n      <td>NaN</td>\n      <td>Control</td>\n      <td>phs000179.c2</td>\n    </tr>\n    <tr>\n      <th>4</th>\n      <td>35408</td>\n      <td>NaN</td>\n      <td>NaN</td>\n      <td>NaN</td>\n      <td>NaN</td>\n      <td>NaN</td>\n      <td>NaN</td>\n      <td>NaN</td>\n      <td>NaN</td>\n      <td>NaN</td>\n      <td>...</td>\n      <td>NaN</td>\n      <td>NaN</td>\n      <td>NaN</td>\n      <td>NaN</td>\n      <td>NaN</td>\n      <td>NaN</td>\n      <td>NaN</td>\n      <td>NaN</td>\n      <td>Control</td>\n      <td>phs000179.c2</td>\n    </tr>\n  </tbody>\n</table>\n<p>5 rows × 328 columns</p>\n</div>"
     },
     "metadata": {},
     "output_type": "execute_result",
     "execution_count": 22
    }
   ],
   "source": [
    "facts.head()"
   ],
   "metadata": {
    "collapsed": false,
    "pycharm": {
     "name": "#%% \n",
     "is_executing": false
    }
   }
  },
  {
   "cell_type": "code",
   "execution_count": null,
   "outputs": [],
   "source": [],
   "metadata": {
    "collapsed": false,
    "pycharm": {
     "name": "#%%\n"
    }
   }
  },
  {
   "cell_type": "code",
   "execution_count": 23,
   "metadata": {
    "pycharm": {
     "is_executing": false
    }
   },
   "outputs": [],
   "source": [
    "status_var = variablesDict.loc[variablesDict.index.get_level_values(2) == 'Affection status', \"name\"]\n",
    "facts = facts.dropna(subset=status_var)\\\n",
    ".set_index(\"Patient ID\")\n",
    "mask_to_drop = variablesDict[\"simplified_name\"]\\\n",
    ".isin([\"Dbgap_id\", \"De-identified site code\", \"A1AD: phenotype/genotype\"])\n",
    "variablesDict = variablesDict.loc[~mask_to_drop, :]\n",
    "var_to_keep = variablesDict.loc[:, \"name\"]\n",
    "facts = facts.loc[:, var_to_keep]"
   ]
  },
  {
   "cell_type": "code",
   "execution_count": 24,
   "metadata": {
    "pycharm": {
     "is_executing": false
    }
   },
   "outputs": [
    {
     "name": "stdout",
     "text": [
      "10371 rows, 326 columns\n"
     ],
     "output_type": "stream"
    }
   ],
   "source": [
    "print(\"{0} rows, {1} columns\".format(*facts.shape))"
   ]
  },
  {
   "cell_type": "markdown",
   "metadata": {},
   "source": [
    "Here is a sample of our dataset, one row per patient and one column par variable:"
   ]
  },
  {
   "cell_type": "code",
   "execution_count": 25,
   "metadata": {
    "pycharm": {
     "is_executing": false
    }
   },
   "outputs": [
    {
     "data": {
      "text/plain": "            \\Genetic Epidemiology of COPD (COPDGene)\\Subject Phenotype\\6MinWalk\\Distance walked [ft]\\  \\\nPatient ID                                                                                              \n45782                                                   721.0                                           \n45783                                                  1466.0                                           \n45784                                                   865.0                                           \n45785                                                  1482.0                                           \n45786                                                     NaN                                           \n\n           \\Genetic Epidemiology of COPD (COPDGene)\\Subject Phenotype\\6MinWalk\\Six minute walk: course layout\\  \\\nPatient ID                                                                                                       \n45782                                                Straight                                                    \n45783                                                Straight                                                    \n45784                                                Straight                                                    \n45785                                                Circular                                                    \n45786                                                Straight                                                    \n\n           \\Genetic Epidemiology of COPD (COPDGene)\\Subject Phenotype\\6MinWalk\\Six minute walk: was your walking limited?\\  \\\nPatient ID                                                                                                                   \n45782                                                     Yes                                                                \n45783                                                      No                                                                \n45784                                                     Yes                                                                \n45785                                                      No                                                                \n45786                                                      No                                                                \n\n            \\Genetic Epidemiology of COPD (COPDGene)\\Subject Phenotype\\6MinWalk\\Supplemental O2 used during 6-min walk L/min\\  \\\nPatient ID                                                                                                                      \n45782                                                     2.0                                                                   \n45783                                                     0.0                                                                   \n45784                                                     4.0                                                                   \n45785                                                     0.0                                                                   \n45786                                                     6.0                                                                   \n\n           \\Genetic Epidemiology of COPD (COPDGene)\\Subject Phenotype\\6MinWalk\\Walk symptoms: back pain\\  \\\nPatient ID                                                                                                 \n45782                                                      No                                              \n45783                                                     NaN                                              \n45784                             Checked (multiple-response)                                              \n45785                                                     NaN                                              \n45786                                                     NaN                                              \n\n           \\Genetic Epidemiology of COPD (COPDGene)\\Subject Phenotype\\6MinWalk\\Walk symptoms: joint pain\\  \\\nPatient ID                                                                                                  \n45782                                                      No                                               \n45783                                                     NaN                                               \n45784                                                      No                                               \n45785                                                     NaN                                               \n45786                                                     NaN                                               \n\n           \\Genetic Epidemiology of COPD (COPDGene)\\Subject Phenotype\\6MinWalk\\Walk symptoms: leg discomfort/fatigue\\  \\\nPatient ID                                                                                                              \n45782                                                      No                                                           \n45783                                                     NaN                                                           \n45784                             Checked (multiple-response)                                                           \n45785                                                     NaN                                                           \n45786                                                     NaN                                                           \n\n           \\Genetic Epidemiology of COPD (COPDGene)\\Subject Phenotype\\6MinWalk\\Walk symptoms: shortness of breath\\  \\\nPatient ID                                                                                                           \n45782                             Checked (multiple-response)                                                        \n45783                                                     NaN                                                        \n45784                                                      No                                                        \n45785                                                     NaN                                                        \n45786                                                     NaN                                                        \n\n           \\Genetic Epidemiology of COPD (COPDGene)\\Subject Phenotype\\CT Acquisition Parameters\\CT Scanner\\CT scan final approval\\  \\\nPatient ID                                                                                                                           \n45782                                                     Yes                                                                        \n45783                                                     Yes                                                                        \n45784                                                     Yes                                                                        \n45785                                                     Yes                                                                        \n45786                                                     Yes                                                                        \n\n            \\Genetic Epidemiology of COPD (COPDGene)\\Subject Phenotype\\CT Acquisition Parameters\\CT Scanner\\CT scanner\\  \\\nPatient ID                                                                                                                \n45782                                                     NaN                                                             \n45783                                                     NaN                                                             \n45784                                                     NaN                                                             \n45785                                                     NaN                                                             \n45786                                                     NaN                                                             \n\n            ...  \\\nPatient ID  ...   \n45782       ...   \n45783       ...   \n45784       ...   \n45785       ...   \n45786       ...   \n\n            \\Genetic Epidemiology of COPD (COPDGene)\\Subject Phenotype\\VIDA\\Percent emph (-950 Hu) total lung CT VIDA\\  \\\nPatient ID                                                                                                               \n45782                                                 36.9122                                                            \n45783                                                  0.2346                                                            \n45784                                                  6.6433                                                            \n45785                                                  1.4878                                                            \n45786                                                 20.7948                                                            \n\n            \\Genetic Epidemiology of COPD (COPDGene)\\Subject Phenotype\\VIDA\\Percent gas trap (-856 Hu) total lung CT VIDA\\  \\\nPatient ID                                                                                                                   \n45782                                                 63.1391                                                                \n45783                                                  4.8727                                                                \n45784                                                 11.0298                                                                \n45785                                                  3.7366                                                                \n45786                                                 35.9230                                                                \n\n            \\Genetic Epidemiology of COPD (COPDGene)\\Subject Phenotype\\VIDA\\Pi10 SRWA CT VIDA\\  \\\nPatient ID                                                                                       \n45782                                                   3.877                                    \n45783                                                   3.841                                    \n45784                                                   3.669                                    \n45785                                                   3.679                                    \n45786                                                   3.611                                    \n\n            \\Genetic Epidemiology of COPD (COPDGene)\\Subject Phenotype\\VIDA\\Pi15 SRWA CT VIDA\\  \\\nPatient ID                                                                                       \n45782                                                   5.396                                    \n45783                                                   5.339                                    \n45784                                                   5.065                                    \n45785                                                   5.136                                    \n45786                                                   5.193                                    \n\n            \\Genetic Epidemiology of COPD (COPDGene)\\Subject Phenotype\\VIDA\\TLC CT VIDA\\  \\\nPatient ID                                                                                 \n45782                                                    6.77                              \n45783                                                    3.29                              \n45784                                                    3.77                              \n45785                                                    4.02                              \n45786                                                    7.77                              \n\n            \\Genetic Epidemiology of COPD (COPDGene)\\Subject Phenotype\\VIDA\\Upper Lobe/Lower Lobe ratio CT VIDA\\  \\\nPatient ID                                                                                                         \n45782                                                   1.575                                                      \n45783                                                     NaN                                                      \n45784                                                   1.359                                                      \n45785                                                     NaN                                                      \n45786                                                   1.241                                                      \n\n            \\Genetic Epidemiology of COPD (COPDGene)\\Subject Phenotype\\VIDA\\Upper Lobes percent of total air vol CT VIDA\\  \\\nPatient ID                                                                                                                  \n45782                                                   51.97                                                               \n45783                                                   45.80                                                               \n45784                                                   44.19                                                               \n45785                                                   50.00                                                               \n45786                                                   42.92                                                               \n\n            \\Genetic Epidemiology of COPD (COPDGene)\\Subject Phenotype\\VIDA\\Wall area percent: segmental CT VIDA\\  \\\nPatient ID                                                                                                          \n45782                                                 64.5200                                                       \n45783                                                 63.8850                                                       \n45784                                                 63.7417                                                       \n45785                                                 61.0133                                                       \n45786                                                 61.0533                                                       \n\n            \\Genetic Epidemiology of COPD (COPDGene)\\Subject Phenotype\\VIDA\\Wall area percent: sub segmental CT VIDA\\  \\\nPatient ID                                                                                                              \n45782                                                 68.6625                                                           \n45783                                                     NaN                                                           \n45784                                                 64.3433                                                           \n45785                                                 64.3425                                                           \n45786                                                     NaN                                                           \n\n            \\Genetic Epidemiology of COPD (COPDGene)\\Subjects\\Affection status\\  \nPatient ID                                                                       \n45782                                                    Case                    \n45783                                                 Control                    \n45784                                                   Other                    \n45785                                                 Control                    \n45786                                                    Case                    \n\n[5 rows x 326 columns]",
      "text/html": "<div>\n<style scoped>\n    .dataframe tbody tr th:only-of-type {\n        vertical-align: middle;\n    }\n\n    .dataframe tbody tr th {\n        vertical-align: top;\n    }\n\n    .dataframe thead th {\n        text-align: right;\n    }\n</style>\n<table border=\"1\" class=\"dataframe\">\n  <thead>\n    <tr style=\"text-align: right;\">\n      <th></th>\n      <th>\\Genetic Epidemiology of COPD (COPDGene)\\Subject Phenotype\\6MinWalk\\Distance walked [ft]\\</th>\n      <th>\\Genetic Epidemiology of COPD (COPDGene)\\Subject Phenotype\\6MinWalk\\Six minute walk: course layout\\</th>\n      <th>\\Genetic Epidemiology of COPD (COPDGene)\\Subject Phenotype\\6MinWalk\\Six minute walk: was your walking limited?\\</th>\n      <th>\\Genetic Epidemiology of COPD (COPDGene)\\Subject Phenotype\\6MinWalk\\Supplemental O2 used during 6-min walk L/min\\</th>\n      <th>\\Genetic Epidemiology of COPD (COPDGene)\\Subject Phenotype\\6MinWalk\\Walk symptoms: back pain\\</th>\n      <th>\\Genetic Epidemiology of COPD (COPDGene)\\Subject Phenotype\\6MinWalk\\Walk symptoms: joint pain\\</th>\n      <th>\\Genetic Epidemiology of COPD (COPDGene)\\Subject Phenotype\\6MinWalk\\Walk symptoms: leg discomfort/fatigue\\</th>\n      <th>\\Genetic Epidemiology of COPD (COPDGene)\\Subject Phenotype\\6MinWalk\\Walk symptoms: shortness of breath\\</th>\n      <th>\\Genetic Epidemiology of COPD (COPDGene)\\Subject Phenotype\\CT Acquisition Parameters\\CT Scanner\\CT scan final approval\\</th>\n      <th>\\Genetic Epidemiology of COPD (COPDGene)\\Subject Phenotype\\CT Acquisition Parameters\\CT Scanner\\CT scanner\\</th>\n      <th>...</th>\n      <th>\\Genetic Epidemiology of COPD (COPDGene)\\Subject Phenotype\\VIDA\\Percent emph (-950 Hu) total lung CT VIDA\\</th>\n      <th>\\Genetic Epidemiology of COPD (COPDGene)\\Subject Phenotype\\VIDA\\Percent gas trap (-856 Hu) total lung CT VIDA\\</th>\n      <th>\\Genetic Epidemiology of COPD (COPDGene)\\Subject Phenotype\\VIDA\\Pi10 SRWA CT VIDA\\</th>\n      <th>\\Genetic Epidemiology of COPD (COPDGene)\\Subject Phenotype\\VIDA\\Pi15 SRWA CT VIDA\\</th>\n      <th>\\Genetic Epidemiology of COPD (COPDGene)\\Subject Phenotype\\VIDA\\TLC CT VIDA\\</th>\n      <th>\\Genetic Epidemiology of COPD (COPDGene)\\Subject Phenotype\\VIDA\\Upper Lobe/Lower Lobe ratio CT VIDA\\</th>\n      <th>\\Genetic Epidemiology of COPD (COPDGene)\\Subject Phenotype\\VIDA\\Upper Lobes percent of total air vol CT VIDA\\</th>\n      <th>\\Genetic Epidemiology of COPD (COPDGene)\\Subject Phenotype\\VIDA\\Wall area percent: segmental CT VIDA\\</th>\n      <th>\\Genetic Epidemiology of COPD (COPDGene)\\Subject Phenotype\\VIDA\\Wall area percent: sub segmental CT VIDA\\</th>\n      <th>\\Genetic Epidemiology of COPD (COPDGene)\\Subjects\\Affection status\\</th>\n    </tr>\n    <tr>\n      <th>Patient ID</th>\n      <th></th>\n      <th></th>\n      <th></th>\n      <th></th>\n      <th></th>\n      <th></th>\n      <th></th>\n      <th></th>\n      <th></th>\n      <th></th>\n      <th></th>\n      <th></th>\n      <th></th>\n      <th></th>\n      <th></th>\n      <th></th>\n      <th></th>\n      <th></th>\n      <th></th>\n      <th></th>\n      <th></th>\n    </tr>\n  </thead>\n  <tbody>\n    <tr>\n      <th>45782</th>\n      <td>721.0</td>\n      <td>Straight</td>\n      <td>Yes</td>\n      <td>2.0</td>\n      <td>No</td>\n      <td>No</td>\n      <td>No</td>\n      <td>Checked (multiple-response)</td>\n      <td>Yes</td>\n      <td>NaN</td>\n      <td>...</td>\n      <td>36.9122</td>\n      <td>63.1391</td>\n      <td>3.877</td>\n      <td>5.396</td>\n      <td>6.77</td>\n      <td>1.575</td>\n      <td>51.97</td>\n      <td>64.5200</td>\n      <td>68.6625</td>\n      <td>Case</td>\n    </tr>\n    <tr>\n      <th>45783</th>\n      <td>1466.0</td>\n      <td>Straight</td>\n      <td>No</td>\n      <td>0.0</td>\n      <td>NaN</td>\n      <td>NaN</td>\n      <td>NaN</td>\n      <td>NaN</td>\n      <td>Yes</td>\n      <td>NaN</td>\n      <td>...</td>\n      <td>0.2346</td>\n      <td>4.8727</td>\n      <td>3.841</td>\n      <td>5.339</td>\n      <td>3.29</td>\n      <td>NaN</td>\n      <td>45.80</td>\n      <td>63.8850</td>\n      <td>NaN</td>\n      <td>Control</td>\n    </tr>\n    <tr>\n      <th>45784</th>\n      <td>865.0</td>\n      <td>Straight</td>\n      <td>Yes</td>\n      <td>4.0</td>\n      <td>Checked (multiple-response)</td>\n      <td>No</td>\n      <td>Checked (multiple-response)</td>\n      <td>No</td>\n      <td>Yes</td>\n      <td>NaN</td>\n      <td>...</td>\n      <td>6.6433</td>\n      <td>11.0298</td>\n      <td>3.669</td>\n      <td>5.065</td>\n      <td>3.77</td>\n      <td>1.359</td>\n      <td>44.19</td>\n      <td>63.7417</td>\n      <td>64.3433</td>\n      <td>Other</td>\n    </tr>\n    <tr>\n      <th>45785</th>\n      <td>1482.0</td>\n      <td>Circular</td>\n      <td>No</td>\n      <td>0.0</td>\n      <td>NaN</td>\n      <td>NaN</td>\n      <td>NaN</td>\n      <td>NaN</td>\n      <td>Yes</td>\n      <td>NaN</td>\n      <td>...</td>\n      <td>1.4878</td>\n      <td>3.7366</td>\n      <td>3.679</td>\n      <td>5.136</td>\n      <td>4.02</td>\n      <td>NaN</td>\n      <td>50.00</td>\n      <td>61.0133</td>\n      <td>64.3425</td>\n      <td>Control</td>\n    </tr>\n    <tr>\n      <th>45786</th>\n      <td>NaN</td>\n      <td>Straight</td>\n      <td>No</td>\n      <td>6.0</td>\n      <td>NaN</td>\n      <td>NaN</td>\n      <td>NaN</td>\n      <td>NaN</td>\n      <td>Yes</td>\n      <td>NaN</td>\n      <td>...</td>\n      <td>20.7948</td>\n      <td>35.9230</td>\n      <td>3.611</td>\n      <td>5.193</td>\n      <td>7.77</td>\n      <td>1.241</td>\n      <td>42.92</td>\n      <td>61.0533</td>\n      <td>NaN</td>\n      <td>Case</td>\n    </tr>\n  </tbody>\n</table>\n<p>5 rows × 326 columns</p>\n</div>"
     },
     "metadata": {},
     "output_type": "execute_result",
     "execution_count": 25
    }
   ],
   "source": [
    "facts.tail(5)"
   ]
  },
  {
   "cell_type": "markdown",
   "metadata": {},
   "source": [
    "### 3. Data-management"
   ]
  },
  {
   "cell_type": "markdown",
   "metadata": {},
   "source": [
    "#### Selecting variables regarding their types"
   ]
  },
  {
   "cell_type": "markdown",
   "metadata": {},
   "source": [
    "One important step in a PheWAS is to get the distinction between categorical and numerical variables. This distinction is straightforward using the variables dictionary."
   ]
  },
  {
   "cell_type": "code",
   "execution_count": 26,
   "metadata": {
    "pycharm": {
     "is_executing": false
    }
   },
   "outputs": [],
   "source": [
    "mask_categories = variablesDict.loc[:, \"categorical\"] == True\n",
    "categorical_names = variablesDict.loc[mask_categories, \"name\"].tolist()\n",
    "continuous_names = variablesDict.loc[~mask_categories, \"name\"].tolist()"
   ]
  },
  {
   "cell_type": "markdown",
   "metadata": {},
   "source": [
    "### Selecting the dependent variable to study\n",
    "Most of PheWAS use a genetic variant as the variable used to separate the population between cases and controls. However the population doesn't have to be dichotomized using a genetic variant, and any phenotypic variable could be used to run a PheWAS analysis (see for example [*Neuraz et al.*, 2013](https://journals.plos.org/ploscompbiol/article?id=10.1371/journal.pcbi.1003405)). \n",
    "\n",
    "Here we will use the **COPD status** as the case-control variable to dichotomize the population in our analysis, and keep only the population subset containing relevant values for the COPD status (i.e. keeping \"Case\" and \"Control\" individuals, thus discarding \"Other\", \"Control, Exclusionary Disease\", and null values)."
   ]
  },
  {
   "cell_type": "code",
   "execution_count": 27,
   "metadata": {
    "pycharm": {
     "is_executing": false
    }
   },
   "outputs": [],
   "source": [
    "dependent_var_name = variablesDict.loc[variablesDict[\"simplified_name\"] == \"Affection status\", \"name\"].values[0]\n",
    "categorical_names.remove(dependent_var_name)"
   ]
  },
  {
   "cell_type": "code",
   "execution_count": 28,
   "metadata": {
    "pycharm": {
     "is_executing": false
    }
   },
   "outputs": [
    {
     "name": "stdout",
     "text": [
      "Control: 4499 individuals\nCase: 3692 individuals\n"
     ],
     "output_type": "stream"
    }
   ],
   "source": [
    "mask_dependent_var_name = facts[dependent_var_name].isin([\"Case\", \"Control\"])\n",
    "facts = facts.loc[mask_dependent_var_name,:]\\\n",
    "             .astype({dependent_var_name: \"category\"})\n",
    "print(\"Control: {0} individuals\\nCase: {1} individuals\".format(*facts[dependent_var_name].value_counts().tolist()))"
   ]
  },
  {
   "cell_type": "markdown",
   "metadata": {},
   "source": [
    "### 4. Univariate statistical tests"
   ]
  },
  {
   "cell_type": "markdown",
   "metadata": {},
   "source": [
    "To this point, each variable present in the `facts_dummies` dataset will be tested again the selected dependent variable, (ie presence or absence of COPD). \n",
    "\n",
    "Two different association test will be carried out according to variables data types: \n",
    "- Mann-Whitney U test for continuous ones\n",
    "- Fisher exact test for categorical ones"
   ]
  },
  {
   "cell_type": "markdown",
   "metadata": {},
   "source": [
    "### LLR result"
   ]
  },
  {
   "cell_type": "code",
   "execution_count": 29,
   "metadata": {
    "pycharm": {
     "is_executing": false
    }
   },
   "outputs": [],
   "source": [
    "from statsmodels.discrete.discrete_model import Logit"
   ]
  },
  {
   "cell_type": "code",
   "execution_count": 30,
   "metadata": {
    "pycharm": {
     "is_executing": false
    }
   },
   "outputs": [],
   "source": [
    "independent_names = variablesDict[\"name\"].tolist()\n",
    "independent_names.remove(dependent_var_name)\n",
    "dependent_var = facts[dependent_var_name].astype(\"category\").cat.codes\n",
    "dic_pvalues = {}\n",
    "simple_index_variablesDict = variablesDict.set_index(\"name\", drop=True)"
   ]
  },
  {
   "cell_type": "code",
   "execution_count": 25,
   "metadata": {
    "pycharm": {
     "is_executing": false
    }
   },
   "outputs": [],
   "source": [
    "from scipy.linalg import LinAlgError\n",
    "from statsmodels.tools.sm_exceptions import PerfectSeparationError\n",
    "from tqdm import tqdm"
   ]
  },
  {
   "cell_type": "code",
   "execution_count": 26,
   "metadata": {
    "pycharm": {
     "is_executing": false
    }
   },
   "outputs": [
    {
     "name": "stderr",
     "text": [
      "\r  0%|          | 0/325 [00:00<?, ?it/s]",
      "\r  0%|          | 0/325 [00:00<?, ?it/s]",
      "\n"
     ],
     "output_type": "stream"
    },
    {
     "traceback": [
      "\u001b[0;31m---------------------------------------------------------------------------\u001b[0m",
      "\u001b[0;31mNameError\u001b[0m                                 Traceback (most recent call last)",
      "\u001b[0;32m<ipython-input-26-ebcfb12a5ef9>\u001b[0m in \u001b[0;36m<module>\u001b[0;34m\u001b[0m\n\u001b[1;32m      1\u001b[0m \u001b[0;32mfor\u001b[0m \u001b[0mindependent_name\u001b[0m \u001b[0;32min\u001b[0m \u001b[0mtqdm\u001b[0m\u001b[0;34m(\u001b[0m\u001b[0mindependent_names\u001b[0m\u001b[0;34m,\u001b[0m \u001b[0mposition\u001b[0m\u001b[0;34m=\u001b[0m\u001b[0;36m0\u001b[0m\u001b[0;34m,\u001b[0m \u001b[0mleave\u001b[0m\u001b[0;34m=\u001b[0m\u001b[0;32mTrue\u001b[0m\u001b[0;34m)\u001b[0m\u001b[0;34m:\u001b[0m\u001b[0;34m\u001b[0m\u001b[0;34m\u001b[0m\u001b[0m\n\u001b[0;32m----> 2\u001b[0;31m     \u001b[0mmatrix\u001b[0m \u001b[0;34m=\u001b[0m \u001b[0mfacts\u001b[0m\u001b[0;34m.\u001b[0m\u001b[0mloc\u001b[0m\u001b[0;34m[\u001b[0m\u001b[0;34m:\u001b[0m\u001b[0;34m,\u001b[0m \u001b[0;34m[\u001b[0m\u001b[0mdependent_var_name\u001b[0m\u001b[0;34m,\u001b[0m \u001b[0mindependent_name\u001b[0m\u001b[0;34m]\u001b[0m\u001b[0;34m]\u001b[0m\u001b[0;31m\\\u001b[0m\u001b[0;34m\u001b[0m\u001b[0;34m\u001b[0m\u001b[0m\n\u001b[0m\u001b[1;32m      3\u001b[0m                   \u001b[0;34m.\u001b[0m\u001b[0mdropna\u001b[0m\u001b[0;34m(\u001b[0m\u001b[0mhow\u001b[0m\u001b[0;34m=\u001b[0m\u001b[0;34m\"any\"\u001b[0m\u001b[0;34m)\u001b[0m\u001b[0;34m\u001b[0m\u001b[0;34m\u001b[0m\u001b[0m\n\u001b[1;32m      4\u001b[0m     \u001b[0;32mif\u001b[0m \u001b[0mmatrix\u001b[0m\u001b[0;34m.\u001b[0m\u001b[0mshape\u001b[0m\u001b[0;34m[\u001b[0m\u001b[0;36m0\u001b[0m\u001b[0;34m]\u001b[0m \u001b[0;34m==\u001b[0m \u001b[0;36m0\u001b[0m\u001b[0;34m:\u001b[0m\u001b[0;34m\u001b[0m\u001b[0;34m\u001b[0m\u001b[0m\n\u001b[1;32m      5\u001b[0m         \u001b[0mdic_pvalues\u001b[0m\u001b[0;34m[\u001b[0m\u001b[0mindependent_name\u001b[0m\u001b[0;34m]\u001b[0m \u001b[0;34m=\u001b[0m \u001b[0mnp\u001b[0m\u001b[0;34m.\u001b[0m\u001b[0mNaN\u001b[0m\u001b[0;34m\u001b[0m\u001b[0;34m\u001b[0m\u001b[0m\n",
      "\u001b[0;31mNameError\u001b[0m: name 'facts' is not defined"
     ],
     "ename": "NameError",
     "evalue": "name 'facts' is not defined",
     "output_type": "error"
    }
   ],
   "source": [
    "for independent_name in tqdm(independent_names, position=0, leave=True):\n",
    "    matrix = facts.loc[:, [dependent_var_name, independent_name]]\\\n",
    "                  .dropna(how=\"any\")\n",
    "    if matrix.shape[0] == 0:\n",
    "        dic_pvalues[independent_name] = np.NaN\n",
    "        continue\n",
    "    if simple_index_variablesDict.loc[independent_name, \"categorical\"]:\n",
    "        matrix = pd.get_dummies(matrix,\n",
    "                                columns=[independent_name],\n",
    "                                drop_first=False)\\\n",
    "                    .iloc[:, 0:-1]\n",
    "    dependent_var = matrix[dependent_var_name].cat.codes\n",
    "    independent_var = matrix.drop(dependent_var_name, axis=1)\\\n",
    "                            .assign(intercept = 1)\n",
    "    model = Logit(dependent_var, independent_var)\n",
    "    try:\n",
    "        results = model.fit(disp=0)\n",
    "        dic_pvalues[independent_name] = results.llr_pvalue\n",
    "    except (LinAlgError, PerfectSeparationError) as e:\n",
    "        dic_pvalues[independent_name] = np.NaN"
   ]
  },
  {
   "cell_type": "markdown",
   "metadata": {},
   "source": [
    "#### p-values distribution (univariate tests)"
   ]
  },
  {
   "cell_type": "code",
   "execution_count": 27,
   "metadata": {
    "pycharm": {
     "is_executing": false
    }
   },
   "outputs": [
    {
     "traceback": [
      "\u001b[0;31m---------------------------------------------------------------------------\u001b[0m",
      "\u001b[0;31mNameError\u001b[0m                                 Traceback (most recent call last)",
      "\u001b[0;32m<ipython-input-27-61fbd17b32d9>\u001b[0m in \u001b[0;36m<module>\u001b[0;34m\u001b[0m\n\u001b[0;32m----> 1\u001b[0;31m \u001b[0mpd\u001b[0m\u001b[0;34m.\u001b[0m\u001b[0mSeries\u001b[0m\u001b[0;34m(\u001b[0m\u001b[0;34m[\u001b[0m\u001b[0mv\u001b[0m \u001b[0;32mfor\u001b[0m \u001b[0mv\u001b[0m \u001b[0;32min\u001b[0m \u001b[0mdic_pvalues\u001b[0m\u001b[0;34m.\u001b[0m\u001b[0mvalues\u001b[0m\u001b[0;34m(\u001b[0m\u001b[0;34m)\u001b[0m\u001b[0;34m]\u001b[0m\u001b[0;34m)\u001b[0m\u001b[0;34m.\u001b[0m\u001b[0mplot\u001b[0m\u001b[0;34m.\u001b[0m\u001b[0mhist\u001b[0m\u001b[0;34m(\u001b[0m\u001b[0mbins\u001b[0m\u001b[0;34m=\u001b[0m\u001b[0;36m30\u001b[0m\u001b[0;34m)\u001b[0m\u001b[0;34m\u001b[0m\u001b[0;34m\u001b[0m\u001b[0m\n\u001b[0m\u001b[1;32m      2\u001b[0m plt.suptitle(\"Distribution of individual p-values\",\n\u001b[1;32m      3\u001b[0m              \u001b[0mweight\u001b[0m\u001b[0;34m=\u001b[0m\u001b[0;34m\"bold\"\u001b[0m\u001b[0;34m,\u001b[0m\u001b[0;34m\u001b[0m\u001b[0;34m\u001b[0m\u001b[0m\n\u001b[1;32m      4\u001b[0m             fontsize=15)\n",
      "\u001b[0;31mNameError\u001b[0m: name 'dic_pvalues' is not defined"
     ],
     "ename": "NameError",
     "evalue": "name 'dic_pvalues' is not defined",
     "output_type": "error"
    }
   ],
   "source": [
    "pd.Series([v for v in dic_pvalues.values()]).plot.hist(bins=30)\n",
    "plt.suptitle(\"Distribution of individual p-values\",\n",
    "             weight=\"bold\",\n",
    "            fontsize=15)"
   ]
  },
  {
   "cell_type": "markdown",
   "metadata": {},
   "source": [
    "### 5. Multiple hypotheses testing correction: Bonferroni Method"
   ]
  },
  {
   "cell_type": "markdown",
   "metadata": {},
   "source": [
    "In order to handle the multiple testing problem (increase in the probability to \"discover\" false statistical associations), we will use the Bonferroni correction method. Although many other multiple comparisons exist, Bonferroni is the most straightforward to use, because it doesn't require assumptions about variables correlation. Other PheWAS analysis also use False Discovery Rate controlling procedures ([see](https://en.wikipedia.org/wiki/False_discovery_rate))."
   ]
  },
  {
   "cell_type": "markdown",
   "metadata": {},
   "source": [
    "In a nutshell, Bonferonni allows to calculate a corrected \"statistical significant threshold\" according to the number of test performed. Every p-value below this threshold will be deemed statistically significant."
   ]
  },
  {
   "cell_type": "code",
   "execution_count": 28,
   "metadata": {
    "pycharm": {
     "is_executing": false
    }
   },
   "outputs": [
    {
     "traceback": [
      "\u001b[0;31m---------------------------------------------------------------------------\u001b[0m",
      "\u001b[0;31mNameError\u001b[0m                                 Traceback (most recent call last)",
      "\u001b[0;32m<ipython-input-28-c8e8842b7246>\u001b[0m in \u001b[0;36m<module>\u001b[0;34m\u001b[0m\n\u001b[1;32m      1\u001b[0m \u001b[0;31m# Merging pvalues from different tests\u001b[0m\u001b[0;34m\u001b[0m\u001b[0;34m\u001b[0m\u001b[0;34m\u001b[0m\u001b[0m\n\u001b[0;32m----> 2\u001b[0;31m \u001b[0mdf_pvalues\u001b[0m \u001b[0;34m=\u001b[0m \u001b[0mpd\u001b[0m\u001b[0;34m.\u001b[0m\u001b[0mDataFrame\u001b[0m\u001b[0;34m.\u001b[0m\u001b[0mfrom_dict\u001b[0m\u001b[0;34m(\u001b[0m\u001b[0mdic_pvalues\u001b[0m\u001b[0;34m,\u001b[0m \u001b[0morient\u001b[0m\u001b[0;34m=\u001b[0m\u001b[0;34m\"index\"\u001b[0m\u001b[0;34m,\u001b[0m \u001b[0mcolumns\u001b[0m\u001b[0;34m=\u001b[0m\u001b[0;34m[\u001b[0m\u001b[0;34m\"pvalues\"\u001b[0m\u001b[0;34m]\u001b[0m\u001b[0;34m)\u001b[0m\u001b[0;31m\\\u001b[0m\u001b[0;34m\u001b[0m\u001b[0;34m\u001b[0m\u001b[0m\n\u001b[0m\u001b[1;32m      3\u001b[0m \u001b[0;34m.\u001b[0m\u001b[0mrename_axis\u001b[0m\u001b[0;34m(\u001b[0m\u001b[0;34m\"name\"\u001b[0m\u001b[0;34m)\u001b[0m\u001b[0;31m\\\u001b[0m\u001b[0;34m\u001b[0m\u001b[0;34m\u001b[0m\u001b[0m\n\u001b[1;32m      4\u001b[0m \u001b[0;34m.\u001b[0m\u001b[0mreset_index\u001b[0m\u001b[0;34m(\u001b[0m\u001b[0mdrop\u001b[0m\u001b[0;34m=\u001b[0m\u001b[0;32mFalse\u001b[0m\u001b[0;34m)\u001b[0m\u001b[0;34m\u001b[0m\u001b[0;34m\u001b[0m\u001b[0m\n\u001b[1;32m      5\u001b[0m \u001b[0;34m\u001b[0m\u001b[0m\n",
      "\u001b[0;31mNameError\u001b[0m: name 'dic_pvalues' is not defined"
     ],
     "ename": "NameError",
     "evalue": "name 'dic_pvalues' is not defined",
     "output_type": "error"
    }
   ],
   "source": [
    "%%capture\n",
    "# Merging pvalues from different tests\n",
    "df_pvalues = pd.DataFrame.from_dict(dic_pvalues, orient=\"index\", columns=[\"pvalues\"])\\\n",
    ".rename_axis(\"name\")\\\n",
    ".reset_index(drop=False)\n",
    "\n",
    "# Adding pvalues results as a new column to variablesDict\n",
    "variablesDict = joining_variablesDict_onCol(variablesDict,\n",
    "                                              df_pvalues,\n",
    "                                              left_col=\"name\",\n",
    "                                              right_col=\"name\")\n",
    "\n",
    "adjusted_alpha = 0.05/len(variablesDict[\"pvalues\"])\n",
    "variablesDict[\"p_adj\"] = variablesDict[\"pvalues\"] / len(variablesDict[\"pvalues\"])\n",
    "variablesDict['log_p'] = -np.log10(variablesDict['pvalues'])\n",
    "variablesDict = variablesDict.sort_index()\n",
    "variablesDict[\"group\"] = variablesDict.reset_index(level=2)[\"level_2\"].values"
   ]
  },
  {
   "cell_type": "code",
   "execution_count": 29,
   "metadata": {
    "pycharm": {
     "is_executing": false
    }
   },
   "outputs": [
    {
     "traceback": [
      "\u001b[0;31m---------------------------------------------------------------------------\u001b[0m",
      "\u001b[0;31mNameError\u001b[0m                                 Traceback (most recent call last)",
      "\u001b[0;32m<ipython-input-29-69d58e5bd22a>\u001b[0m in \u001b[0;36m<module>\u001b[0;34m\u001b[0m\n\u001b[0;32m----> 1\u001b[0;31m \u001b[0mprint\u001b[0m\u001b[0;34m(\u001b[0m\u001b[0;34m\"Bonferonni adjusted significance threshold: {0:.2E}\"\u001b[0m\u001b[0;34m.\u001b[0m\u001b[0mformat\u001b[0m\u001b[0;34m(\u001b[0m\u001b[0madjusted_alpha\u001b[0m\u001b[0;34m)\u001b[0m\u001b[0;34m)\u001b[0m\u001b[0;34m\u001b[0m\u001b[0;34m\u001b[0m\u001b[0m\n\u001b[0m",
      "\u001b[0;31mNameError\u001b[0m: name 'adjusted_alpha' is not defined"
     ],
     "ename": "NameError",
     "evalue": "name 'adjusted_alpha' is not defined",
     "output_type": "error"
    }
   ],
   "source": [
    "print(\"Bonferonni adjusted significance threshold: {0:.2E}\".format(adjusted_alpha))"
   ]
  },
  {
   "cell_type": "markdown",
   "metadata": {},
   "source": [
    "## 6. Result visualisations: Manhattan plot"
   ]
  },
  {
   "cell_type": "markdown",
   "metadata": {},
   "source": [
    "Manhattan plot is the classical way to plot the results of a PheWAS analysis. It plots every tested phenotypical variables on the X-axis, against its *-log(pvalue)* on the Y-axis. The horizontal line represent the adjusted significance level threshold."
   ]
  },
  {
   "cell_type": "code",
   "execution_count": 32,
   "metadata": {
    "pycharm": {
     "is_executing": false
    }
   },
   "outputs": [
    {
     "traceback": [
      "\u001b[0;31m---------------------------------------------------------------------------\u001b[0m",
      "\u001b[0;31mKeyError\u001b[0m                                  Traceback (most recent call last)",
      "\u001b[0;32m~/miniconda3/envs/dbmi_jupyterhub/lib/python3.6/site-packages/pandas/core/indexes/base.py\u001b[0m in \u001b[0;36mget_loc\u001b[0;34m(self, key, method, tolerance)\u001b[0m\n\u001b[1;32m   2896\u001b[0m             \u001b[0;32mtry\u001b[0m\u001b[0;34m:\u001b[0m\u001b[0;34m\u001b[0m\u001b[0;34m\u001b[0m\u001b[0m\n\u001b[0;32m-> 2897\u001b[0;31m                 \u001b[0;32mreturn\u001b[0m \u001b[0mself\u001b[0m\u001b[0;34m.\u001b[0m\u001b[0m_engine\u001b[0m\u001b[0;34m.\u001b[0m\u001b[0mget_loc\u001b[0m\u001b[0;34m(\u001b[0m\u001b[0mkey\u001b[0m\u001b[0;34m)\u001b[0m\u001b[0;34m\u001b[0m\u001b[0;34m\u001b[0m\u001b[0m\n\u001b[0m\u001b[1;32m   2898\u001b[0m             \u001b[0;32mexcept\u001b[0m \u001b[0mKeyError\u001b[0m\u001b[0;34m:\u001b[0m\u001b[0;34m\u001b[0m\u001b[0;34m\u001b[0m\u001b[0m\n",
      "\u001b[0;32mpandas/_libs/index.pyx\u001b[0m in \u001b[0;36mpandas._libs.index.IndexEngine.get_loc\u001b[0;34m()\u001b[0m\n",
      "\u001b[0;32mpandas/_libs/index.pyx\u001b[0m in \u001b[0;36mpandas._libs.index.IndexEngine.get_loc\u001b[0;34m()\u001b[0m\n",
      "\u001b[0;32mpandas/_libs/hashtable_class_helper.pxi\u001b[0m in \u001b[0;36mpandas._libs.hashtable.PyObjectHashTable.get_item\u001b[0;34m()\u001b[0m\n",
      "\u001b[0;32mpandas/_libs/hashtable_class_helper.pxi\u001b[0m in \u001b[0;36mpandas._libs.hashtable.PyObjectHashTable.get_item\u001b[0;34m()\u001b[0m\n",
      "\u001b[0;31mKeyError\u001b[0m: 'pvalues'",
      "\nDuring handling of the above exception, another exception occurred:\n",
      "\u001b[0;31mKeyError\u001b[0m                                  Traceback (most recent call last)",
      "\u001b[0;32m<ipython-input-32-17ff37029cae>\u001b[0m in \u001b[0;36m<module>\u001b[0;34m\u001b[0m\n\u001b[0;32m----> 1\u001b[0;31m \u001b[0mmask\u001b[0m \u001b[0;34m=\u001b[0m \u001b[0mvariablesDict\u001b[0m\u001b[0;34m[\u001b[0m\u001b[0;34m\"pvalues\"\u001b[0m\u001b[0;34m]\u001b[0m\u001b[0;34m.\u001b[0m\u001b[0misna\u001b[0m\u001b[0;34m(\u001b[0m\u001b[0;34m)\u001b[0m\u001b[0;34m\u001b[0m\u001b[0;34m\u001b[0m\u001b[0m\n\u001b[0m\u001b[1;32m      2\u001b[0m \u001b[0mdf_results\u001b[0m \u001b[0;34m=\u001b[0m \u001b[0mvariablesDict\u001b[0m\u001b[0;34m.\u001b[0m\u001b[0mloc\u001b[0m\u001b[0;34m[\u001b[0m\u001b[0;34m~\u001b[0m\u001b[0mmask\u001b[0m\u001b[0;34m,\u001b[0m\u001b[0;34m:\u001b[0m\u001b[0;34m]\u001b[0m\u001b[0;34m.\u001b[0m\u001b[0mcopy\u001b[0m\u001b[0;34m(\u001b[0m\u001b[0;34m)\u001b[0m\u001b[0;34m.\u001b[0m\u001b[0mreplace\u001b[0m\u001b[0;34m(\u001b[0m\u001b[0;34m[\u001b[0m\u001b[0mnp\u001b[0m\u001b[0;34m.\u001b[0m\u001b[0minf\u001b[0m\u001b[0;34m,\u001b[0m \u001b[0;34m-\u001b[0m\u001b[0mnp\u001b[0m\u001b[0;34m.\u001b[0m\u001b[0minf\u001b[0m\u001b[0;34m]\u001b[0m\u001b[0;34m,\u001b[0m \u001b[0mnp\u001b[0m\u001b[0;34m.\u001b[0m\u001b[0mnan\u001b[0m\u001b[0;34m)\u001b[0m\u001b[0;34m\u001b[0m\u001b[0;34m\u001b[0m\u001b[0m\n\u001b[1;32m      3\u001b[0m \u001b[0mdf_results\u001b[0m \u001b[0;34m=\u001b[0m \u001b[0mdf_results\u001b[0m\u001b[0;34m.\u001b[0m\u001b[0mloc\u001b[0m\u001b[0;34m[\u001b[0m\u001b[0;34m~\u001b[0m\u001b[0mdf_results\u001b[0m\u001b[0;34m[\u001b[0m\u001b[0;34m\"log_p\"\u001b[0m\u001b[0;34m]\u001b[0m\u001b[0;34m.\u001b[0m\u001b[0misna\u001b[0m\u001b[0;34m(\u001b[0m\u001b[0;34m)\u001b[0m\u001b[0;34m.\u001b[0m\u001b[0mvalues\u001b[0m\u001b[0;34m,\u001b[0m\u001b[0;34m:\u001b[0m\u001b[0;34m]\u001b[0m\u001b[0;34m\u001b[0m\u001b[0;34m\u001b[0m\u001b[0m\n\u001b[1;32m      4\u001b[0m \u001b[0;34m\u001b[0m\u001b[0m\n\u001b[1;32m      5\u001b[0m \u001b[0;31m#### Specific adjustment to make this specific plot looks nicer\u001b[0m\u001b[0;34m\u001b[0m\u001b[0;34m\u001b[0m\u001b[0;34m\u001b[0m\u001b[0m\n",
      "\u001b[0;32m~/miniconda3/envs/dbmi_jupyterhub/lib/python3.6/site-packages/pandas/core/frame.py\u001b[0m in \u001b[0;36m__getitem__\u001b[0;34m(self, key)\u001b[0m\n\u001b[1;32m   2993\u001b[0m             \u001b[0;32mif\u001b[0m \u001b[0mself\u001b[0m\u001b[0;34m.\u001b[0m\u001b[0mcolumns\u001b[0m\u001b[0;34m.\u001b[0m\u001b[0mnlevels\u001b[0m \u001b[0;34m>\u001b[0m \u001b[0;36m1\u001b[0m\u001b[0;34m:\u001b[0m\u001b[0;34m\u001b[0m\u001b[0;34m\u001b[0m\u001b[0m\n\u001b[1;32m   2994\u001b[0m                 \u001b[0;32mreturn\u001b[0m \u001b[0mself\u001b[0m\u001b[0;34m.\u001b[0m\u001b[0m_getitem_multilevel\u001b[0m\u001b[0;34m(\u001b[0m\u001b[0mkey\u001b[0m\u001b[0;34m)\u001b[0m\u001b[0;34m\u001b[0m\u001b[0;34m\u001b[0m\u001b[0m\n\u001b[0;32m-> 2995\u001b[0;31m             \u001b[0mindexer\u001b[0m \u001b[0;34m=\u001b[0m \u001b[0mself\u001b[0m\u001b[0;34m.\u001b[0m\u001b[0mcolumns\u001b[0m\u001b[0;34m.\u001b[0m\u001b[0mget_loc\u001b[0m\u001b[0;34m(\u001b[0m\u001b[0mkey\u001b[0m\u001b[0;34m)\u001b[0m\u001b[0;34m\u001b[0m\u001b[0;34m\u001b[0m\u001b[0m\n\u001b[0m\u001b[1;32m   2996\u001b[0m             \u001b[0;32mif\u001b[0m \u001b[0mis_integer\u001b[0m\u001b[0;34m(\u001b[0m\u001b[0mindexer\u001b[0m\u001b[0;34m)\u001b[0m\u001b[0;34m:\u001b[0m\u001b[0;34m\u001b[0m\u001b[0;34m\u001b[0m\u001b[0m\n\u001b[1;32m   2997\u001b[0m                 \u001b[0mindexer\u001b[0m \u001b[0;34m=\u001b[0m \u001b[0;34m[\u001b[0m\u001b[0mindexer\u001b[0m\u001b[0;34m]\u001b[0m\u001b[0;34m\u001b[0m\u001b[0;34m\u001b[0m\u001b[0m\n",
      "\u001b[0;32m~/miniconda3/envs/dbmi_jupyterhub/lib/python3.6/site-packages/pandas/core/indexes/base.py\u001b[0m in \u001b[0;36mget_loc\u001b[0;34m(self, key, method, tolerance)\u001b[0m\n\u001b[1;32m   2897\u001b[0m                 \u001b[0;32mreturn\u001b[0m \u001b[0mself\u001b[0m\u001b[0;34m.\u001b[0m\u001b[0m_engine\u001b[0m\u001b[0;34m.\u001b[0m\u001b[0mget_loc\u001b[0m\u001b[0;34m(\u001b[0m\u001b[0mkey\u001b[0m\u001b[0;34m)\u001b[0m\u001b[0;34m\u001b[0m\u001b[0;34m\u001b[0m\u001b[0m\n\u001b[1;32m   2898\u001b[0m             \u001b[0;32mexcept\u001b[0m \u001b[0mKeyError\u001b[0m\u001b[0;34m:\u001b[0m\u001b[0;34m\u001b[0m\u001b[0;34m\u001b[0m\u001b[0m\n\u001b[0;32m-> 2899\u001b[0;31m                 \u001b[0;32mreturn\u001b[0m \u001b[0mself\u001b[0m\u001b[0;34m.\u001b[0m\u001b[0m_engine\u001b[0m\u001b[0;34m.\u001b[0m\u001b[0mget_loc\u001b[0m\u001b[0;34m(\u001b[0m\u001b[0mself\u001b[0m\u001b[0;34m.\u001b[0m\u001b[0m_maybe_cast_indexer\u001b[0m\u001b[0;34m(\u001b[0m\u001b[0mkey\u001b[0m\u001b[0;34m)\u001b[0m\u001b[0;34m)\u001b[0m\u001b[0;34m\u001b[0m\u001b[0;34m\u001b[0m\u001b[0m\n\u001b[0m\u001b[1;32m   2900\u001b[0m         \u001b[0mindexer\u001b[0m \u001b[0;34m=\u001b[0m \u001b[0mself\u001b[0m\u001b[0;34m.\u001b[0m\u001b[0mget_indexer\u001b[0m\u001b[0;34m(\u001b[0m\u001b[0;34m[\u001b[0m\u001b[0mkey\u001b[0m\u001b[0;34m]\u001b[0m\u001b[0;34m,\u001b[0m \u001b[0mmethod\u001b[0m\u001b[0;34m=\u001b[0m\u001b[0mmethod\u001b[0m\u001b[0;34m,\u001b[0m \u001b[0mtolerance\u001b[0m\u001b[0;34m=\u001b[0m\u001b[0mtolerance\u001b[0m\u001b[0;34m)\u001b[0m\u001b[0;34m\u001b[0m\u001b[0;34m\u001b[0m\u001b[0m\n\u001b[1;32m   2901\u001b[0m         \u001b[0;32mif\u001b[0m \u001b[0mindexer\u001b[0m\u001b[0;34m.\u001b[0m\u001b[0mndim\u001b[0m \u001b[0;34m>\u001b[0m \u001b[0;36m1\u001b[0m \u001b[0;32mor\u001b[0m \u001b[0mindexer\u001b[0m\u001b[0;34m.\u001b[0m\u001b[0msize\u001b[0m \u001b[0;34m>\u001b[0m \u001b[0;36m1\u001b[0m\u001b[0;34m:\u001b[0m\u001b[0;34m\u001b[0m\u001b[0;34m\u001b[0m\u001b[0m\n",
      "\u001b[0;32mpandas/_libs/index.pyx\u001b[0m in \u001b[0;36mpandas._libs.index.IndexEngine.get_loc\u001b[0;34m()\u001b[0m\n",
      "\u001b[0;32mpandas/_libs/index.pyx\u001b[0m in \u001b[0;36mpandas._libs.index.IndexEngine.get_loc\u001b[0;34m()\u001b[0m\n",
      "\u001b[0;32mpandas/_libs/hashtable_class_helper.pxi\u001b[0m in \u001b[0;36mpandas._libs.hashtable.PyObjectHashTable.get_item\u001b[0;34m()\u001b[0m\n",
      "\u001b[0;32mpandas/_libs/hashtable_class_helper.pxi\u001b[0m in \u001b[0;36mpandas._libs.hashtable.PyObjectHashTable.get_item\u001b[0;34m()\u001b[0m\n",
      "\u001b[0;31mKeyError\u001b[0m: 'pvalues'"
     ],
     "ename": "KeyError",
     "evalue": "'pvalues'",
     "output_type": "error"
    }
   ],
   "source": [
    "mask = variablesDict[\"pvalues\"].isna()\n",
    "df_results = variablesDict.loc[~mask,:].copy().replace([np.inf, -np.inf], np.nan)\n",
    "df_results = df_results.loc[~df_results[\"log_p\"].isna().values,:]\n",
    "\n",
    "#### Specific adjustment to make this specific plot looks nicer\n",
    "####### to adapt when changing data or dependent variable\n",
    "df_results = df_results.replace({\"TLC\": \"Spirometry\",\n",
    "                                 \"New Gold Classification\": \"Quantitative Analysis\", \n",
    "                  \"Other\": \"Demographics\"})\n",
    "group_order={'6MinWalk': 0,\n",
    " 'CT Acquisition Parameters': 1,\n",
    " 'CT Assessment Scoresheet': 2,\n",
    " 'Demographics and Physical Characteristics': 3,\n",
    " 'Eligibility Form': 10,\n",
    " 'Longitudinal Analysis': 5,\n",
    " 'Medical History': 4,\n",
    " 'Medication History': 13,\n",
    " 'Quantitative Analysis': 9,\n",
    " 'Respiratory Disease': 6,\n",
    " 'SF-36 Health Survey': 11,\n",
    " 'Sociodemography and Administration': 12,\n",
    " 'Spirometry': 7,\n",
    " 'VIDA': 15}\n",
    "df_results[\"group_order\"] = df_results[\"group\"].replace(group_order)\n",
    "df_results = df_results.sort_values(\"group_order\", ascending=True)\n",
    "df_results[\"simplified_name\"] = df_results[\"simplified_name\"].str.replace(\"[0-9]+[A-z]*\", \"\").to_frame()\n",
    "###\n",
    "\n",
    "\n",
    "fig = plt.figure()\n",
    "ax = fig.add_subplot(111)\n",
    "colors = plt.get_cmap('Set1')\n",
    "x_labels = []\n",
    "x_labels_pos = []\n",
    "\n",
    "y_lims = (0, df_results[\"log_p\"].max(skipna=True) + 50)\n",
    "threshold_top_values = df_results[\"log_p\"].sort_values(ascending=False)[0:6][-1]\n",
    "\n",
    "df_results[\"ind\"] = np.arange(1, len(df_results)+1)\n",
    "df_grouped = df_results.groupby(('group'))\n",
    "for num, (name, group) in enumerate(df_grouped):\n",
    "    group.plot(kind='scatter', x='ind', y='log_p',color=colors.colors[num % len(colors.colors)], ax=ax, s=20)\n",
    "    x_labels.append(name)\n",
    "    x_labels_pos.append((group['ind'].iloc[-1] - (group['ind'].iloc[-1] - group['ind'].iloc[0])/2)) # Set label in the middle\n",
    "    for n, row in group.iterrows():\n",
    "        if row[\"log_p\"] > threshold_top_values:\n",
    "            ax.text(row['ind'] + 3, row[\"log_p\"] + 0.05, row[\"simplified_name\"], rotation=0, alpha=1, size=8, color=\"black\")\n",
    "                \n",
    "ax.set_xticks(x_labels_pos)\n",
    "ax.set_xticklabels(x_labels)\n",
    "ax.set_xlim([0, len(df_results) +1])\n",
    "ax.set_ylim(y_lims)\n",
    "ax.set_ylabel('-log(p-values)', style=\"italic\")\n",
    "ax.set_xlabel('Phenotypes', fontsize=15)\n",
    "ax.axhline(y=-np.log10(adjusted_alpha), linestyle=\":\", color=\"black\", label=\"Adjusted Threshold\")\n",
    "plt.xticks(fontsize = 9,rotation=90)\n",
    "plt.yticks(fontsize = 8)\n",
    "plt.title(\"Statistical Association Between COPD Status and Phenotypes\", \n",
    "          loc=\"center\",\n",
    "          style=\"oblique\", \n",
    "          fontsize = 20,\n",
    "         y=1)\n",
    "xticks = ax.xaxis.get_major_ticks()\n",
    "xticks[0].set_visible(False)\n",
    "handles, labels = ax.get_legend_handles_labels()\n",
    "plt.legend(handles = handles, labels = labels, loc = \"upper left\")\n",
    "plt.show()"
   ]
  },
  {
   "cell_type": "markdown",
   "metadata": {},
   "source": [
    "Overall, it appears that most of the tested phenotypes covariates are above the adjusted threshold of significant association. However, it is not surprising at all, given the nature of our dependent variable: a lot of those variables are by nature tied directly to the COPD status."
   ]
  },
  {
   "cell_type": "markdown",
   "metadata": {},
   "source": [
    "This code can be used directly with any other variable present in the variable Dictionary. It only need to change the `dependent_var_name` value."
   ]
  }
 ],
 "metadata": {
  "kernelspec": {
   "name": "dbmi_jupyterhub",
   "language": "python",
   "display_name": "Python 3.6"
  },
  "language_info": {
   "codemirror_mode": {
    "name": "ipython",
    "version": 3
   },
   "file_extension": ".py",
   "mimetype": "text/x-python",
   "name": "python",
   "nbconvert_exporter": "python",
   "pygments_lexer": "ipython3",
   "version": "3.6.9"
  },
  "pycharm": {
   "stem_cell": {
    "cell_type": "raw",
    "source": [],
    "metadata": {
     "collapsed": false
    }
   }
  }
 },
 "nbformat": 4,
 "nbformat_minor": 4
}