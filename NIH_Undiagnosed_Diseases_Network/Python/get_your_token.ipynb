{
 "cells": [
  {
   "cell_type": "markdown",
   "metadata": {},
   "source": [
    "# Connecting to UDN HPDN resource\n",
    "\n",
    "\n",
    "## Get your signed token\n",
    "\n",
    "In this notebook is illustrated how to get your user token to connect to HPDS resources. To connect to a data resource you need to:\n",
    "\n",
    "* Get the resource URL and UUID \n",
    "* Get your user token\n",
    "\n",
    "##### What is a UUID?\n",
    "\n",
    "A [universally unique identifier (UUID)](https://en.wikipedia.org/wiki/Universally_unique_identifier) is a 128-bit number used to identify information in computer systems. When generated according to the standard methods, UUIDs are for practical purposes **unique**. \n",
    "\n",
    "The UUID for your data resource is in the `PIC-SURE_API_101.ipynb` jupyter notebook.\n",
    "\n",
    "##### What is a token?\n",
    "\n",
    "Token, an object (in software or in hardware) which represents the right to perform some operation. In computer systems, an [access token](https://en.wikipedia.org/wiki/Access_token) contains the security credentials for a login session and identifies the user, the user's groups, the user's privileges, and, in some cases, a particular application. Typically one may be asked to enter the access token (e.g. 40 random characters) rather than the usual password (it therefore should be **kept secret just like a password**).\n",
    "\n",
    "\n",
    "### 1. Create a blank text file to store your token"
   ]
  },
  {
   "cell_type": "code",
   "execution_count": 1,
   "metadata": {},
   "outputs": [
    {
     "data": {
      "text/html": [
       "TRUE"
      ],
      "text/latex": [
       "TRUE"
      ],
      "text/markdown": [
       "TRUE"
      ],
      "text/plain": [
       "[1] TRUE"
      ]
     },
     "metadata": {},
     "output_type": "display_data"
    }
   ],
   "source": [
    "file_name = \"token.txt\"\n",
    "if(!file.exists(file_name)) file.create(file_name)"
   ]
  },
  {
   "cell_type": "markdown",
   "metadata": {},
   "source": [
    "### 2. Manually, access-copy-paste your token\n",
    "\n",
    "To get your token, follow the next steps:\n",
    "\n",
    "1. Log in https://udn.hms.harvard.edu\n",
    "\n",
    "2. On top, go to `User Profile` tab, then click on **User Profile** \n",
    "\n",
    "3. Copy the token\n",
    "\n",
    "4. Open `token.txt` with your favorite editor, paste the token and save the file\n",
    "\n",
    "Now you can connect to UDN via the PIC-SURE API."
   ]
  }
 ],
 "metadata": {
  "kernelspec": {
   "display_name": "R",
   "language": "R",
   "name": "ir"
  },
  "language_info": {
   "codemirror_mode": "r",
   "file_extension": ".r",
   "mimetype": "text/x-r-source",
   "name": "R",
   "pygments_lexer": "r",
   "version": "3.6.1"
  }
 },
 "nbformat": 4,
 "nbformat_minor": 2
}
