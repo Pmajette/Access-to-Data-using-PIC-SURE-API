{
 "cells": [
  {
   "cell_type": "markdown",
   "metadata": {},
   "source": [
    "# UDN Data Characterization\n",
    "\n",
    "This notebook is intended to characterize the content of the clinical data in UDN to have a first glimpse of what is in the network and how is discribed.\n",
    "\n",
    "## 1. DATA: UDN Network Resource \n",
    "\n",
    "The Undiagnosed Diseases Network (UDN), funded by the NIH Common Fund, is a research study to improve diagnosis and care of patients with undiagnosed conditions. The UDN established a nationwide network of clinicians and researchers who use both basic and clinical research to uncover the underlying disease mechanisms associated with these conditions. In its first 20 months, the UDN accepted 601 participants undiagnosed by traditional medical practices. Of those who completed their UDN evaluation during this time, 35% were given a diagnosis. Many of these diagnoses were rare genetic diseases including 31 previously unknown syndromes. \n",
    "\n",
    "The specific goals of UDN are to: (1) improve the level of diagnosis and care for patients with undiagnosed diseases through the development of common protocols designed by a large community of investigators; (2) facilitate research into the etiology of undiagnosed diseases, by collecting and sharing standardized, high-quality clinical and laboratory data including genotyping, phenotyping, and documentation of environmental exposures; and (3) create an integrated and collaborative community across multiple clinical sites and among laboratory and clinical investigators prepared to investigate the pathophysiology of these new and rare diseases.\n",
    "\n",
    "For more information, please refer to https://commonfund.nih.gov/diseases\n",
    "\n",
    "### PIC-SURE API\n",
    "\n",
    "Databases exposed through PIC-SURE API encompass a wide heterogeneity of architectures and data models underneath. PIC-SURE hides this complexity, allowing researchers to access data in a normalized way and focus on the analysis and medical insights. The API is available in Python and R programming languages. \n",
    "\n",
    "The API is actively developed by the Avillach-Lab at Harvard Medical School. For more information, please refer to the GitHub repo:\n",
    "* https://github.com/hms-dbmi/pic-sure-python-adapter-hpds\n",
    "* https://github.com/hms-dbmi/pic-sure-python-client\n",
    "\n",
    "---\n",
    "\n",
    "### Environment setup\n",
    "\n",
    "* Pre-requisites: R >= 3.6.1\n",
    "* Anaconda"
   ]
  },
  {
   "cell_type": "code",
   "execution_count": null,
   "metadata": {},
   "outputs": [],
   "source": [
    "# list the packages required to create your R environment with conda\n",
    "system('cat udn-r.yml', intern=TRUE)"
   ]
  },
  {
   "cell_type": "code",
   "execution_count": null,
   "metadata": {
    "scrolled": true
   },
   "outputs": [],
   "source": [
    "# set up environment\n",
    "system('conda env create -f udn-r.yml', intern=TRUE)\n",
    "system('conda activate udn-r', intern=TRUE)"
   ]
  },
  {
   "cell_type": "markdown",
   "metadata": {},
   "source": [
    "### Packages "
   ]
  },
  {
   "cell_type": "markdown",
   "metadata": {},
   "source": [
    "#### Install R packages for the analysis example"
   ]
  },
  {
   "cell_type": "code",
   "execution_count": 2,
   "metadata": {
    "scrolled": true
   },
   "outputs": [],
   "source": [
    "# R packages for analysis\n",
    "list_packages <- c(\"devtools\")\n",
    "\n",
    "for (package in list_packages){\n",
    "     if(! package %in% installed.packages()){\n",
    "         install.packages(package, dependencies = TRUE)\n",
    "     }\n",
    "     library(package, character.only = TRUE)\n",
    "}"
   ]
  },
  {
   "cell_type": "markdown",
   "metadata": {},
   "source": [
    "#### Install latest R PIC-SURE API libraries from GitHub"
   ]
  },
  {
   "cell_type": "code",
   "execution_count": 4,
   "metadata": {},
   "outputs": [
    {
     "name": "stderr",
     "output_type": "stream",
     "text": [
      "Downloading GitHub repo hms-dbmi/pic-sure-r-client@master\n"
     ]
    },
    {
     "name": "stdout",
     "output_type": "stream",
     "text": [
      "askpass (1.0   -> 1.1  ) [CRAN]\n",
      "curl    (3.3   -> 4.3  ) [CRAN]\n",
      "httr    (1.4.0 -> 1.4.1) [CRAN]\n",
      "mime    (0.6   -> 0.8  ) [CRAN]\n",
      "openssl (1.3   -> 1.4.1) [CRAN]\n",
      "R6      (2.4.0 -> 2.4.1) [CRAN]\n",
      "stringi (1.4.3 -> 1.4.5) [CRAN]\n",
      "sys     (3.2   -> 3.3  ) [CRAN]\n"
     ]
    },
    {
     "name": "stderr",
     "output_type": "stream",
     "text": [
      "Installing 8 packages: askpass, curl, httr, mime, openssl, R6, stringi, sys\n"
     ]
    },
    {
     "ename": "ERROR",
     "evalue": "Error in i.p(...): (converted from warning) installation of package ‘stringi’ had non-zero exit status\n",
     "output_type": "error",
     "traceback": [
      "Error in i.p(...): (converted from warning) installation of package ‘stringi’ had non-zero exit status\nTraceback:\n",
      "1. devtools::install_github(\"hms-dbmi/pic-sure-r-client\", force = T)",
      "2. install_remotes(remotes, auth_token = auth_token, host = host, \n .     dependencies = dependencies, upgrade = upgrade, force = force, \n .     quiet = quiet, build = build, build_opts = build_opts, repos = repos, \n .     type = type, ...)",
      "3. vapply(remotes, install_remote, ..., FUN.VALUE = character(1))",
      "4. FUN(X[[i]], ...)",
      "5. install(source, dependencies = dependencies, upgrade = upgrade, \n .     force = force, quiet = quiet, build = build, build_opts = build_opts, \n .     repos = repos, type = type, ...)",
      "6. install_deps(pkgdir, dependencies = dependencies, quiet = quiet, \n .     build = build, build_opts = build_opts, upgrade = upgrade, \n .     repos = repos, type = type)",
      "7. update(packages, dependencies = dep_deps, quiet = quiet, upgrade = upgrade, \n .     build = build, build_opts = build_opts, ...)",
      "8. update.package_deps(packages, dependencies = dep_deps, quiet = quiet, \n .     upgrade = upgrade, build = build, build_opts = build_opts, \n .     ...)",
      "9. install_packages(object$package[object$is_cran & behind], repos = r$repos, \n .     type = r$pkg_type, dependencies = dependencies, quiet = quiet, \n .     ...)",
      "10. do.call(safe_install_packages, c(list(packages, repos = repos, \n  .     type = type, dependencies = dependencies, quiet = quiet), \n  .     args))",
      "11. (function (...) \n  . {\n  .     lib <- paste(.libPaths(), collapse = .Platform$path.sep)\n  .     if (!is_standalone() && has_package(\"crancache\") && has_package(\"callr\")) {\n  .         i.p <- \"crancache\" %::% \"install_packages\"\n  .     }\n  .     else {\n  .         i.p <- utils::install.packages\n  .     }\n  .     with_envvar(c(R_LIBS = lib, R_LIBS_USER = lib, R_LIBS_SITE = lib, \n  .         RGL_USE_NULL = \"TRUE\"), if (should_error_for_warnings()) {\n  .         with_options(list(warn = 2), with_rprofile_user(\"options(warn = 2)\", \n  .             i.p(...)))\n  .     }\n  .     else {\n  .         i.p(...)\n  .     })\n  . })(c(\"askpass\", \"curl\", \"httr\", \"mime\", \"openssl\", \"R6\", \"stringi\", \n  . \"sys\"), repos = c(CRAN = \"https://cran.r-project.org\"), type = \"source\", \n  .     dependencies = NA, quiet = FALSE)",
      "12. with_envvar(c(R_LIBS = lib, R_LIBS_USER = lib, R_LIBS_SITE = lib, \n  .     RGL_USE_NULL = \"TRUE\"), if (should_error_for_warnings()) {\n  .     with_options(list(warn = 2), with_rprofile_user(\"options(warn = 2)\", \n  .         i.p(...)))\n  . } else {\n  .     i.p(...)\n  . })",
      "13. force(code)",
      "14. with_options(list(warn = 2), with_rprofile_user(\"options(warn = 2)\", \n  .     i.p(...)))",
      "15. force(code)",
      "16. with_rprofile_user(\"options(warn = 2)\", i.p(...))",
      "17. with_envvar(c(R_PROFILE_USER = temp_rprofile), {\n  .     force(code)\n  . })",
      "18. force(code)",
      "19. force(code)",
      "20. i.p(...)",
      "21. warning(gettextf(\"installation of package %s had non-zero exit status\", \n  .     sQuote(update[i, 1L])), domain = NA)",
      "22. .signalSimpleWarning(\"installation of package ‘stringi’ had non-zero exit status\", \n  .     base::quote(i.p(...)))",
      "23. withRestarts({\n  .     .Internal(.signalCondition(simpleWarning(msg, call), msg, \n  .         call))\n  .     .Internal(.dfltWarn(msg, call))\n  . }, muffleWarning = function() NULL)",
      "24. withOneRestart(expr, restarts[[1L]])",
      "25. doWithOneRestart(return(expr), restart)"
     ]
    }
   ],
   "source": [
    "# pic-sure api lib\n",
    "devtools::install_github(\"hms-dbmi/pic-sure-r-client\", force=T)\n",
    "#devtools::install_github(\"hms-dbmi/pic-sure-r-adapter-hpds\", force=T)"
   ]
  },
  {
   "cell_type": "markdown",
   "metadata": {},
   "source": [
    "#### Load user functions"
   ]
  },
  {
   "cell_type": "code",
   "execution_count": null,
   "metadata": {},
   "outputs": [],
   "source": [
    "# R_lib for pic-sure\n",
    "source(\"R_lib/utils.R\")"
   ]
  },
  {
   "cell_type": "markdown",
   "metadata": {},
   "source": [
    "## 2. DATA ACCESS Workflow\n",
    "### 1. Connect to the UDN data resource using the HPDS adapter"
   ]
  },
  {
   "cell_type": "code",
   "execution_count": null,
   "metadata": {},
   "outputs": [],
   "source": [
    "# token is the individual key given to connect to the UDN resource\n",
    "token_file <- \"token.txt\"\n",
    "token <- scan(token_file, what = \"character\")"
   ]
  },
  {
   "cell_type": "code",
   "execution_count": null,
   "metadata": {},
   "outputs": [],
   "source": [
    "# Connection to the PicSure Client w/ key\n",
    "PICSURE_network_URL <- \"https://udn.hms.harvard.edu/picsure\"\n",
    "resource_id <- \"8e8c7ed0-87ea-4342-b8da-f939e46bac26\""
   ]
  },
  {
   "cell_type": "code",
   "execution_count": null,
   "metadata": {},
   "outputs": [],
   "source": [
    "myconnection <- picsure::connect(url = PICSURE_network_URL,\n",
    "                                 token = token)"
   ]
  },
  {
   "cell_type": "code",
   "execution_count": null,
   "metadata": {},
   "outputs": [],
   "source": [
    "resource <- hpds::get.resource(myconnection,\n",
    "                               resourceUUID = resource_id)"
   ]
  },
  {
   "cell_type": "code",
   "execution_count": null,
   "metadata": {},
   "outputs": [],
   "source": [
    "# get object information\n",
    "resource.help()"
   ]
  },
  {
   "cell_type": "markdown",
   "metadata": {},
   "source": [
    "### 2. Explore data: data structure description\n",
    "\n",
    "**Methods**:\n",
    "\n",
    "    * Search: Dictionary method\n",
    "    * Retrieve: Query method\n",
    "\n",
    "**Data structures**:\n",
    "\n",
    "    * Dictionary object structure\n",
    "    * Query object structure"
   ]
  },
  {
   "cell_type": "code",
   "execution_count": null,
   "metadata": {},
   "outputs": [],
   "source": []
  },
  {
   "cell_type": "markdown",
   "metadata": {},
   "source": [
    "### 3. Data characterization\n",
    "#### Download data\n",
    "##### demographics"
   ]
  },
  {
   "cell_type": "code",
   "execution_count": null,
   "metadata": {},
   "outputs": [],
   "source": []
  },
  {
   "cell_type": "code",
   "execution_count": null,
   "metadata": {},
   "outputs": [],
   "source": []
  }
 ],
 "metadata": {
  "kernelspec": {
   "display_name": "R",
   "language": "R",
   "name": "ir"
  },
  "language_info": {
   "codemirror_mode": "r",
   "file_extension": ".r",
   "mimetype": "text/x-r-source",
   "name": "R",
   "pygments_lexer": "r",
   "version": "3.6.1"
  }
 },
 "nbformat": 4,
 "nbformat_minor": 2
}
