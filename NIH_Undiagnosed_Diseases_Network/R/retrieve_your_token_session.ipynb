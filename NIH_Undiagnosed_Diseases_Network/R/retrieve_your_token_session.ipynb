{
 "cells": [
  {
   "cell_type": "markdown",
   "metadata": {},
   "source": [
    "# Connecting to UDN HPDN resource\n",
    "\n",
    "To connect to a data resource we need to:\n",
    "\n",
    "* Get the resource URL and UUID \n",
    "* Get your session token\n",
    "\n",
    "### What is a UUID?\n",
    "\n",
    "Brief description of what is and how to get it for your data resource.\n",
    "\n",
    "### What is a token?\n",
    "\n",
    "Brief description of what is a signed token.\n",
    "\n",
    "## Get your signed token\n",
    "\n",
    "In this notebook is illustrated how to get your token session to connect to HPDS resources.\n",
    "\n",
    "### 1. Create a blank text file to store your token"
   ]
  },
  {
   "cell_type": "code",
   "execution_count": 1,
   "metadata": {},
   "outputs": [
    {
     "data": {
      "text/html": [
       "TRUE"
      ],
      "text/latex": [
       "TRUE"
      ],
      "text/markdown": [
       "TRUE"
      ],
      "text/plain": [
       "[1] TRUE"
      ]
     },
     "metadata": {},
     "output_type": "display_data"
    }
   ],
   "source": [
    "file_name = \"token.txt\"\n",
    "if(!file.exists(file_name)) file.create(file_name)"
   ]
  },
  {
   "cell_type": "markdown",
   "metadata": {},
   "source": [
    "### 2. Manually, access-copy-paste your token\n",
    "\n",
    "To get your token, follow the next steps:\n",
    "\n",
    "1. https://udn.hms.harvard.edu\n",
    "\n",
    "2. JSON.parse(sessionStorage.session).token on the web brower >> devtools\n",
    "\n",
    "3. Copy the token\n",
    "\n",
    "4. Open `token.txt` with your favorite editor and paste the token. Important, remove the start/end quotes"
   ]
  }
 ],
 "metadata": {
  "kernelspec": {
   "display_name": "R",
   "language": "R",
   "name": "ir"
  },
  "language_info": {
   "codemirror_mode": "r",
   "file_extension": ".r",
   "mimetype": "text/x-r-source",
   "name": "R",
   "pygments_lexer": "r",
   "version": "3.6.1"
  }
 },
 "nbformat": 4,
 "nbformat_minor": 2
}
